{
 "cells": [
  {
   "cell_type": "code",
   "execution_count": 69,
   "metadata": {},
   "outputs": [
    {
     "name": "stdout",
     "output_type": "stream",
     "text": [
      "Requirement already satisfied: praw in /Users/akaashkambath/miniconda3/lib/python3.7/site-packages (7.0.0)\n",
      "Requirement already satisfied: prawcore<2.0,>=1.3.0 in /Users/akaashkambath/miniconda3/lib/python3.7/site-packages (from praw) (1.3.0)\n",
      "Requirement already satisfied: update-checker>=0.16 in /Users/akaashkambath/miniconda3/lib/python3.7/site-packages (from praw) (0.18.0)\n",
      "Requirement already satisfied: websocket-client>=0.54.0 in /Users/akaashkambath/miniconda3/lib/python3.7/site-packages (from praw) (0.57.0)\n",
      "Requirement already satisfied: requests<3.0,>=2.6.0 in /Users/akaashkambath/miniconda3/lib/python3.7/site-packages (from prawcore<2.0,>=1.3.0->praw) (2.22.0)\n",
      "Requirement already satisfied: six in /Users/akaashkambath/miniconda3/lib/python3.7/site-packages (from websocket-client>=0.54.0->praw) (1.12.0)\n",
      "Requirement already satisfied: urllib3!=1.25.0,!=1.25.1,<1.26,>=1.21.1 in /Users/akaashkambath/miniconda3/lib/python3.7/site-packages (from requests<3.0,>=2.6.0->prawcore<2.0,>=1.3.0->praw) (1.24.2)\n",
      "Requirement already satisfied: chardet<3.1.0,>=3.0.2 in /Users/akaashkambath/miniconda3/lib/python3.7/site-packages (from requests<3.0,>=2.6.0->prawcore<2.0,>=1.3.0->praw) (3.0.4)\n",
      "Requirement already satisfied: idna<2.9,>=2.5 in /Users/akaashkambath/miniconda3/lib/python3.7/site-packages (from requests<3.0,>=2.6.0->prawcore<2.0,>=1.3.0->praw) (2.8)\n",
      "Requirement already satisfied: certifi>=2017.4.17 in /Users/akaashkambath/miniconda3/lib/python3.7/site-packages (from requests<3.0,>=2.6.0->prawcore<2.0,>=1.3.0->praw) (2020.12.5)\n",
      "\u001b[33mWARNING: You are using pip version 20.1.1; however, version 21.0.1 is available.\n",
      "You should consider upgrading via the '/Users/akaashkambath/miniconda3/bin/python -m pip install --upgrade pip' command.\u001b[0m\n",
      "Note: you may need to restart the kernel to use updated packages.\n"
     ]
    }
   ],
   "source": [
    "pip install praw"
   ]
  },
  {
   "cell_type": "code",
   "execution_count": 70,
   "metadata": {},
   "outputs": [],
   "source": [
    "import praw\n",
    "import pandas as pd"
   ]
  },
  {
   "cell_type": "code",
   "execution_count": 71,
   "metadata": {
    "scrolled": true
   },
   "outputs": [],
   "source": [
    "reddit = praw.Reddit(client_id='Zv2KxMP5vx0Q6g', client_secret='NoeyEJSkPNA9IRNXtIYiarJOX-_94g', user_agent='WebScraping CVD')"
   ]
  },
  {
   "cell_type": "code",
   "execution_count": 72,
   "metadata": {},
   "outputs": [],
   "source": [
    "def get_subreddit_posts(sub_name, search_term):\n",
    "    submissions = reddit.subreddit(sub_name).search(search_term)\n",
    "    return submissions\n",
    "#     for post in posts:\n",
    "#         print(post.title)"
   ]
  },
  {
   "cell_type": "code",
   "execution_count": 73,
   "metadata": {},
   "outputs": [],
   "source": [
    "topics_dict = { \"title\":[], \\\n",
    "                \"comments\":[], \\\n",
    "                \"score\":[], \\\n",
    "                \"id\":[], \\\n",
    "                \"num_comments\": [], \\\n",
    "                \"created\": [], \\\n",
    "                \"body\":[]}"
   ]
  },
  {
   "cell_type": "code",
   "execution_count": 74,
   "metadata": {},
   "outputs": [],
   "source": [
    "def populate_dict(submissions):\n",
    "    for submission in submissions:\n",
    "        submission.comments.replace_more(limit=None)\n",
    "        comments = [comment.body for comment in submission.comments.list()]\n",
    "        topics_dict[\"title\"].append(submission.title)\n",
    "        topics_dict[\"comments\"].append(comments)\n",
    "        topics_dict[\"score\"].append(submission.score)\n",
    "        topics_dict[\"id\"].append(submission.id)\n",
    "        topics_dict[\"num_comments\"].append(submission.num_comments)\n",
    "        topics_dict[\"created\"].append(submission.created)\n",
    "        topics_dict[\"body\"].append(submission.selftext)"
   ]
  },
  {
   "cell_type": "code",
   "execution_count": 75,
   "metadata": {},
   "outputs": [],
   "source": [
    "terms = ['Heart','Bypass','Sepsis','Pass','Coronary artery',\n",
    "         'Cardiology','Cardiac','PCI','Heart','Attack',\n",
    "         'Stroke','Stent','Surgery','Grafts','Critical','Condition']\n",
    "swetha_terms = ['heart surgery', 'heart attack', 'ekg', 'cardiac', 'stent', 'cholesterol', 'stroke', 'chest pain']"
   ]
  },
  {
   "cell_type": "code",
   "execution_count": 76,
   "metadata": {},
   "outputs": [],
   "source": [
    "for term in swetha_terms:\n",
    "    submissions = get_subreddit_posts('AskMen', term)\n",
    "    populate_dict(submissions)"
   ]
  },
  {
   "cell_type": "code",
   "execution_count": 77,
   "metadata": {},
   "outputs": [],
   "source": [
    "topics_data = pd.DataFrame(topics_dict)"
   ]
  },
  {
   "cell_type": "code",
   "execution_count": 78,
   "metadata": {},
   "outputs": [
    {
     "data": {
      "text/html": [
       "<div>\n",
       "<style scoped>\n",
       "    .dataframe tbody tr th:only-of-type {\n",
       "        vertical-align: middle;\n",
       "    }\n",
       "\n",
       "    .dataframe tbody tr th {\n",
       "        vertical-align: top;\n",
       "    }\n",
       "\n",
       "    .dataframe thead th {\n",
       "        text-align: right;\n",
       "    }\n",
       "</style>\n",
       "<table border=\"1\" class=\"dataframe\">\n",
       "  <thead>\n",
       "    <tr style=\"text-align: right;\">\n",
       "      <th></th>\n",
       "      <th>title</th>\n",
       "      <th>comments</th>\n",
       "      <th>score</th>\n",
       "      <th>id</th>\n",
       "      <th>num_comments</th>\n",
       "      <th>created</th>\n",
       "      <th>body</th>\n",
       "    </tr>\n",
       "  </thead>\n",
       "  <tbody>\n",
       "    <tr>\n",
       "      <th>0</th>\n",
       "      <td>What would you do if you woke up in the middle...</td>\n",
       "      <td>[I’d look at the surgeon and say, “what’s up, ...</td>\n",
       "      <td>5</td>\n",
       "      <td>k53quc</td>\n",
       "      <td>21</td>\n",
       "      <td>1.606918e+09</td>\n",
       "      <td>Would you be in pain?</td>\n",
       "    </tr>\n",
       "    <tr>\n",
       "      <th>1</th>\n",
       "      <td>What are your thoughts on younger women with h...</td>\n",
       "      <td>[If she’s beautiful then she’s beautiful. The ...</td>\n",
       "      <td>6</td>\n",
       "      <td>79uby7</td>\n",
       "      <td>55</td>\n",
       "      <td>1.509466e+09</td>\n",
       "      <td></td>\n",
       "    </tr>\n",
       "    <tr>\n",
       "      <th>2</th>\n",
       "      <td>How can you fix a broken relationship with you...</td>\n",
       "      <td>[Being an adult means that you get to choose w...</td>\n",
       "      <td>19</td>\n",
       "      <td>jtxhq3</td>\n",
       "      <td>21</td>\n",
       "      <td>1.605365e+09</td>\n",
       "      <td>My Father adopted me when I was 10, so our rel...</td>\n",
       "    </tr>\n",
       "    <tr>\n",
       "      <th>3</th>\n",
       "      <td>How to deal with grief?</td>\n",
       "      <td>[Don't swallow it. It's okay to swallow a cert...</td>\n",
       "      <td>7</td>\n",
       "      <td>j1cf5h</td>\n",
       "      <td>12</td>\n",
       "      <td>1.601330e+09</td>\n",
       "      <td>Alright boys, need your help with this one.\\n\\...</td>\n",
       "    </tr>\n",
       "    <tr>\n",
       "      <th>4</th>\n",
       "      <td>How do I get more comfortable with my surgical...</td>\n",
       "      <td>[Just own it. I have an ex with huge long scar...</td>\n",
       "      <td>9</td>\n",
       "      <td>8cad00</td>\n",
       "      <td>30</td>\n",
       "      <td>1.523768e+09</td>\n",
       "      <td>So I have around 11 scars in total. 3 in 1 in ...</td>\n",
       "    </tr>\n",
       "  </tbody>\n",
       "</table>\n",
       "</div>"
      ],
      "text/plain": [
       "                                               title  \\\n",
       "0  What would you do if you woke up in the middle...   \n",
       "1  What are your thoughts on younger women with h...   \n",
       "2  How can you fix a broken relationship with you...   \n",
       "3                            How to deal with grief?   \n",
       "4  How do I get more comfortable with my surgical...   \n",
       "\n",
       "                                            comments  score      id  \\\n",
       "0  [I’d look at the surgeon and say, “what’s up, ...      5  k53quc   \n",
       "1  [If she’s beautiful then she’s beautiful. The ...      6  79uby7   \n",
       "2  [Being an adult means that you get to choose w...     19  jtxhq3   \n",
       "3  [Don't swallow it. It's okay to swallow a cert...      7  j1cf5h   \n",
       "4  [Just own it. I have an ex with huge long scar...      9  8cad00   \n",
       "\n",
       "   num_comments       created  \\\n",
       "0            21  1.606918e+09   \n",
       "1            55  1.509466e+09   \n",
       "2            21  1.605365e+09   \n",
       "3            12  1.601330e+09   \n",
       "4            30  1.523768e+09   \n",
       "\n",
       "                                                body  \n",
       "0                              Would you be in pain?  \n",
       "1                                                     \n",
       "2  My Father adopted me when I was 10, so our rel...  \n",
       "3  Alright boys, need your help with this one.\\n\\...  \n",
       "4  So I have around 11 scars in total. 3 in 1 in ...  "
      ]
     },
     "execution_count": 78,
     "metadata": {},
     "output_type": "execute_result"
    }
   ],
   "source": [
    "topics_data.head(5)"
   ]
  },
  {
   "cell_type": "code",
   "execution_count": 79,
   "metadata": {},
   "outputs": [],
   "source": [
    "df = topics_data.explode('comments')\n",
    "df = df[df['comments'].notna()]"
   ]
  },
  {
   "cell_type": "code",
   "execution_count": 84,
   "metadata": {},
   "outputs": [
    {
     "data": {
      "text/plain": [
       "16139"
      ]
     },
     "execution_count": 84,
     "metadata": {},
     "output_type": "execute_result"
    }
   ],
   "source": [
    "len(df)"
   ]
  },
  {
   "cell_type": "code",
   "execution_count": 85,
   "metadata": {},
   "outputs": [],
   "source": [
    "or_swt = '|'.join(swetha_terms)"
   ]
  },
  {
   "cell_type": "code",
   "execution_count": 86,
   "metadata": {},
   "outputs": [],
   "source": [
    "filtered = df[df['comments'].str.contains(or_swt, case=False) | df['title'].str.contains(or_swt, case=False)]"
   ]
  },
  {
   "cell_type": "code",
   "execution_count": 87,
   "metadata": {},
   "outputs": [
    {
     "data": {
      "text/plain": [
       "1299"
      ]
     },
     "execution_count": 87,
     "metadata": {},
     "output_type": "execute_result"
    }
   ],
   "source": [
    "len(filtered)"
   ]
  },
  {
   "cell_type": "code",
   "execution_count": null,
   "metadata": {},
   "outputs": [],
   "source": []
  }
 ],
 "metadata": {
  "kernelspec": {
   "display_name": "Python 3",
   "language": "python",
   "name": "python3"
  },
  "language_info": {
   "codemirror_mode": {
    "name": "ipython",
    "version": 3
   },
   "file_extension": ".py",
   "mimetype": "text/x-python",
   "name": "python",
   "nbconvert_exporter": "python",
   "pygments_lexer": "ipython3",
   "version": "3.7.4"
  }
 },
 "nbformat": 4,
 "nbformat_minor": 4
}
