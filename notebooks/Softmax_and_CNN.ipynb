{
 "cells": [
  {
   "cell_type": "code",
   "execution_count": 1,
   "metadata": {
    "colab": {
     "base_uri": "https://localhost:8080/"
    },
    "id": "aRws2tIw0mR4",
    "outputId": "3f717477-494f-4c15-94bb-4317c1f373c8"
   },
   "outputs": [
    {
     "name": "stdout",
     "output_type": "stream",
     "text": [
      "Requirement already satisfied: gensim==4.0.1 in /Users/swethapola/opt/anaconda3/lib/python3.8/site-packages (4.0.1)\n",
      "Requirement already satisfied: scipy>=0.18.1 in /Users/swethapola/opt/anaconda3/lib/python3.8/site-packages (from gensim==4.0.1) (1.5.2)\n",
      "Requirement already satisfied: numpy>=1.11.3 in /Users/swethapola/opt/anaconda3/lib/python3.8/site-packages (from gensim==4.0.1) (1.19.2)\n",
      "Requirement already satisfied: smart-open>=1.8.1 in /Users/swethapola/opt/anaconda3/lib/python3.8/site-packages (from gensim==4.0.1) (5.0.0)\n"
     ]
    }
   ],
   "source": [
    "!pip install gensim==4.0.1"
   ]
  },
  {
   "cell_type": "code",
   "execution_count": 2,
   "metadata": {
    "colab": {
     "base_uri": "https://localhost:8080/"
    },
    "id": "UsSC5XsqcQRJ",
    "outputId": "ac04ed44-0e04-4ae0-eed7-f623a9b4c9cc"
   },
   "outputs": [
    {
     "name": "stdout",
     "output_type": "stream",
     "text": [
      "Collecting lime\n",
      "  Downloading lime-0.2.0.1.tar.gz (275 kB)\n",
      "\u001b[K     |████████████████████████████████| 275 kB 3.3 MB/s eta 0:00:01\n",
      "\u001b[?25hRequirement already satisfied: matplotlib in /Users/swethapola/opt/anaconda3/lib/python3.8/site-packages (from lime) (3.3.2)\n",
      "Requirement already satisfied: numpy in /Users/swethapola/opt/anaconda3/lib/python3.8/site-packages (from lime) (1.19.2)\n",
      "Requirement already satisfied: scipy in /Users/swethapola/opt/anaconda3/lib/python3.8/site-packages (from lime) (1.5.2)\n",
      "Requirement already satisfied: tqdm in /Users/swethapola/opt/anaconda3/lib/python3.8/site-packages (from lime) (4.50.2)\n",
      "Requirement already satisfied: scikit-learn>=0.18 in /Users/swethapola/opt/anaconda3/lib/python3.8/site-packages (from lime) (0.23.2)\n",
      "Requirement already satisfied: scikit-image>=0.12 in /Users/swethapola/opt/anaconda3/lib/python3.8/site-packages (from lime) (0.17.2)\n",
      "Requirement already satisfied: certifi>=2020.06.20 in /Users/swethapola/opt/anaconda3/lib/python3.8/site-packages (from matplotlib->lime) (2020.6.20)\n",
      "Requirement already satisfied: pillow>=6.2.0 in /Users/swethapola/opt/anaconda3/lib/python3.8/site-packages (from matplotlib->lime) (8.0.1)\n",
      "Requirement already satisfied: pyparsing!=2.0.4,!=2.1.2,!=2.1.6,>=2.0.3 in /Users/swethapola/opt/anaconda3/lib/python3.8/site-packages (from matplotlib->lime) (2.4.7)\n",
      "Requirement already satisfied: python-dateutil>=2.1 in /Users/swethapola/opt/anaconda3/lib/python3.8/site-packages (from matplotlib->lime) (2.8.1)\n",
      "Requirement already satisfied: kiwisolver>=1.0.1 in /Users/swethapola/opt/anaconda3/lib/python3.8/site-packages (from matplotlib->lime) (1.3.0)\n",
      "Requirement already satisfied: cycler>=0.10 in /Users/swethapola/opt/anaconda3/lib/python3.8/site-packages (from matplotlib->lime) (0.10.0)\n",
      "Requirement already satisfied: joblib>=0.11 in /Users/swethapola/opt/anaconda3/lib/python3.8/site-packages (from scikit-learn>=0.18->lime) (0.17.0)\n",
      "Requirement already satisfied: threadpoolctl>=2.0.0 in /Users/swethapola/opt/anaconda3/lib/python3.8/site-packages (from scikit-learn>=0.18->lime) (2.1.0)\n",
      "Requirement already satisfied: networkx>=2.0 in /Users/swethapola/opt/anaconda3/lib/python3.8/site-packages (from scikit-image>=0.12->lime) (2.5)\n",
      "Requirement already satisfied: imageio>=2.3.0 in /Users/swethapola/opt/anaconda3/lib/python3.8/site-packages (from scikit-image>=0.12->lime) (2.9.0)\n",
      "Requirement already satisfied: tifffile>=2019.7.26 in /Users/swethapola/opt/anaconda3/lib/python3.8/site-packages (from scikit-image>=0.12->lime) (2020.10.1)\n",
      "Requirement already satisfied: PyWavelets>=1.1.1 in /Users/swethapola/opt/anaconda3/lib/python3.8/site-packages (from scikit-image>=0.12->lime) (1.1.1)\n",
      "Requirement already satisfied: six>=1.5 in /Users/swethapola/opt/anaconda3/lib/python3.8/site-packages (from python-dateutil>=2.1->matplotlib->lime) (1.15.0)\n",
      "Requirement already satisfied: decorator>=4.3.0 in /Users/swethapola/opt/anaconda3/lib/python3.8/site-packages (from networkx>=2.0->scikit-image>=0.12->lime) (4.4.2)\n",
      "Building wheels for collected packages: lime\n",
      "  Building wheel for lime (setup.py) ... \u001b[?25ldone\n",
      "\u001b[?25h  Created wheel for lime: filename=lime-0.2.0.1-py3-none-any.whl size=283845 sha256=ceb53e0149528a2f61422f411251e477f43c77806ac1b309c35c63beab9aa627\n",
      "  Stored in directory: /Users/swethapola/Library/Caches/pip/wheels/e6/a6/20/cc1e293fcdb67ede666fed293cb895395e7ecceb4467779546\n",
      "Successfully built lime\n",
      "Installing collected packages: lime\n",
      "Successfully installed lime-0.2.0.1\n"
     ]
    }
   ],
   "source": [
    "!pip install lime"
   ]
  },
  {
   "cell_type": "code",
   "execution_count": 3,
   "metadata": {
    "colab": {
     "base_uri": "https://localhost:8080/"
    },
    "id": "W-Jvq27GsJdL",
    "outputId": "8c457702-4a9a-47c8-9a59-e6a2dbf84c6c"
   },
   "outputs": [],
   "source": [
    "import nltk\n",
    "#import lime\n",
    "from nltk.corpus import brown\n",
    "from nltk.data import find\n",
    "import numpy as np\n",
    "import pandas as pd\n",
    "import tensorflow as tf\n",
    "from tensorflow.keras.layers import Embedding, Input, Dense, Lambda, Dropout\n",
    "from tensorflow.keras.models import Model\n",
    "from gensim.models import Word2Vec\n",
    "from gensim.models import KeyedVectors\n",
    "from sklearn.model_selection import train_test_split\n",
    "from keras.preprocessing.sequence import pad_sequences\n",
    "from sklearn.model_selection import KFold\n",
    "from sklearn.metrics import classification_report"
   ]
  },
  {
   "cell_type": "code",
   "execution_count": 4,
   "metadata": {
    "id": "4d4SH7uFssDH"
   },
   "outputs": [],
   "source": [
    "# %%capture\n",
    "# !wget https://raw.githubusercontent.com/kashkambath/cvd-reddit-nlp-analysis/swetha/data/NN_Data.csv"
   ]
  },
  {
   "cell_type": "code",
   "execution_count": 5,
   "metadata": {
    "colab": {
     "base_uri": "https://localhost:8080/",
     "height": 204
    },
    "id": "F3yWIO5gsJdN",
    "outputId": "455098cb-545e-4bb4-eba4-cc297fb01e5c"
   },
   "outputs": [
    {
     "data": {
      "text/html": [
       "<div>\n",
       "<style scoped>\n",
       "    .dataframe tbody tr th:only-of-type {\n",
       "        vertical-align: middle;\n",
       "    }\n",
       "\n",
       "    .dataframe tbody tr th {\n",
       "        vertical-align: top;\n",
       "    }\n",
       "\n",
       "    .dataframe thead th {\n",
       "        text-align: right;\n",
       "    }\n",
       "</style>\n",
       "<table border=\"1\" class=\"dataframe\">\n",
       "  <thead>\n",
       "    <tr style=\"text-align: right;\">\n",
       "      <th></th>\n",
       "      <th>text</th>\n",
       "      <th>outcome</th>\n",
       "    </tr>\n",
       "  </thead>\n",
       "  <tbody>\n",
       "    <tr>\n",
       "      <th>0</th>\n",
       "      <td>My dad had a heart attack and spent over 7 min...</td>\n",
       "      <td>1.0</td>\n",
       "    </tr>\n",
       "    <tr>\n",
       "      <th>1</th>\n",
       "      <td>I had dangerous open heart surgery due to mult...</td>\n",
       "      <td>1.0</td>\n",
       "    </tr>\n",
       "    <tr>\n",
       "      <th>2</th>\n",
       "      <td>In June of 2020, my Dad collapsed in our yard ...</td>\n",
       "      <td>1.0</td>\n",
       "    </tr>\n",
       "    <tr>\n",
       "      <th>3</th>\n",
       "      <td>after my twin aunts were born, my grandma beca...</td>\n",
       "      <td>1.0</td>\n",
       "    </tr>\n",
       "    <tr>\n",
       "      <th>4</th>\n",
       "      <td>Not me but my mother is the most severe case I...</td>\n",
       "      <td>1.0</td>\n",
       "    </tr>\n",
       "  </tbody>\n",
       "</table>\n",
       "</div>"
      ],
      "text/plain": [
       "                                                text  outcome\n",
       "0  My dad had a heart attack and spent over 7 min...      1.0\n",
       "1  I had dangerous open heart surgery due to mult...      1.0\n",
       "2  In June of 2020, my Dad collapsed in our yard ...      1.0\n",
       "3  after my twin aunts were born, my grandma beca...      1.0\n",
       "4  Not me but my mother is the most severe case I...      1.0"
      ]
     },
     "execution_count": 5,
     "metadata": {},
     "output_type": "execute_result"
    }
   ],
   "source": [
    "df = pd.read_csv('data/NN_Data_2.0_cleaned_2.csv')\n",
    "if 'Unnamed: 0' in df.columns:\n",
    "  df = df.drop(columns=['Unnamed: 0'])\n",
    "df = df[df['text'].notna()] # remove missing rows\n",
    "df.head()"
   ]
  },
  {
   "cell_type": "code",
   "execution_count": 6,
   "metadata": {
    "id": "7F7viTAmaXH2"
   },
   "outputs": [],
   "source": [
    "df[\"no_punct\"] = df['text'].str.replace('[^\\w\\s]','')\n",
    "df['str_list'] = df.no_punct.apply(lambda s: s.split(' '))"
   ]
  },
  {
   "cell_type": "code",
   "execution_count": 7,
   "metadata": {
    "colab": {
     "base_uri": "https://localhost:8080/",
     "height": 204
    },
    "id": "RyD2k5dNtgMn",
    "outputId": "66bdc79c-92b5-464e-c689-aada0a385b98"
   },
   "outputs": [
    {
     "data": {
      "text/html": [
       "<div>\n",
       "<style scoped>\n",
       "    .dataframe tbody tr th:only-of-type {\n",
       "        vertical-align: middle;\n",
       "    }\n",
       "\n",
       "    .dataframe tbody tr th {\n",
       "        vertical-align: top;\n",
       "    }\n",
       "\n",
       "    .dataframe thead th {\n",
       "        text-align: right;\n",
       "    }\n",
       "</style>\n",
       "<table border=\"1\" class=\"dataframe\">\n",
       "  <thead>\n",
       "    <tr style=\"text-align: right;\">\n",
       "      <th></th>\n",
       "      <th>text</th>\n",
       "      <th>outcome</th>\n",
       "      <th>no_punct</th>\n",
       "      <th>str_list</th>\n",
       "    </tr>\n",
       "  </thead>\n",
       "  <tbody>\n",
       "    <tr>\n",
       "      <th>0</th>\n",
       "      <td>My dad had a heart attack and spent over 7 min...</td>\n",
       "      <td>1.0</td>\n",
       "      <td>My dad had a heart attack and spent over 7 min...</td>\n",
       "      <td>[My, dad, had, a, heart, attack, and, spent, o...</td>\n",
       "    </tr>\n",
       "    <tr>\n",
       "      <th>1</th>\n",
       "      <td>I had dangerous open heart surgery due to mult...</td>\n",
       "      <td>1.0</td>\n",
       "      <td>I had dangerous open heart surgery due to mult...</td>\n",
       "      <td>[I, had, dangerous, open, heart, surgery, due,...</td>\n",
       "    </tr>\n",
       "    <tr>\n",
       "      <th>2</th>\n",
       "      <td>In June of 2020, my Dad collapsed in our yard ...</td>\n",
       "      <td>1.0</td>\n",
       "      <td>In June of 2020 my Dad collapsed in our yard w...</td>\n",
       "      <td>[In, June, of, 2020, my, Dad, collapsed, in, o...</td>\n",
       "    </tr>\n",
       "    <tr>\n",
       "      <th>3</th>\n",
       "      <td>after my twin aunts were born, my grandma beca...</td>\n",
       "      <td>1.0</td>\n",
       "      <td>after my twin aunts were born my grandma becam...</td>\n",
       "      <td>[after, my, twin, aunts, were, born, my, grand...</td>\n",
       "    </tr>\n",
       "    <tr>\n",
       "      <th>4</th>\n",
       "      <td>Not me but my mother is the most severe case I...</td>\n",
       "      <td>1.0</td>\n",
       "      <td>Not me but my mother is the most severe case I...</td>\n",
       "      <td>[Not, me, but, my, mother, is, the, most, seve...</td>\n",
       "    </tr>\n",
       "  </tbody>\n",
       "</table>\n",
       "</div>"
      ],
      "text/plain": [
       "                                                text  outcome  \\\n",
       "0  My dad had a heart attack and spent over 7 min...      1.0   \n",
       "1  I had dangerous open heart surgery due to mult...      1.0   \n",
       "2  In June of 2020, my Dad collapsed in our yard ...      1.0   \n",
       "3  after my twin aunts were born, my grandma beca...      1.0   \n",
       "4  Not me but my mother is the most severe case I...      1.0   \n",
       "\n",
       "                                            no_punct  \\\n",
       "0  My dad had a heart attack and spent over 7 min...   \n",
       "1  I had dangerous open heart surgery due to mult...   \n",
       "2  In June of 2020 my Dad collapsed in our yard w...   \n",
       "3  after my twin aunts were born my grandma becam...   \n",
       "4  Not me but my mother is the most severe case I...   \n",
       "\n",
       "                                            str_list  \n",
       "0  [My, dad, had, a, heart, attack, and, spent, o...  \n",
       "1  [I, had, dangerous, open, heart, surgery, due,...  \n",
       "2  [In, June, of, 2020, my, Dad, collapsed, in, o...  \n",
       "3  [after, my, twin, aunts, were, born, my, grand...  \n",
       "4  [Not, me, but, my, mother, is, the, most, seve...  "
      ]
     },
     "execution_count": 7,
     "metadata": {},
     "output_type": "execute_result"
    }
   ],
   "source": [
    "df.head()"
   ]
  },
  {
   "cell_type": "code",
   "execution_count": 8,
   "metadata": {
    "colab": {
     "base_uri": "https://localhost:8080/"
    },
    "id": "qmwpdKaclcSH",
    "outputId": "248dec69-91d0-4c43-8e44-3f27e8d65e92"
   },
   "outputs": [
    {
     "data": {
      "text/plain": [
       "0.0    748\n",
       "1.0    697\n",
       "Name: outcome, dtype: int64"
      ]
     },
     "execution_count": 8,
     "metadata": {},
     "output_type": "execute_result"
    }
   ],
   "source": [
    "df['outcome'].value_counts()"
   ]
  },
  {
   "cell_type": "code",
   "execution_count": 9,
   "metadata": {},
   "outputs": [
    {
     "data": {
      "text/html": [
       "<div>\n",
       "<style scoped>\n",
       "    .dataframe tbody tr th:only-of-type {\n",
       "        vertical-align: middle;\n",
       "    }\n",
       "\n",
       "    .dataframe tbody tr th {\n",
       "        vertical-align: top;\n",
       "    }\n",
       "\n",
       "    .dataframe thead th {\n",
       "        text-align: right;\n",
       "    }\n",
       "</style>\n",
       "<table border=\"1\" class=\"dataframe\">\n",
       "  <thead>\n",
       "    <tr style=\"text-align: right;\">\n",
       "      <th></th>\n",
       "      <th>text</th>\n",
       "      <th>outcome</th>\n",
       "      <th>no_punct</th>\n",
       "      <th>str_list</th>\n",
       "    </tr>\n",
       "  </thead>\n",
       "  <tbody>\n",
       "    <tr>\n",
       "      <th>1997</th>\n",
       "      <td>Im so so sorry for your loss. I feel your pain...</td>\n",
       "      <td>0.0</td>\n",
       "      <td>Im so so sorry for your loss I feel your pain ...</td>\n",
       "      <td>[Im, so, so, sorry, for, your, loss, I, feel, ...</td>\n",
       "    </tr>\n",
       "    <tr>\n",
       "      <th>2251</th>\n",
       "      <td>Wanted to be a police officer; after not passi...</td>\n",
       "      <td>0.0</td>\n",
       "      <td>Wanted to be a police officer after not passin...</td>\n",
       "      <td>[Wanted, to, be, a, police, officer, after, no...</td>\n",
       "    </tr>\n",
       "    <tr>\n",
       "      <th>2316</th>\n",
       "      <td>You don’t and you don’t compare yourself to ot...</td>\n",
       "      <td>0.0</td>\n",
       "      <td>You dont and you dont compare yourself to othe...</td>\n",
       "      <td>[You, dont, and, you, dont, compare, yourself,...</td>\n",
       "    </tr>\n",
       "    <tr>\n",
       "      <th>2576</th>\n",
       "      <td>I grew up with a high functioning closet alcoh...</td>\n",
       "      <td>0.0</td>\n",
       "      <td>I grew up with a high functioning closet alcoh...</td>\n",
       "      <td>[I, grew, up, with, a, high, functioning, clos...</td>\n",
       "    </tr>\n",
       "    <tr>\n",
       "      <th>1347</th>\n",
       "      <td>Sounds like anxiety or a panic attack for sure...</td>\n",
       "      <td>0.0</td>\n",
       "      <td>Sounds like anxiety or a panic attack for sure...</td>\n",
       "      <td>[Sounds, like, anxiety, or, a, panic, attack, ...</td>\n",
       "    </tr>\n",
       "  </tbody>\n",
       "</table>\n",
       "</div>"
      ],
      "text/plain": [
       "                                                   text  outcome  \\\n",
       "1997  Im so so sorry for your loss. I feel your pain...      0.0   \n",
       "2251  Wanted to be a police officer; after not passi...      0.0   \n",
       "2316  You don’t and you don’t compare yourself to ot...      0.0   \n",
       "2576  I grew up with a high functioning closet alcoh...      0.0   \n",
       "1347  Sounds like anxiety or a panic attack for sure...      0.0   \n",
       "\n",
       "                                               no_punct  \\\n",
       "1997  Im so so sorry for your loss I feel your pain ...   \n",
       "2251  Wanted to be a police officer after not passin...   \n",
       "2316  You dont and you dont compare yourself to othe...   \n",
       "2576  I grew up with a high functioning closet alcoh...   \n",
       "1347  Sounds like anxiety or a panic attack for sure...   \n",
       "\n",
       "                                               str_list  \n",
       "1997  [Im, so, so, sorry, for, your, loss, I, feel, ...  \n",
       "2251  [Wanted, to, be, a, police, officer, after, no...  \n",
       "2316  [You, dont, and, you, dont, compare, yourself,...  \n",
       "2576  [I, grew, up, with, a, high, functioning, clos...  \n",
       "1347  [Sounds, like, anxiety, or, a, panic, attack, ...  "
      ]
     },
     "execution_count": 9,
     "metadata": {},
     "output_type": "execute_result"
    }
   ],
   "source": [
    "men = df[df[\"outcome\"]==0].sample(n=697, random_state=1) #just for the sake of balancing\n",
    "women = df[df[\"outcome\"]==1]\n",
    "\n",
    "df = pd.concat([men,women])\n",
    "df.head()"
   ]
  },
  {
   "cell_type": "code",
   "execution_count": 10,
   "metadata": {
    "id": "gypUtes8sJdO"
   },
   "outputs": [],
   "source": [
    "w2v = Word2Vec(df['str_list'].tolist(), min_count=1, vector_size= 300, workers=3, window =3, sg = 1)"
   ]
  },
  {
   "cell_type": "code",
   "execution_count": 11,
   "metadata": {
    "id": "BJ499TMbsJdO"
   },
   "outputs": [],
   "source": [
    "kv = w2v.wv"
   ]
  },
  {
   "cell_type": "code",
   "execution_count": 12,
   "metadata": {
    "id": "uyzBKpT7sJdO"
   },
   "outputs": [],
   "source": [
    "EMBEDDING_DIM = len(kv['heart'])      # we know... it's 300\n",
    "\n",
    "# initialize embedding matrix and word-to-id map:\n",
    "embedding_matrix = kv.vectors\n",
    "vocab_dict = kv.key_to_index"
   ]
  },
  {
   "cell_type": "code",
   "execution_count": 13,
   "metadata": {
    "colab": {
     "base_uri": "https://localhost:8080/"
    },
    "id": "AdaMBV9pBCva",
    "outputId": "0312536f-8e20-4ac6-90da-0a380f158c98"
   },
   "outputs": [
    {
     "data": {
      "text/plain": [
       "(14358, 300)"
      ]
     },
     "execution_count": 13,
     "metadata": {},
     "output_type": "execute_result"
    }
   ],
   "source": [
    "embedding_matrix.shape"
   ]
  },
  {
   "cell_type": "code",
   "execution_count": 14,
   "metadata": {
    "colab": {
     "base_uri": "https://localhost:8080/"
    },
    "id": "yQsQGwHfBLOi",
    "outputId": "8cdd7845-fb93-4604-a331-d027fbabd54c"
   },
   "outputs": [
    {
     "data": {
      "text/plain": [
       "[('to', 0),\n",
       " ('I', 1),\n",
       " ('and', 2),\n",
       " ('the', 3),\n",
       " ('a', 4),\n",
       " ('of', 5),\n",
       " ('my', 6),\n",
       " ('in', 7),\n",
       " ('you', 8),\n",
       " ('it', 9),\n",
       " ('that', 10),\n",
       " ('was', 11),\n",
       " ('', 12),\n",
       " ('for', 13),\n",
       " ('is', 14),\n",
       " ('with', 15),\n",
       " ('have', 16),\n",
       " ('but', 17),\n",
       " ('me', 18),\n",
       " ('on', 19)]"
      ]
     },
     "execution_count": 14,
     "metadata": {},
     "output_type": "execute_result"
    }
   ],
   "source": [
    "list(vocab_dict.items())[:20]"
   ]
  },
  {
   "cell_type": "code",
   "execution_count": 15,
   "metadata": {
    "id": "5N_to6o-sJdQ"
   },
   "outputs": [],
   "source": [
    "def sents_to_ids(sentences):\n",
    "    \"\"\"\n",
    "    converting a list of strings to a list of lists of word ids\n",
    "    \"\"\"\n",
    "    text_ids = [vocab_dict[word] for word in sentences]\n",
    "    return np.asarray(text_ids).astype(np.int64)"
   ]
  },
  {
   "cell_type": "code",
   "execution_count": 16,
   "metadata": {
    "id": "sOZ_r12WsJdQ"
   },
   "outputs": [],
   "source": [
    "df[\"id_list\"] = df[\"str_list\"].apply(sents_to_ids)\n",
    "# df[\"outcome_2d\"] = df[\"outcome\"].apply(lambda x: np.asarray([x]).astype(np.int64))\n",
    "X = np.array(df[\"id_list\"])\n",
    "# y = np.array(df[\"outcome_2d\"])\n",
    "y = np.array(df['outcome'].tolist()).astype('float32')"
   ]
  },
  {
   "cell_type": "code",
   "execution_count": 17,
   "metadata": {
    "colab": {
     "base_uri": "https://localhost:8080/",
     "height": 204
    },
    "id": "2kFzXs6HsJdQ",
    "outputId": "a588e8f8-30ba-4384-a582-b92f0977a899"
   },
   "outputs": [
    {
     "data": {
      "text/html": [
       "<div>\n",
       "<style scoped>\n",
       "    .dataframe tbody tr th:only-of-type {\n",
       "        vertical-align: middle;\n",
       "    }\n",
       "\n",
       "    .dataframe tbody tr th {\n",
       "        vertical-align: top;\n",
       "    }\n",
       "\n",
       "    .dataframe thead th {\n",
       "        text-align: right;\n",
       "    }\n",
       "</style>\n",
       "<table border=\"1\" class=\"dataframe\">\n",
       "  <thead>\n",
       "    <tr style=\"text-align: right;\">\n",
       "      <th></th>\n",
       "      <th>str_list</th>\n",
       "      <th>id_list</th>\n",
       "    </tr>\n",
       "  </thead>\n",
       "  <tbody>\n",
       "    <tr>\n",
       "      <th>1997</th>\n",
       "      <td>[Im, so, so, sorry, for, your, loss, I, feel, ...</td>\n",
       "      <td>[36, 27, 27, 477, 13, 25, 458, 1, 94, 25, 100,...</td>\n",
       "    </tr>\n",
       "    <tr>\n",
       "      <th>2251</th>\n",
       "      <td>[Wanted, to, be, a, police, officer, after, no...</td>\n",
       "      <td>[4622, 0, 21, 4, 2329, 4711, 110, 26, 203, 3, ...</td>\n",
       "    </tr>\n",
       "    <tr>\n",
       "      <th>2316</th>\n",
       "      <td>[You, dont, and, you, dont, compare, yourself,...</td>\n",
       "      <td>[153, 47, 2, 8, 47, 2733, 177, 0, 107, 120, 12...</td>\n",
       "    </tr>\n",
       "    <tr>\n",
       "      <th>2576</th>\n",
       "      <td>[I, grew, up, with, a, high, functioning, clos...</td>\n",
       "      <td>[1, 760, 51, 15, 4, 277, 4026, 2766, 1826, 185...</td>\n",
       "    </tr>\n",
       "    <tr>\n",
       "      <th>1347</th>\n",
       "      <td>[Sounds, like, anxiety, or, a, panic, attack, ...</td>\n",
       "      <td>[2745, 34, 337, 24, 4, 447, 84, 13, 189, 1545,...</td>\n",
       "    </tr>\n",
       "  </tbody>\n",
       "</table>\n",
       "</div>"
      ],
      "text/plain": [
       "                                               str_list  \\\n",
       "1997  [Im, so, so, sorry, for, your, loss, I, feel, ...   \n",
       "2251  [Wanted, to, be, a, police, officer, after, no...   \n",
       "2316  [You, dont, and, you, dont, compare, yourself,...   \n",
       "2576  [I, grew, up, with, a, high, functioning, clos...   \n",
       "1347  [Sounds, like, anxiety, or, a, panic, attack, ...   \n",
       "\n",
       "                                                id_list  \n",
       "1997  [36, 27, 27, 477, 13, 25, 458, 1, 94, 25, 100,...  \n",
       "2251  [4622, 0, 21, 4, 2329, 4711, 110, 26, 203, 3, ...  \n",
       "2316  [153, 47, 2, 8, 47, 2733, 177, 0, 107, 120, 12...  \n",
       "2576  [1, 760, 51, 15, 4, 277, 4026, 2766, 1826, 185...  \n",
       "1347  [2745, 34, 337, 24, 4, 447, 84, 13, 189, 1545,...  "
      ]
     },
     "execution_count": 17,
     "metadata": {},
     "output_type": "execute_result"
    }
   ],
   "source": [
    "df[[\"str_list\", \"id_list\"]].head()"
   ]
  },
  {
   "cell_type": "code",
   "execution_count": 18,
   "metadata": {
    "id": "pv5C-xgKCged"
   },
   "outputs": [],
   "source": [
    "X = pad_sequences(X).astype('float32') # zero pre-padding"
   ]
  },
  {
   "cell_type": "code",
   "execution_count": 19,
   "metadata": {
    "colab": {
     "base_uri": "https://localhost:8080/"
    },
    "id": "Y8047o5oTtnO",
    "outputId": "f2b4c4b2-2be3-4803-b743-7ba9fe3fc1f4"
   },
   "outputs": [
    {
     "data": {
      "text/plain": [
       "(1394, 2286)"
      ]
     },
     "execution_count": 19,
     "metadata": {},
     "output_type": "execute_result"
    }
   ],
   "source": [
    "X.shape"
   ]
  },
  {
   "cell_type": "code",
   "execution_count": 20,
   "metadata": {
    "id": "6SJMFiJcsJdP"
   },
   "outputs": [],
   "source": [
    "MAX_SEQUENCE_LENGTH = X.shape[1]  # Keras' embedding layer expects a specific input length. Padding is often needed here.\n",
    "\n",
    "embedding_layer = Embedding(embedding_matrix.shape[0],\n",
    "                            embedding_matrix.shape[1],\n",
    "                            embeddings_initializer=tf.keras.initializers.Constant(embedding_matrix),\n",
    "                            input_length=MAX_SEQUENCE_LENGTH,\n",
    "                            trainable=False)"
   ]
  },
  {
   "cell_type": "code",
   "execution_count": 21,
   "metadata": {
    "id": "VVTnXZPAsJdR"
   },
   "outputs": [],
   "source": [
    "X_train, X_test, y_train, y_test = train_test_split(X, y, test_size=0.3, random_state=1, stratify=y)"
   ]
  },
  {
   "cell_type": "markdown",
   "metadata": {},
   "source": [
    "# Basic Softmax Classifier"
   ]
  },
  {
   "cell_type": "code",
   "execution_count": 22,
   "metadata": {
    "id": "hDxh3MaTdxgm"
   },
   "outputs": [],
   "source": [
    "try:\n",
    "    del reg_model\n",
    "except:\n",
    "    pass\n",
    "\n",
    "reg_model = tf.keras.Sequential()\n",
    "\n",
    "reg_model.add(embedding_layer)                                        # embedding layer\n",
    "\n",
    "reg_model.add(tf.keras.layers.GlobalMaxPooling1D())\n",
    "\n",
    "reg_model.add(Dense(200, activation='relu'))                          # hidden layer\n",
    "\n",
    "reg_model.add(Dense(1, activation='sigmoid'))                         # classification layer"
   ]
  },
  {
   "cell_type": "code",
   "execution_count": 23,
   "metadata": {
    "colab": {
     "base_uri": "https://localhost:8080/"
    },
    "id": "YGRh2vNmd-G5",
    "outputId": "88bdf807-a189-468f-bda6-9246f81f80cd"
   },
   "outputs": [
    {
     "name": "stdout",
     "output_type": "stream",
     "text": [
      "Model: \"sequential\"\n",
      "_________________________________________________________________\n",
      "Layer (type)                 Output Shape              Param #   \n",
      "=================================================================\n",
      "embedding (Embedding)        (None, 2286, 300)         4307400   \n",
      "_________________________________________________________________\n",
      "global_max_pooling1d (Global (None, 300)               0         \n",
      "_________________________________________________________________\n",
      "dense (Dense)                (None, 200)               60200     \n",
      "_________________________________________________________________\n",
      "dense_1 (Dense)              (None, 1)                 201       \n",
      "=================================================================\n",
      "Total params: 4,367,801\n",
      "Trainable params: 60,401\n",
      "Non-trainable params: 4,307,400\n",
      "_________________________________________________________________\n"
     ]
    }
   ],
   "source": [
    "reg_model.summary()"
   ]
  },
  {
   "cell_type": "code",
   "execution_count": 24,
   "metadata": {
    "colab": {
     "base_uri": "https://localhost:8080/"
    },
    "id": "z6GkDyVteDLv",
    "outputId": "84a17148-14a5-4e38-b778-6a40dcd51d47"
   },
   "outputs": [
    {
     "name": "stdout",
     "output_type": "stream",
     "text": [
      "Epoch 1/20\n",
      "31/31 [==============================] - 5s 104ms/step - loss: 0.7022 - accuracy: 0.0000e+00 - recall: 0.4504 - precision: 0.4791 - auc: 0.4861 - val_loss: 0.6924 - val_accuracy: 0.0000e+00 - val_recall: 0.9619 - val_precision: 0.4988 - val_auc: 0.5616\n",
      "Epoch 2/20\n",
      "31/31 [==============================] - 2s 52ms/step - loss: 0.6899 - accuracy: 0.0000e+00 - recall: 0.8300 - precision: 0.5319 - auc: 0.5345 - val_loss: 0.7113 - val_accuracy: 0.0000e+00 - val_recall: 1.0000 - val_precision: 0.5012 - val_auc: 0.6009\n",
      "Epoch 3/20\n",
      "31/31 [==============================] - 2s 58ms/step - loss: 0.7082 - accuracy: 0.0000e+00 - recall: 0.6229 - precision: 0.4794 - auc: 0.5318 - val_loss: 0.6858 - val_accuracy: 0.0000e+00 - val_recall: 0.3905 - val_precision: 0.5503 - val_auc: 0.5796\n",
      "Epoch 4/20\n",
      "31/31 [==============================] - 2s 61ms/step - loss: 0.6817 - accuracy: 0.0000e+00 - recall: 0.5528 - precision: 0.5956 - auc: 0.6064 - val_loss: 0.6825 - val_accuracy: 0.0000e+00 - val_recall: 0.4381 - val_precision: 0.5412 - val_auc: 0.5884\n",
      "Epoch 5/20\n",
      "31/31 [==============================] - 2s 75ms/step - loss: 0.6769 - accuracy: 0.0000e+00 - recall: 0.4264 - precision: 0.6210 - auc: 0.6334 - val_loss: 0.6822 - val_accuracy: 0.0000e+00 - val_recall: 0.4238 - val_precision: 0.5329 - val_auc: 0.5870\n",
      "Epoch 6/20\n",
      "31/31 [==============================] - 2s 63ms/step - loss: 0.6750 - accuracy: 0.0000e+00 - recall: 0.6204 - precision: 0.5839 - auc: 0.6314 - val_loss: 0.6813 - val_accuracy: 0.0000e+00 - val_recall: 0.4429 - val_precision: 0.5671 - val_auc: 0.5901\n",
      "Epoch 7/20\n",
      "31/31 [==============================] - 2s 61ms/step - loss: 0.6756 - accuracy: 0.0000e+00 - recall: 0.6357 - precision: 0.5763 - auc: 0.6170 - val_loss: 0.7069 - val_accuracy: 0.0000e+00 - val_recall: 0.0667 - val_precision: 0.7368 - val_auc: 0.5844\n",
      "Epoch 8/20\n",
      "31/31 [==============================] - 2s 68ms/step - loss: 0.6730 - accuracy: 0.0000e+00 - recall: 0.4482 - precision: 0.6161 - auc: 0.6269 - val_loss: 0.6781 - val_accuracy: 0.0000e+00 - val_recall: 0.5381 - val_precision: 0.5622 - val_auc: 0.5961\n",
      "Epoch 9/20\n",
      "31/31 [==============================] - 2s 67ms/step - loss: 0.6771 - accuracy: 0.0000e+00 - recall: 0.4017 - precision: 0.5955 - auc: 0.6158 - val_loss: 0.6899 - val_accuracy: 0.0000e+00 - val_recall: 0.9190 - val_precision: 0.5273 - val_auc: 0.6000\n",
      "Epoch 10/20\n",
      "31/31 [==============================] - 1s 48ms/step - loss: 0.6736 - accuracy: 0.0000e+00 - recall: 0.7173 - precision: 0.5740 - auc: 0.6310 - val_loss: 0.6937 - val_accuracy: 0.0000e+00 - val_recall: 0.1619 - val_precision: 0.5574 - val_auc: 0.5898\n",
      "Epoch 11/20\n",
      "31/31 [==============================] - 1s 45ms/step - loss: 0.6588 - accuracy: 0.0000e+00 - recall: 0.6179 - precision: 0.6205 - auc: 0.6721 - val_loss: 0.6762 - val_accuracy: 0.0000e+00 - val_recall: 0.6429 - val_precision: 0.5649 - val_auc: 0.6022\n",
      "Epoch 12/20\n",
      "31/31 [==============================] - 1s 45ms/step - loss: 0.6651 - accuracy: 0.0000e+00 - recall: 0.6649 - precision: 0.5593 - auc: 0.6522 - val_loss: 0.6772 - val_accuracy: 0.0000e+00 - val_recall: 0.5143 - val_precision: 0.5714 - val_auc: 0.5971\n",
      "Epoch 13/20\n",
      "31/31 [==============================] - 1s 44ms/step - loss: 0.6730 - accuracy: 0.0000e+00 - recall: 0.5248 - precision: 0.6102 - auc: 0.6154 - val_loss: 0.6842 - val_accuracy: 0.0000e+00 - val_recall: 0.8571 - val_precision: 0.5405 - val_auc: 0.6068\n",
      "Epoch 14/20\n",
      "31/31 [==============================] - 1s 47ms/step - loss: 0.6647 - accuracy: 0.0000e+00 - recall: 0.6981 - precision: 0.5839 - auc: 0.6486 - val_loss: 0.6753 - val_accuracy: 0.0000e+00 - val_recall: 0.6333 - val_precision: 0.5660 - val_auc: 0.6029\n",
      "Epoch 15/20\n",
      "31/31 [==============================] - 1s 44ms/step - loss: 0.6582 - accuracy: 0.0000e+00 - recall: 0.6467 - precision: 0.5854 - auc: 0.6626 - val_loss: 0.6751 - val_accuracy: 0.0000e+00 - val_recall: 0.6190 - val_precision: 0.5677 - val_auc: 0.6032\n",
      "Epoch 16/20\n",
      "31/31 [==============================] - 1s 49ms/step - loss: 0.6549 - accuracy: 0.0000e+00 - recall: 0.6837 - precision: 0.6264 - auc: 0.6592 - val_loss: 0.6939 - val_accuracy: 0.0000e+00 - val_recall: 0.2524 - val_precision: 0.5889 - val_auc: 0.5943\n",
      "Epoch 17/20\n",
      "31/31 [==============================] - 1s 45ms/step - loss: 0.6609 - accuracy: 0.0000e+00 - recall: 0.4891 - precision: 0.6321 - auc: 0.6421 - val_loss: 0.6839 - val_accuracy: 0.0000e+00 - val_recall: 0.3476 - val_precision: 0.5615 - val_auc: 0.5993\n",
      "Epoch 18/20\n",
      "31/31 [==============================] - 2s 65ms/step - loss: 0.6527 - accuracy: 0.0000e+00 - recall: 0.6135 - precision: 0.6223 - auc: 0.6764 - val_loss: 0.6749 - val_accuracy: 0.0000e+00 - val_recall: 0.6190 - val_precision: 0.5677 - val_auc: 0.6044\n",
      "Epoch 19/20\n",
      "31/31 [==============================] - 2s 52ms/step - loss: 0.6544 - accuracy: 0.0000e+00 - recall: 0.5828 - precision: 0.5916 - auc: 0.6622 - val_loss: 0.6827 - val_accuracy: 0.0000e+00 - val_recall: 0.7810 - val_precision: 0.5541 - val_auc: 0.6075\n",
      "Epoch 20/20\n",
      "31/31 [==============================] - 2s 51ms/step - loss: 0.6478 - accuracy: 0.0000e+00 - recall: 0.7199 - precision: 0.6356 - auc: 0.6735 - val_loss: 0.6842 - val_accuracy: 0.0000e+00 - val_recall: 0.3714 - val_precision: 0.5778 - val_auc: 0.6038\n"
     ]
    },
    {
     "data": {
      "text/plain": [
       "<tensorflow.python.keras.callbacks.History at 0x7fe707bfa250>"
      ]
     },
     "execution_count": 24,
     "metadata": {},
     "output_type": "execute_result"
    }
   ],
   "source": [
    "reg_model.compile(optimizer='adam', loss='binary_crossentropy', metrics=[tf.keras.metrics.Accuracy(), \n",
    "                                                                        tf.keras.metrics.Recall(),\n",
    "                                                                       tf.keras.metrics.Precision(),\n",
    "                                                                       tf.keras.metrics.AUC()])\n",
    "reg_model.fit(X_train, y_train, validation_data=(X_test, y_test), epochs=20, verbose=1)"
   ]
  },
  {
   "cell_type": "markdown",
   "metadata": {
    "id": "UygHD2OCbZIe"
   },
   "source": [
    "## Metrics for Basic Softmax Classifier"
   ]
  },
  {
   "cell_type": "code",
   "execution_count": 25,
   "metadata": {
    "colab": {
     "base_uri": "https://localhost:8080/"
    },
    "id": "YDGWvR91bYd3",
    "outputId": "3346be10-e4cc-4f9c-df92-3d37134d1eda"
   },
   "outputs": [
    {
     "name": "stdout",
     "output_type": "stream",
     "text": [
      "              precision    recall  f1-score   support\n",
      "\n",
      "         0.0       0.54      0.73      0.62       209\n",
      "         1.0       0.58      0.37      0.45       210\n",
      "\n",
      "    accuracy                           0.55       419\n",
      "   macro avg       0.56      0.55      0.53       419\n",
      "weighted avg       0.56      0.55      0.53       419\n",
      "\n"
     ]
    }
   ],
   "source": [
    "y_pred_reg_model = reg_model.predict(X_test).round()\n",
    "print(classification_report(y_test, y_pred_reg_model))"
   ]
  },
  {
   "cell_type": "markdown",
   "metadata": {},
   "source": [
    "## CNN Model"
   ]
  },
  {
   "cell_type": "code",
   "execution_count": 27,
   "metadata": {
    "id": "xEnrIxhwsJdP"
   },
   "outputs": [],
   "source": [
    "try:\n",
    "    del tf_model\n",
    "except:\n",
    "    pass\n",
    "\n",
    "tf_model = tf.keras.Sequential()\n",
    "\n",
    "tf_model.add(embedding_layer)                                        # embedding layer\n",
    "\n",
    "\n",
    "tf_model.add(tf.keras.layers.Conv1D(\n",
    "    filters=5, \n",
    "    kernel_size=3, \n",
    "    strides=1, \n",
    "    padding='same', \n",
    "    activation='relu', \n",
    "    use_bias=True,\n",
    "    kernel_initializer='glorot_uniform', \n",
    "    bias_initializer='zeros')\n",
    "            )   \n",
    "\n",
    "tf_model.add(tf.keras.layers.GlobalMaxPooling1D())\n",
    "\n",
    "tf_model.add(Dense(100, activation='relu'))                          # hidden layer\n",
    "tf_model.add(Dense(1, activation='sigmoid'))                         # classification layer"
   ]
  },
  {
   "cell_type": "code",
   "execution_count": 28,
   "metadata": {
    "colab": {
     "base_uri": "https://localhost:8080/"
    },
    "id": "bkHQhl4WzWxX",
    "outputId": "339c5fd4-3225-4ab5-eb70-7aa323206226"
   },
   "outputs": [
    {
     "name": "stdout",
     "output_type": "stream",
     "text": [
      "Model: \"sequential_1\"\n",
      "_________________________________________________________________\n",
      "Layer (type)                 Output Shape              Param #   \n",
      "=================================================================\n",
      "embedding (Embedding)        (None, 2286, 300)         4307400   \n",
      "_________________________________________________________________\n",
      "conv1d (Conv1D)              (None, 2286, 5)           4505      \n",
      "_________________________________________________________________\n",
      "global_max_pooling1d_1 (Glob (None, 5)                 0         \n",
      "_________________________________________________________________\n",
      "dense_2 (Dense)              (None, 100)               600       \n",
      "_________________________________________________________________\n",
      "dense_3 (Dense)              (None, 1)                 101       \n",
      "=================================================================\n",
      "Total params: 4,312,606\n",
      "Trainable params: 5,206\n",
      "Non-trainable params: 4,307,400\n",
      "_________________________________________________________________\n"
     ]
    }
   ],
   "source": [
    "tf_model.summary()"
   ]
  },
  {
   "cell_type": "code",
   "execution_count": 29,
   "metadata": {
    "id": "rg9TeQDhsJdS"
   },
   "outputs": [],
   "source": [
    "tf_model.compile(optimizer='adam', loss='binary_crossentropy', metrics=[tf.keras.metrics.Accuracy(), \n",
    "                                                                        tf.keras.metrics.Recall(),\n",
    "                                                                       tf.keras.metrics.Precision(),\n",
    "                                                                       tf.keras.metrics.AUC()])\n"
   ]
  },
  {
   "cell_type": "code",
   "execution_count": 30,
   "metadata": {
    "colab": {
     "base_uri": "https://localhost:8080/"
    },
    "id": "nrmsg7bWsJdS",
    "outputId": "20c49f56-9362-40c4-cb3e-6c7d65eb4d26"
   },
   "outputs": [
    {
     "name": "stdout",
     "output_type": "stream",
     "text": [
      "Epoch 1/20\n",
      "31/31 [==============================] - 6s 167ms/step - loss: 0.6945 - accuracy: 0.0000e+00 - recall_1: 0.7301 - precision_1: 0.4994 - auc_1: 0.4636 - val_loss: 0.6934 - val_accuracy: 0.0000e+00 - val_recall_1: 0.3000 - val_precision_1: 0.5294 - val_auc_1: 0.4848\n",
      "Epoch 2/20\n",
      "31/31 [==============================] - 4s 140ms/step - loss: 0.6934 - accuracy: 0.0000e+00 - recall_1: 0.5648 - precision_1: 0.4992 - auc_1: 0.5069 - val_loss: 0.6930 - val_accuracy: 0.0000e+00 - val_recall_1: 0.0048 - val_precision_1: 0.5000 - val_auc_1: 0.5092\n",
      "Epoch 3/20\n",
      "31/31 [==============================] - 4s 130ms/step - loss: 0.6923 - accuracy: 0.0000e+00 - recall_1: 0.1096 - precision_1: 0.5416 - auc_1: 0.5633 - val_loss: 0.6923 - val_accuracy: 0.0000e+00 - val_recall_1: 0.7524 - val_precision_1: 0.5215 - val_auc_1: 0.5479\n",
      "Epoch 4/20\n",
      "31/31 [==============================] - 5s 146ms/step - loss: 0.6921 - accuracy: 0.0000e+00 - recall_1: 0.6492 - precision_1: 0.5275 - auc_1: 0.5426 - val_loss: 0.6910 - val_accuracy: 0.0000e+00 - val_recall_1: 0.8048 - val_precision_1: 0.5265 - val_auc_1: 0.5677\n",
      "Epoch 5/20\n",
      "31/31 [==============================] - 5s 154ms/step - loss: 0.6892 - accuracy: 0.0000e+00 - recall_1: 0.5932 - precision_1: 0.5548 - auc_1: 0.5962 - val_loss: 0.6929 - val_accuracy: 0.0000e+00 - val_recall_1: 0.0476 - val_precision_1: 0.6667 - val_auc_1: 0.5336\n",
      "Epoch 6/20\n",
      "31/31 [==============================] - 6s 207ms/step - loss: 0.6862 - accuracy: 0.0000e+00 - recall_1: 0.2523 - precision_1: 0.6481 - auc_1: 0.6213 - val_loss: 0.6902 - val_accuracy: 0.0000e+00 - val_recall_1: 0.1095 - val_precision_1: 0.6389 - val_auc_1: 0.5823\n",
      "Epoch 7/20\n",
      "31/31 [==============================] - 5s 153ms/step - loss: 0.6819 - accuracy: 0.0000e+00 - recall_1: 0.3355 - precision_1: 0.6263 - auc_1: 0.6243 - val_loss: 0.6846 - val_accuracy: 0.0000e+00 - val_recall_1: 0.7286 - val_precision_1: 0.5445 - val_auc_1: 0.5887\n",
      "Epoch 8/20\n",
      "31/31 [==============================] - 5s 149ms/step - loss: 0.6728 - accuracy: 0.0000e+00 - recall_1: 0.3898 - precision_1: 0.5872 - auc_1: 0.6247 - val_loss: 0.6822 - val_accuracy: 0.0000e+00 - val_recall_1: 0.3714 - val_precision_1: 0.5909 - val_auc_1: 0.5975\n",
      "Epoch 9/20\n",
      "31/31 [==============================] - 4s 134ms/step - loss: 0.6593 - accuracy: 0.0000e+00 - recall_1: 0.5469 - precision_1: 0.6829 - auc_1: 0.6947 - val_loss: 0.6792 - val_accuracy: 0.0000e+00 - val_recall_1: 0.5286 - val_precision_1: 0.5842 - val_auc_1: 0.5976\n",
      "Epoch 10/20\n",
      "31/31 [==============================] - 4s 131ms/step - loss: 0.6501 - accuracy: 0.0000e+00 - recall_1: 0.6553 - precision_1: 0.6652 - auc_1: 0.6890 - val_loss: 0.6771 - val_accuracy: 0.0000e+00 - val_recall_1: 0.4952 - val_precision_1: 0.5746 - val_auc_1: 0.6051\n",
      "Epoch 11/20\n",
      "31/31 [==============================] - 4s 136ms/step - loss: 0.6319 - accuracy: 0.0000e+00 - recall_1: 0.6473 - precision_1: 0.6747 - auc_1: 0.7153 - val_loss: 0.7016 - val_accuracy: 0.0000e+00 - val_recall_1: 0.2429 - val_precision_1: 0.5795 - val_auc_1: 0.5866\n",
      "Epoch 12/20\n",
      "31/31 [==============================] - 4s 141ms/step - loss: 0.6402 - accuracy: 0.0000e+00 - recall_1: 0.4283 - precision_1: 0.6905 - auc_1: 0.6883 - val_loss: 0.7012 - val_accuracy: 0.0000e+00 - val_recall_1: 0.8571 - val_precision_1: 0.5325 - val_auc_1: 0.6005\n",
      "Epoch 13/20\n",
      "31/31 [==============================] - 4s 136ms/step - loss: 0.6247 - accuracy: 0.0000e+00 - recall_1: 0.7257 - precision_1: 0.6795 - auc_1: 0.7122 - val_loss: 0.6879 - val_accuracy: 0.0000e+00 - val_recall_1: 0.6095 - val_precision_1: 0.5565 - val_auc_1: 0.5806\n",
      "Epoch 14/20\n",
      "31/31 [==============================] - 5s 159ms/step - loss: 0.6266 - accuracy: 0.0000e+00 - recall_1: 0.7180 - precision_1: 0.6714 - auc_1: 0.7125 - val_loss: 0.6899 - val_accuracy: 0.0000e+00 - val_recall_1: 0.4810 - val_precision_1: 0.5401 - val_auc_1: 0.5859\n",
      "Epoch 15/20\n",
      "31/31 [==============================] - 7s 214ms/step - loss: 0.6347 - accuracy: 0.0000e+00 - recall_1: 0.6926 - precision_1: 0.6272 - auc_1: 0.6967 - val_loss: 0.7347 - val_accuracy: 0.0000e+00 - val_recall_1: 0.1952 - val_precision_1: 0.5857 - val_auc_1: 0.5667\n",
      "Epoch 16/20\n",
      "31/31 [==============================] - 5s 170ms/step - loss: 0.5971 - accuracy: 0.0000e+00 - recall_1: 0.6875 - precision_1: 0.7188 - auc_1: 0.7668 - val_loss: 0.7449 - val_accuracy: 0.0000e+00 - val_recall_1: 0.1857 - val_precision_1: 0.6393 - val_auc_1: 0.5720\n",
      "Epoch 17/20\n",
      "31/31 [==============================] - 5s 175ms/step - loss: 0.6332 - accuracy: 0.0000e+00 - recall_1: 0.5353 - precision_1: 0.6802 - auc_1: 0.7166 - val_loss: 0.6999 - val_accuracy: 0.0000e+00 - val_recall_1: 0.5048 - val_precision_1: 0.5408 - val_auc_1: 0.5762\n",
      "Epoch 18/20\n",
      "31/31 [==============================] - 5s 161ms/step - loss: 0.5808 - accuracy: 0.0000e+00 - recall_1: 0.6824 - precision_1: 0.7517 - auc_1: 0.7859 - val_loss: 0.7055 - val_accuracy: 0.0000e+00 - val_recall_1: 0.5095 - val_precision_1: 0.5271 - val_auc_1: 0.5763\n",
      "Epoch 19/20\n",
      "31/31 [==============================] - 4s 136ms/step - loss: 0.5891 - accuracy: 0.0000e+00 - recall_1: 0.7240 - precision_1: 0.6673 - auc_1: 0.7584 - val_loss: 0.7125 - val_accuracy: 0.0000e+00 - val_recall_1: 0.5667 - val_precision_1: 0.5484 - val_auc_1: 0.5694\n",
      "Epoch 20/20\n",
      "31/31 [==============================] - 5s 159ms/step - loss: 0.5623 - accuracy: 0.0000e+00 - recall_1: 0.7115 - precision_1: 0.7392 - auc_1: 0.8028 - val_loss: 0.7202 - val_accuracy: 0.0000e+00 - val_recall_1: 0.5333 - val_precision_1: 0.5517 - val_auc_1: 0.5711\n"
     ]
    },
    {
     "data": {
      "text/plain": [
       "<tensorflow.python.keras.callbacks.History at 0x7fe71233b790>"
      ]
     },
     "execution_count": 30,
     "metadata": {},
     "output_type": "execute_result"
    }
   ],
   "source": [
    "tf_model.fit(X_train, y_train, validation_data=(X_test, y_test), epochs=20, verbose=1)\n"
   ]
  },
  {
   "cell_type": "code",
   "execution_count": 31,
   "metadata": {
    "colab": {
     "base_uri": "https://localhost:8080/"
    },
    "id": "F4uWOqOea0h8",
    "outputId": "49331924-1f3c-4891-caaf-62dbe478fc74"
   },
   "outputs": [
    {
     "name": "stdout",
     "output_type": "stream",
     "text": [
      "(419, 1)\n",
      "              precision    recall  f1-score   support\n",
      "\n",
      "         0.0       0.55      0.56      0.56       209\n",
      "         1.0       0.55      0.53      0.54       210\n",
      "\n",
      "    accuracy                           0.55       419\n",
      "   macro avg       0.55      0.55      0.55       419\n",
      "weighted avg       0.55      0.55      0.55       419\n",
      "\n"
     ]
    }
   ],
   "source": [
    "y_pred_tf_model = tf_model.predict(X_test).round()\n",
    "print(y_pred_tf_model.shape)\n",
    "print(classification_report(y_test, y_pred_tf_model))"
   ]
  },
  {
   "cell_type": "code",
   "execution_count": null,
   "metadata": {
    "id": "JXVOWOKUsJdV"
   },
   "outputs": [],
   "source": []
  }
 ],
 "metadata": {
  "accelerator": "GPU",
  "colab": {
   "collapsed_sections": [],
   "name": "NN.ipynb",
   "provenance": []
  },
  "kernelspec": {
   "display_name": "Python 3",
   "language": "python",
   "name": "python3"
  },
  "language_info": {
   "codemirror_mode": {
    "name": "ipython",
    "version": 3
   },
   "file_extension": ".py",
   "mimetype": "text/x-python",
   "name": "python",
   "nbconvert_exporter": "python",
   "pygments_lexer": "ipython3",
   "version": "3.8.5"
  }
 },
 "nbformat": 4,
 "nbformat_minor": 1
}
