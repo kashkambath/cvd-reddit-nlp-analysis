{
  "nbformat": 4,
  "nbformat_minor": 0,
  "metadata": {
    "accelerator": "GPU",
    "colab": {
      "name": "NN.ipynb",
      "provenance": [],
      "collapsed_sections": []
    },
    "kernelspec": {
      "display_name": "Python 3",
      "language": "python",
      "name": "python3"
    },
    "language_info": {
      "codemirror_mode": {
        "name": "ipython",
        "version": 3
      },
      "file_extension": ".py",
      "mimetype": "text/x-python",
      "name": "python",
      "nbconvert_exporter": "python",
      "pygments_lexer": "ipython3",
      "version": "3.8.5"
    }
  },
  "cells": [
    {
      "cell_type": "code",
      "metadata": {
        "colab": {
          "base_uri": "https://localhost:8080/"
        },
        "id": "aRws2tIw0mR4",
        "outputId": "3f717477-494f-4c15-94bb-4317c1f373c8"
      },
      "source": [
        "!pip install gensim==4.0.1"
      ],
      "execution_count": 2,
      "outputs": [
        {
          "output_type": "stream",
          "text": [
            "Collecting gensim==4.0.1\n",
            "\u001b[?25l  Downloading https://files.pythonhosted.org/packages/44/52/f1417772965652d4ca6f901515debcd9d6c5430969e8c02ee7737e6de61c/gensim-4.0.1-cp37-cp37m-manylinux1_x86_64.whl (23.9MB)\n",
            "\u001b[K     |████████████████████████████████| 23.9MB 130kB/s \n",
            "\u001b[?25hRequirement already satisfied: numpy>=1.11.3 in /usr/local/lib/python3.7/dist-packages (from gensim==4.0.1) (1.19.5)\n",
            "Requirement already satisfied: scipy>=0.18.1 in /usr/local/lib/python3.7/dist-packages (from gensim==4.0.1) (1.4.1)\n",
            "Requirement already satisfied: smart-open>=1.8.1 in /usr/local/lib/python3.7/dist-packages (from gensim==4.0.1) (4.2.0)\n",
            "Installing collected packages: gensim\n",
            "  Found existing installation: gensim 3.6.0\n",
            "    Uninstalling gensim-3.6.0:\n",
            "      Successfully uninstalled gensim-3.6.0\n",
            "Successfully installed gensim-4.0.1\n"
          ],
          "name": "stdout"
        }
      ]
    },
    {
      "cell_type": "code",
      "metadata": {
        "colab": {
          "base_uri": "https://localhost:8080/"
        },
        "id": "UsSC5XsqcQRJ",
        "outputId": "ac04ed44-0e04-4ae0-eed7-f623a9b4c9cc"
      },
      "source": [
        "!pip install lime"
      ],
      "execution_count": 3,
      "outputs": [
        {
          "output_type": "stream",
          "text": [
            "Collecting lime\n",
            "\u001b[?25l  Downloading https://files.pythonhosted.org/packages/f5/86/91a13127d83d793ecb50eb75e716f76e6eda809b6803c5a4ff462339789e/lime-0.2.0.1.tar.gz (275kB)\n",
            "\r\u001b[K     |█▏                              | 10kB 20.9MB/s eta 0:00:01\r\u001b[K     |██▍                             | 20kB 28.2MB/s eta 0:00:01\r\u001b[K     |███▋                            | 30kB 24.3MB/s eta 0:00:01\r\u001b[K     |████▊                           | 40kB 27.7MB/s eta 0:00:01\r\u001b[K     |██████                          | 51kB 21.2MB/s eta 0:00:01\r\u001b[K     |███████▏                        | 61kB 18.8MB/s eta 0:00:01\r\u001b[K     |████████▎                       | 71kB 17.7MB/s eta 0:00:01\r\u001b[K     |█████████▌                      | 81kB 18.3MB/s eta 0:00:01\r\u001b[K     |██████████▊                     | 92kB 17.2MB/s eta 0:00:01\r\u001b[K     |███████████▉                    | 102kB 16.5MB/s eta 0:00:01\r\u001b[K     |█████████████                   | 112kB 16.5MB/s eta 0:00:01\r\u001b[K     |██████████████▎                 | 122kB 16.5MB/s eta 0:00:01\r\u001b[K     |███████████████▌                | 133kB 16.5MB/s eta 0:00:01\r\u001b[K     |████████████████▋               | 143kB 16.5MB/s eta 0:00:01\r\u001b[K     |█████████████████▉              | 153kB 16.5MB/s eta 0:00:01\r\u001b[K     |███████████████████             | 163kB 16.5MB/s eta 0:00:01\r\u001b[K     |████████████████████▏           | 174kB 16.5MB/s eta 0:00:01\r\u001b[K     |█████████████████████▍          | 184kB 16.5MB/s eta 0:00:01\r\u001b[K     |██████████████████████▋         | 194kB 16.5MB/s eta 0:00:01\r\u001b[K     |███████████████████████▊        | 204kB 16.5MB/s eta 0:00:01\r\u001b[K     |█████████████████████████       | 215kB 16.5MB/s eta 0:00:01\r\u001b[K     |██████████████████████████▏     | 225kB 16.5MB/s eta 0:00:01\r\u001b[K     |███████████████████████████▍    | 235kB 16.5MB/s eta 0:00:01\r\u001b[K     |████████████████████████████▌   | 245kB 16.5MB/s eta 0:00:01\r\u001b[K     |█████████████████████████████▊  | 256kB 16.5MB/s eta 0:00:01\r\u001b[K     |███████████████████████████████ | 266kB 16.5MB/s eta 0:00:01\r\u001b[K     |████████████████████████████████| 276kB 16.5MB/s \n",
            "\u001b[?25hRequirement already satisfied: matplotlib in /usr/local/lib/python3.7/dist-packages (from lime) (3.2.2)\n",
            "Requirement already satisfied: numpy in /usr/local/lib/python3.7/dist-packages (from lime) (1.19.5)\n",
            "Requirement already satisfied: scipy in /usr/local/lib/python3.7/dist-packages (from lime) (1.4.1)\n",
            "Requirement already satisfied: tqdm in /usr/local/lib/python3.7/dist-packages (from lime) (4.41.1)\n",
            "Requirement already satisfied: scikit-learn>=0.18 in /usr/local/lib/python3.7/dist-packages (from lime) (0.22.2.post1)\n",
            "Requirement already satisfied: scikit-image>=0.12 in /usr/local/lib/python3.7/dist-packages (from lime) (0.16.2)\n",
            "Requirement already satisfied: kiwisolver>=1.0.1 in /usr/local/lib/python3.7/dist-packages (from matplotlib->lime) (1.3.1)\n",
            "Requirement already satisfied: cycler>=0.10 in /usr/local/lib/python3.7/dist-packages (from matplotlib->lime) (0.10.0)\n",
            "Requirement already satisfied: pyparsing!=2.0.4,!=2.1.2,!=2.1.6,>=2.0.1 in /usr/local/lib/python3.7/dist-packages (from matplotlib->lime) (2.4.7)\n",
            "Requirement already satisfied: python-dateutil>=2.1 in /usr/local/lib/python3.7/dist-packages (from matplotlib->lime) (2.8.1)\n",
            "Requirement already satisfied: joblib>=0.11 in /usr/local/lib/python3.7/dist-packages (from scikit-learn>=0.18->lime) (1.0.1)\n",
            "Requirement already satisfied: PyWavelets>=0.4.0 in /usr/local/lib/python3.7/dist-packages (from scikit-image>=0.12->lime) (1.1.1)\n",
            "Requirement already satisfied: networkx>=2.0 in /usr/local/lib/python3.7/dist-packages (from scikit-image>=0.12->lime) (2.5)\n",
            "Requirement already satisfied: imageio>=2.3.0 in /usr/local/lib/python3.7/dist-packages (from scikit-image>=0.12->lime) (2.4.1)\n",
            "Requirement already satisfied: pillow>=4.3.0 in /usr/local/lib/python3.7/dist-packages (from scikit-image>=0.12->lime) (7.1.2)\n",
            "Requirement already satisfied: six in /usr/local/lib/python3.7/dist-packages (from cycler>=0.10->matplotlib->lime) (1.15.0)\n",
            "Requirement already satisfied: decorator>=4.3.0 in /usr/local/lib/python3.7/dist-packages (from networkx>=2.0->scikit-image>=0.12->lime) (4.4.2)\n",
            "Building wheels for collected packages: lime\n",
            "  Building wheel for lime (setup.py) ... \u001b[?25l\u001b[?25hdone\n",
            "  Created wheel for lime: filename=lime-0.2.0.1-cp37-none-any.whl size=283846 sha256=c3ec1cd1c08278f00007cd9e2b9a62860f5fa5fa22e9e1d85cc1ca412deecc50\n",
            "  Stored in directory: /root/.cache/pip/wheels/4c/4f/a5/0bc765457bd41378bf3ce8d17d7495369d6e7ca3b712c60c89\n",
            "Successfully built lime\n",
            "Installing collected packages: lime\n",
            "Successfully installed lime-0.2.0.1\n"
          ],
          "name": "stdout"
        }
      ]
    },
    {
      "cell_type": "code",
      "metadata": {
        "colab": {
          "base_uri": "https://localhost:8080/"
        },
        "id": "W-Jvq27GsJdL",
        "outputId": "8c457702-4a9a-47c8-9a59-e6a2dbf84c6c"
      },
      "source": [
        "import nltk\n",
        "import lime\n",
        "from nltk.corpus import brown\n",
        "from nltk.data import find\n",
        "import numpy as np\n",
        "import pandas as pd\n",
        "import tensorflow as tf\n",
        "from tensorflow.keras.layers import Embedding, Input, Dense, Lambda, Dropout\n",
        "from tensorflow.keras.models import Model\n",
        "from gensim.models import Word2Vec\n",
        "from gensim.models import KeyedVectors\n",
        "from sklearn.model_selection import train_test_split\n",
        "from keras.preprocessing.sequence import pad_sequences\n",
        "from sklearn.model_selection import KFold\n",
        "from sklearn.metrics import classification_report\n"
      ],
      "execution_count": 4,
      "outputs": [
        {
          "output_type": "stream",
          "text": [
            "/usr/local/lib/python3.7/dist-packages/gensim/similarities/__init__.py:15: UserWarning: The gensim.similarities.levenshtein submodule is disabled, because the optional Levenshtein package <https://pypi.org/project/python-Levenshtein/> is unavailable. Install Levenhstein (e.g. `pip install python-Levenshtein`) to suppress this warning.\n",
            "  warnings.warn(msg)\n"
          ],
          "name": "stderr"
        }
      ]
    },
    {
      "cell_type": "code",
      "metadata": {
        "id": "4d4SH7uFssDH"
      },
      "source": [
        "# %%capture\n",
        "# !wget https://raw.githubusercontent.com/kashkambath/cvd-reddit-nlp-analysis/swetha/data/NN_Data.csv"
      ],
      "execution_count": 6,
      "outputs": []
    },
    {
      "cell_type": "code",
      "metadata": {
        "id": "F3yWIO5gsJdN",
        "colab": {
          "base_uri": "https://localhost:8080/",
          "height": 204
        },
        "outputId": "455098cb-545e-4bb4-eba4-cc297fb01e5c"
      },
      "source": [
        "df = pd.read_csv('NN_Data_2.0_cleaned_2.csv')\n",
        "if 'Unnamed: 0' in df.columns:\n",
        "  df = df.drop(columns=['Unnamed: 0'])\n",
        "df = df[df['text'].notna()] # remove missing rows\n",
        "df.head()"
      ],
      "execution_count": 60,
      "outputs": [
        {
          "output_type": "execute_result",
          "data": {
            "text/html": [
              "<div>\n",
              "<style scoped>\n",
              "    .dataframe tbody tr th:only-of-type {\n",
              "        vertical-align: middle;\n",
              "    }\n",
              "\n",
              "    .dataframe tbody tr th {\n",
              "        vertical-align: top;\n",
              "    }\n",
              "\n",
              "    .dataframe thead th {\n",
              "        text-align: right;\n",
              "    }\n",
              "</style>\n",
              "<table border=\"1\" class=\"dataframe\">\n",
              "  <thead>\n",
              "    <tr style=\"text-align: right;\">\n",
              "      <th></th>\n",
              "      <th>text</th>\n",
              "      <th>outcome</th>\n",
              "    </tr>\n",
              "  </thead>\n",
              "  <tbody>\n",
              "    <tr>\n",
              "      <th>0</th>\n",
              "      <td>My dad had a heart attack and spent over 7 min...</td>\n",
              "      <td>1.0</td>\n",
              "    </tr>\n",
              "    <tr>\n",
              "      <th>1</th>\n",
              "      <td>I had dangerous open heart surgery due to mult...</td>\n",
              "      <td>1.0</td>\n",
              "    </tr>\n",
              "    <tr>\n",
              "      <th>2</th>\n",
              "      <td>In June of 2020, my Dad collapsed in our yard ...</td>\n",
              "      <td>1.0</td>\n",
              "    </tr>\n",
              "    <tr>\n",
              "      <th>3</th>\n",
              "      <td>after my twin aunts were born, my grandma beca...</td>\n",
              "      <td>1.0</td>\n",
              "    </tr>\n",
              "    <tr>\n",
              "      <th>4</th>\n",
              "      <td>Not me but my mother is the most severe case I...</td>\n",
              "      <td>1.0</td>\n",
              "    </tr>\n",
              "  </tbody>\n",
              "</table>\n",
              "</div>"
            ],
            "text/plain": [
              "                                                text  outcome\n",
              "0  My dad had a heart attack and spent over 7 min...      1.0\n",
              "1  I had dangerous open heart surgery due to mult...      1.0\n",
              "2  In June of 2020, my Dad collapsed in our yard ...      1.0\n",
              "3  after my twin aunts were born, my grandma beca...      1.0\n",
              "4  Not me but my mother is the most severe case I...      1.0"
            ]
          },
          "metadata": {
            "tags": []
          },
          "execution_count": 60
        }
      ]
    },
    {
      "cell_type": "code",
      "metadata": {
        "id": "7F7viTAmaXH2"
      },
      "source": [
        "df[\"no_punct\"] = df['text'].str.replace('[^\\w\\s]','')\n",
        "df['str_list'] = df.no_punct.apply(lambda s: s.split(' '))"
      ],
      "execution_count": 61,
      "outputs": []
    },
    {
      "cell_type": "code",
      "metadata": {
        "colab": {
          "base_uri": "https://localhost:8080/",
          "height": 204
        },
        "id": "RyD2k5dNtgMn",
        "outputId": "66bdc79c-92b5-464e-c689-aada0a385b98"
      },
      "source": [
        "df.head()"
      ],
      "execution_count": 62,
      "outputs": [
        {
          "output_type": "execute_result",
          "data": {
            "text/html": [
              "<div>\n",
              "<style scoped>\n",
              "    .dataframe tbody tr th:only-of-type {\n",
              "        vertical-align: middle;\n",
              "    }\n",
              "\n",
              "    .dataframe tbody tr th {\n",
              "        vertical-align: top;\n",
              "    }\n",
              "\n",
              "    .dataframe thead th {\n",
              "        text-align: right;\n",
              "    }\n",
              "</style>\n",
              "<table border=\"1\" class=\"dataframe\">\n",
              "  <thead>\n",
              "    <tr style=\"text-align: right;\">\n",
              "      <th></th>\n",
              "      <th>text</th>\n",
              "      <th>outcome</th>\n",
              "      <th>no_punct</th>\n",
              "      <th>str_list</th>\n",
              "    </tr>\n",
              "  </thead>\n",
              "  <tbody>\n",
              "    <tr>\n",
              "      <th>0</th>\n",
              "      <td>My dad had a heart attack and spent over 7 min...</td>\n",
              "      <td>1.0</td>\n",
              "      <td>My dad had a heart attack and spent over 7 min...</td>\n",
              "      <td>[My, dad, had, a, heart, attack, and, spent, o...</td>\n",
              "    </tr>\n",
              "    <tr>\n",
              "      <th>1</th>\n",
              "      <td>I had dangerous open heart surgery due to mult...</td>\n",
              "      <td>1.0</td>\n",
              "      <td>I had dangerous open heart surgery due to mult...</td>\n",
              "      <td>[I, had, dangerous, open, heart, surgery, due,...</td>\n",
              "    </tr>\n",
              "    <tr>\n",
              "      <th>2</th>\n",
              "      <td>In June of 2020, my Dad collapsed in our yard ...</td>\n",
              "      <td>1.0</td>\n",
              "      <td>In June of 2020 my Dad collapsed in our yard w...</td>\n",
              "      <td>[In, June, of, 2020, my, Dad, collapsed, in, o...</td>\n",
              "    </tr>\n",
              "    <tr>\n",
              "      <th>3</th>\n",
              "      <td>after my twin aunts were born, my grandma beca...</td>\n",
              "      <td>1.0</td>\n",
              "      <td>after my twin aunts were born my grandma becam...</td>\n",
              "      <td>[after, my, twin, aunts, were, born, my, grand...</td>\n",
              "    </tr>\n",
              "    <tr>\n",
              "      <th>4</th>\n",
              "      <td>Not me but my mother is the most severe case I...</td>\n",
              "      <td>1.0</td>\n",
              "      <td>Not me but my mother is the most severe case I...</td>\n",
              "      <td>[Not, me, but, my, mother, is, the, most, seve...</td>\n",
              "    </tr>\n",
              "  </tbody>\n",
              "</table>\n",
              "</div>"
            ],
            "text/plain": [
              "                                                text  ...                                           str_list\n",
              "0  My dad had a heart attack and spent over 7 min...  ...  [My, dad, had, a, heart, attack, and, spent, o...\n",
              "1  I had dangerous open heart surgery due to mult...  ...  [I, had, dangerous, open, heart, surgery, due,...\n",
              "2  In June of 2020, my Dad collapsed in our yard ...  ...  [In, June, of, 2020, my, Dad, collapsed, in, o...\n",
              "3  after my twin aunts were born, my grandma beca...  ...  [after, my, twin, aunts, were, born, my, grand...\n",
              "4  Not me but my mother is the most severe case I...  ...  [Not, me, but, my, mother, is, the, most, seve...\n",
              "\n",
              "[5 rows x 4 columns]"
            ]
          },
          "metadata": {
            "tags": []
          },
          "execution_count": 62
        }
      ]
    },
    {
      "cell_type": "code",
      "metadata": {
        "colab": {
          "base_uri": "https://localhost:8080/"
        },
        "id": "qmwpdKaclcSH",
        "outputId": "248dec69-91d0-4c43-8e44-3f27e8d65e92"
      },
      "source": [
        "df['outcome'].value_counts()"
      ],
      "execution_count": 94,
      "outputs": [
        {
          "output_type": "execute_result",
          "data": {
            "text/plain": [
              "0.0    1443\n",
              "1.0     694\n",
              "Name: outcome, dtype: int64"
            ]
          },
          "metadata": {
            "tags": []
          },
          "execution_count": 94
        }
      ]
    },
    {
      "cell_type": "code",
      "metadata": {
        "colab": {
          "base_uri": "https://localhost:8080/",
          "height": 315
        },
        "id": "rsKPBrmMSUtG",
        "outputId": "b70ef554-a278-4ec3-d4ff-3c7f0d0208e5"
      },
      "source": [
        "df['str_lens'] = df['str_list'].apply(lambda s: len(s))\n",
        "df.hist('str_lens', bins=50)"
      ],
      "execution_count": 63,
      "outputs": [
        {
          "output_type": "execute_result",
          "data": {
            "text/plain": [
              "array([[<matplotlib.axes._subplots.AxesSubplot object at 0x7f59543d3650>]],\n",
              "      dtype=object)"
            ]
          },
          "metadata": {
            "tags": []
          },
          "execution_count": 63
        },
        {
          "output_type": "display_data",
          "data": {
            "image/png": "[encoded data removed]",
            "text/plain": [
              "<Figure size 432x288 with 1 Axes>"
            ]
          },
          "metadata": {
            "tags": [],
            "needs_background": "light"
          }
        }
      ]
    },
    {
      "cell_type": "code",
      "metadata": {
        "colab": {
          "base_uri": "https://localhost:8080/",
          "height": 272
        },
        "id": "ju1iam_yTRIz",
        "outputId": "e410ecdd-67af-4e17-b7f6-3f678ccd04d7"
      },
      "source": [
        "df = df[df['str_lens'] < 750]\n",
        "df.head()"
      ],
      "execution_count": 64,
      "outputs": [
        {
          "output_type": "execute_result",
          "data": {
            "text/html": [
              "<div>\n",
              "<style scoped>\n",
              "    .dataframe tbody tr th:only-of-type {\n",
              "        vertical-align: middle;\n",
              "    }\n",
              "\n",
              "    .dataframe tbody tr th {\n",
              "        vertical-align: top;\n",
              "    }\n",
              "\n",
              "    .dataframe thead th {\n",
              "        text-align: right;\n",
              "    }\n",
              "</style>\n",
              "<table border=\"1\" class=\"dataframe\">\n",
              "  <thead>\n",
              "    <tr style=\"text-align: right;\">\n",
              "      <th></th>\n",
              "      <th>text</th>\n",
              "      <th>outcome</th>\n",
              "      <th>no_punct</th>\n",
              "      <th>str_list</th>\n",
              "      <th>str_lens</th>\n",
              "    </tr>\n",
              "  </thead>\n",
              "  <tbody>\n",
              "    <tr>\n",
              "      <th>0</th>\n",
              "      <td>My dad had a heart attack and spent over 7 min...</td>\n",
              "      <td>1.0</td>\n",
              "      <td>My dad had a heart attack and spent over 7 min...</td>\n",
              "      <td>[My, dad, had, a, heart, attack, and, spent, o...</td>\n",
              "      <td>187</td>\n",
              "    </tr>\n",
              "    <tr>\n",
              "      <th>1</th>\n",
              "      <td>I had dangerous open heart surgery due to mult...</td>\n",
              "      <td>1.0</td>\n",
              "      <td>I had dangerous open heart surgery due to mult...</td>\n",
              "      <td>[I, had, dangerous, open, heart, surgery, due,...</td>\n",
              "      <td>63</td>\n",
              "    </tr>\n",
              "    <tr>\n",
              "      <th>2</th>\n",
              "      <td>In June of 2020, my Dad collapsed in our yard ...</td>\n",
              "      <td>1.0</td>\n",
              "      <td>In June of 2020 my Dad collapsed in our yard w...</td>\n",
              "      <td>[In, June, of, 2020, my, Dad, collapsed, in, o...</td>\n",
              "      <td>256</td>\n",
              "    </tr>\n",
              "    <tr>\n",
              "      <th>3</th>\n",
              "      <td>after my twin aunts were born, my grandma beca...</td>\n",
              "      <td>1.0</td>\n",
              "      <td>after my twin aunts were born my grandma becam...</td>\n",
              "      <td>[after, my, twin, aunts, were, born, my, grand...</td>\n",
              "      <td>182</td>\n",
              "    </tr>\n",
              "    <tr>\n",
              "      <th>4</th>\n",
              "      <td>Not me but my mother is the most severe case I...</td>\n",
              "      <td>1.0</td>\n",
              "      <td>Not me but my mother is the most severe case I...</td>\n",
              "      <td>[Not, me, but, my, mother, is, the, most, seve...</td>\n",
              "      <td>165</td>\n",
              "    </tr>\n",
              "  </tbody>\n",
              "</table>\n",
              "</div>"
            ],
            "text/plain": [
              "                                                text  ...  str_lens\n",
              "0  My dad had a heart attack and spent over 7 min...  ...       187\n",
              "1  I had dangerous open heart surgery due to mult...  ...        63\n",
              "2  In June of 2020, my Dad collapsed in our yard ...  ...       256\n",
              "3  after my twin aunts were born, my grandma beca...  ...       182\n",
              "4  Not me but my mother is the most severe case I...  ...       165\n",
              "\n",
              "[5 rows x 5 columns]"
            ]
          },
          "metadata": {
            "tags": []
          },
          "execution_count": 64
        }
      ]
    },
    {
      "cell_type": "code",
      "metadata": {
        "id": "gypUtes8sJdO"
      },
      "source": [
        "w2v = Word2Vec(df['str_list'].tolist(), min_count=1, vector_size= 300, workers=3, window =3, sg = 1)"
      ],
      "execution_count": 65,
      "outputs": []
    },
    {
      "cell_type": "code",
      "metadata": {
        "id": "BJ499TMbsJdO"
      },
      "source": [
        "kv = w2v.wv"
      ],
      "execution_count": 66,
      "outputs": []
    },
    {
      "cell_type": "code",
      "metadata": {
        "id": "uyzBKpT7sJdO"
      },
      "source": [
        "EMBEDDING_DIM = len(kv['heart'])      # we know... it's 300\n",
        "\n",
        "# initialize embedding matrix and word-to-id map:\n",
        "embedding_matrix = kv.vectors\n",
        "vocab_dict = kv.key_to_index"
      ],
      "execution_count": 67,
      "outputs": []
    },
    {
      "cell_type": "code",
      "metadata": {
        "colab": {
          "base_uri": "https://localhost:8080/"
        },
        "id": "AdaMBV9pBCva",
        "outputId": "0312536f-8e20-4ac6-90da-0a380f158c98"
      },
      "source": [
        "embedding_matrix.shape"
      ],
      "execution_count": 68,
      "outputs": [
        {
          "output_type": "execute_result",
          "data": {
            "text/plain": [
              "(17332, 300)"
            ]
          },
          "metadata": {
            "tags": []
          },
          "execution_count": 68
        }
      ]
    },
    {
      "cell_type": "code",
      "metadata": {
        "colab": {
          "base_uri": "https://localhost:8080/"
        },
        "id": "yQsQGwHfBLOi",
        "outputId": "8cdd7845-fb93-4604-a331-d027fbabd54c"
      },
      "source": [
        "list(vocab_dict.items())[:20]"
      ],
      "execution_count": 69,
      "outputs": [
        {
          "output_type": "execute_result",
          "data": {
            "text/plain": [
              "[('to', 0),\n",
              " ('I', 1),\n",
              " ('and', 2),\n",
              " ('the', 3),\n",
              " ('a', 4),\n",
              " ('of', 5),\n",
              " ('my', 6),\n",
              " ('you', 7),\n",
              " ('in', 8),\n",
              " ('that', 9),\n",
              " ('it', 10),\n",
              " ('', 11),\n",
              " ('was', 12),\n",
              " ('for', 13),\n",
              " ('is', 14),\n",
              " ('with', 15),\n",
              " ('me', 16),\n",
              " ('but', 17),\n",
              " ('have', 18),\n",
              " ('on', 19)]"
            ]
          },
          "metadata": {
            "tags": []
          },
          "execution_count": 69
        }
      ]
    },
    {
      "cell_type": "code",
      "metadata": {
        "id": "5N_to6o-sJdQ"
      },
      "source": [
        "def sents_to_ids(sentences):\n",
        "    \"\"\"\n",
        "    converting a list of strings to a list of lists of word ids\n",
        "    \"\"\"\n",
        "    text_ids = [vocab_dict[word] for word in sentences]\n",
        "    return np.asarray(text_ids).astype(np.int64)"
      ],
      "execution_count": 70,
      "outputs": []
    },
    {
      "cell_type": "code",
      "metadata": {
        "id": "sOZ_r12WsJdQ"
      },
      "source": [
        "df[\"id_list\"] = df[\"str_list\"].apply(sents_to_ids)\n",
        "# df[\"outcome_2d\"] = df[\"outcome\"].apply(lambda x: np.asarray([x]).astype(np.int64))\n",
        "X = np.array(df[\"id_list\"])\n",
        "# y = np.array(df[\"outcome_2d\"])\n",
        "y = np.array(df['outcome'].tolist()).astype('float32')"
      ],
      "execution_count": 71,
      "outputs": []
    },
    {
      "cell_type": "code",
      "metadata": {
        "colab": {
          "base_uri": "https://localhost:8080/",
          "height": 204
        },
        "id": "2kFzXs6HsJdQ",
        "outputId": "a588e8f8-30ba-4384-a582-b92f0977a899"
      },
      "source": [
        "df[[\"str_list\", \"id_list\"]].head()"
      ],
      "execution_count": 72,
      "outputs": [
        {
          "output_type": "execute_result",
          "data": {
            "text/html": [
              "<div>\n",
              "<style scoped>\n",
              "    .dataframe tbody tr th:only-of-type {\n",
              "        vertical-align: middle;\n",
              "    }\n",
              "\n",
              "    .dataframe tbody tr th {\n",
              "        vertical-align: top;\n",
              "    }\n",
              "\n",
              "    .dataframe thead th {\n",
              "        text-align: right;\n",
              "    }\n",
              "</style>\n",
              "<table border=\"1\" class=\"dataframe\">\n",
              "  <thead>\n",
              "    <tr style=\"text-align: right;\">\n",
              "      <th></th>\n",
              "      <th>str_list</th>\n",
              "      <th>id_list</th>\n",
              "    </tr>\n",
              "  </thead>\n",
              "  <tbody>\n",
              "    <tr>\n",
              "      <th>0</th>\n",
              "      <td>[My, dad, had, a, heart, attack, and, spent, o...</td>\n",
              "      <td>[70, 120, 25, 4, 65, 119, 2, 571, 101, 588, 46...</td>\n",
              "    </tr>\n",
              "    <tr>\n",
              "      <th>1</th>\n",
              "      <td>[I, had, dangerous, open, heart, surgery, due,...</td>\n",
              "      <td>[1, 25, 2089, 379, 65, 412, 441, 0, 642, 3269,...</td>\n",
              "    </tr>\n",
              "    <tr>\n",
              "      <th>2</th>\n",
              "      <td>[In, June, of, 2020, my, Dad, collapsed, in, o...</td>\n",
              "      <td>[352, 4024, 5, 10193, 6, 666, 2289, 8, 153, 33...</td>\n",
              "    </tr>\n",
              "    <tr>\n",
              "      <th>3</th>\n",
              "      <td>[after, my, twin, aunts, were, born, my, grand...</td>\n",
              "      <td>[105, 6, 6714, 1935, 74, 1090, 6, 579, 719, 39...</td>\n",
              "    </tr>\n",
              "    <tr>\n",
              "      <th>4</th>\n",
              "      <td>[Not, me, but, my, mother, is, the, most, seve...</td>\n",
              "      <td>[388, 16, 17, 6, 260, 14, 3, 136, 918, 621, 1,...</td>\n",
              "    </tr>\n",
              "  </tbody>\n",
              "</table>\n",
              "</div>"
            ],
            "text/plain": [
              "                                            str_list                                            id_list\n",
              "0  [My, dad, had, a, heart, attack, and, spent, o...  [70, 120, 25, 4, 65, 119, 2, 571, 101, 588, 46...\n",
              "1  [I, had, dangerous, open, heart, surgery, due,...  [1, 25, 2089, 379, 65, 412, 441, 0, 642, 3269,...\n",
              "2  [In, June, of, 2020, my, Dad, collapsed, in, o...  [352, 4024, 5, 10193, 6, 666, 2289, 8, 153, 33...\n",
              "3  [after, my, twin, aunts, were, born, my, grand...  [105, 6, 6714, 1935, 74, 1090, 6, 579, 719, 39...\n",
              "4  [Not, me, but, my, mother, is, the, most, seve...  [388, 16, 17, 6, 260, 14, 3, 136, 918, 621, 1,..."
            ]
          },
          "metadata": {
            "tags": []
          },
          "execution_count": 72
        }
      ]
    },
    {
      "cell_type": "code",
      "metadata": {
        "id": "pv5C-xgKCged"
      },
      "source": [
        "X = pad_sequences(X).astype('float32') # zero pre-padding"
      ],
      "execution_count": 73,
      "outputs": []
    },
    {
      "cell_type": "code",
      "metadata": {
        "colab": {
          "base_uri": "https://localhost:8080/"
        },
        "id": "Y8047o5oTtnO",
        "outputId": "f2b4c4b2-2be3-4803-b743-7ba9fe3fc1f4"
      },
      "source": [
        "X.shape"
      ],
      "execution_count": 74,
      "outputs": [
        {
          "output_type": "execute_result",
          "data": {
            "text/plain": [
              "(2137, 732)"
            ]
          },
          "metadata": {
            "tags": []
          },
          "execution_count": 74
        }
      ]
    },
    {
      "cell_type": "code",
      "metadata": {
        "id": "6SJMFiJcsJdP"
      },
      "source": [
        "MAX_SEQUENCE_LENGTH = X.shape[1]  # Keras' embedding layer expects a specific input length. Padding is often needed here.\n",
        "\n",
        "embedding_layer = Embedding(embedding_matrix.shape[0],\n",
        "                            embedding_matrix.shape[1],\n",
        "                            embeddings_initializer=tf.keras.initializers.Constant(embedding_matrix),\n",
        "                            input_length=MAX_SEQUENCE_LENGTH,\n",
        "                            trainable=False)"
      ],
      "execution_count": 75,
      "outputs": []
    },
    {
      "cell_type": "code",
      "metadata": {
        "id": "VVTnXZPAsJdR"
      },
      "source": [
        "X_train, X_test, y_train, y_test = train_test_split(X, y, test_size=0.3, random_state=1, stratify=y)"
      ],
      "execution_count": 76,
      "outputs": []
    },
    {
      "cell_type": "code",
      "metadata": {
        "id": "hDxh3MaTdxgm"
      },
      "source": [
        "try:\n",
        "    del reg_model\n",
        "except:\n",
        "    pass\n",
        "\n",
        "reg_model = tf.keras.Sequential()\n",
        "\n",
        "reg_model.add(embedding_layer)                                        # embedding layer\n",
        "\n",
        "reg_model.add(tf.keras.layers.GlobalMaxPooling1D())\n",
        "\n",
        "reg_model.add(Dense(100, activation='relu'))                          # hidden layer\n",
        "\n",
        "reg_model.add(Dense(1, activation='sigmoid'))                         # classification layer"
      ],
      "execution_count": 88,
      "outputs": []
    },
    {
      "cell_type": "code",
      "metadata": {
        "colab": {
          "base_uri": "https://localhost:8080/"
        },
        "id": "YGRh2vNmd-G5",
        "outputId": "88bdf807-a189-468f-bda6-9246f81f80cd"
      },
      "source": [
        "reg_model.summary()"
      ],
      "execution_count": 89,
      "outputs": [
        {
          "output_type": "stream",
          "text": [
            "Model: \"sequential_7\"\n",
            "_________________________________________________________________\n",
            "Layer (type)                 Output Shape              Param #   \n",
            "=================================================================\n",
            "embedding_1 (Embedding)      (None, 732, 300)          5199600   \n",
            "_________________________________________________________________\n",
            "global_max_pooling1d_2 (Glob (None, 300)               0         \n",
            "_________________________________________________________________\n",
            "dense_18 (Dense)             (None, 100)               30100     \n",
            "_________________________________________________________________\n",
            "dense_19 (Dense)             (None, 1)                 101       \n",
            "=================================================================\n",
            "Total params: 5,229,801\n",
            "Trainable params: 30,201\n",
            "Non-trainable params: 5,199,600\n",
            "_________________________________________________________________\n"
          ],
          "name": "stdout"
        }
      ]
    },
    {
      "cell_type": "code",
      "metadata": {
        "colab": {
          "base_uri": "https://localhost:8080/"
        },
        "id": "z6GkDyVteDLv",
        "outputId": "84a17148-14a5-4e38-b778-6a40dcd51d47"
      },
      "source": [
        "reg_model.compile(optimizer='adam', loss='binary_crossentropy', metrics='accuracy')\n",
        "reg_model.fit(X_train, y_train, validation_data=(X_test, y_test), epochs=20, verbose=1)"
      ],
      "execution_count": 90,
      "outputs": [
        {
          "output_type": "stream",
          "text": [
            "Epoch 1/20\n",
            "47/47 [==============================] - 1s 14ms/step - loss: 0.6531 - accuracy: 0.6410 - val_loss: 0.6318 - val_accuracy: 0.6760\n",
            "Epoch 2/20\n",
            "47/47 [==============================] - 1s 12ms/step - loss: 0.6098 - accuracy: 0.6943 - val_loss: 0.6248 - val_accuracy: 0.6760\n",
            "Epoch 3/20\n",
            "47/47 [==============================] - 1s 11ms/step - loss: 0.6298 - accuracy: 0.6598 - val_loss: 0.6180 - val_accuracy: 0.6760\n",
            "Epoch 4/20\n",
            "47/47 [==============================] - 1s 11ms/step - loss: 0.6284 - accuracy: 0.6635 - val_loss: 0.6189 - val_accuracy: 0.6760\n",
            "Epoch 5/20\n",
            "47/47 [==============================] - 1s 11ms/step - loss: 0.6214 - accuracy: 0.6705 - val_loss: 0.6112 - val_accuracy: 0.6760\n",
            "Epoch 6/20\n",
            "47/47 [==============================] - 1s 11ms/step - loss: 0.6098 - accuracy: 0.6777 - val_loss: 0.6081 - val_accuracy: 0.6760\n",
            "Epoch 7/20\n",
            "47/47 [==============================] - 1s 11ms/step - loss: 0.6094 - accuracy: 0.6797 - val_loss: 0.6064 - val_accuracy: 0.6791\n",
            "Epoch 8/20\n",
            "47/47 [==============================] - 1s 11ms/step - loss: 0.6059 - accuracy: 0.6847 - val_loss: 0.6173 - val_accuracy: 0.6854\n",
            "Epoch 9/20\n",
            "47/47 [==============================] - 1s 11ms/step - loss: 0.6112 - accuracy: 0.6784 - val_loss: 0.6046 - val_accuracy: 0.6869\n",
            "Epoch 10/20\n",
            "47/47 [==============================] - 1s 11ms/step - loss: 0.6045 - accuracy: 0.6684 - val_loss: 0.6035 - val_accuracy: 0.6822\n",
            "Epoch 11/20\n",
            "47/47 [==============================] - 1s 12ms/step - loss: 0.5930 - accuracy: 0.6798 - val_loss: 0.6023 - val_accuracy: 0.6947\n",
            "Epoch 12/20\n",
            "47/47 [==============================] - 1s 11ms/step - loss: 0.6047 - accuracy: 0.6754 - val_loss: 0.6118 - val_accuracy: 0.6760\n",
            "Epoch 13/20\n",
            "47/47 [==============================] - 1s 12ms/step - loss: 0.5830 - accuracy: 0.6858 - val_loss: 0.6018 - val_accuracy: 0.6947\n",
            "Epoch 14/20\n",
            "47/47 [==============================] - 1s 11ms/step - loss: 0.5869 - accuracy: 0.6878 - val_loss: 0.6011 - val_accuracy: 0.6916\n",
            "Epoch 15/20\n",
            "47/47 [==============================] - 1s 11ms/step - loss: 0.5958 - accuracy: 0.6866 - val_loss: 0.6173 - val_accuracy: 0.6682\n",
            "Epoch 16/20\n",
            "47/47 [==============================] - 1s 11ms/step - loss: 0.5815 - accuracy: 0.7145 - val_loss: 0.6030 - val_accuracy: 0.6931\n",
            "Epoch 17/20\n",
            "47/47 [==============================] - 1s 11ms/step - loss: 0.5897 - accuracy: 0.6850 - val_loss: 0.6132 - val_accuracy: 0.6682\n",
            "Epoch 18/20\n",
            "47/47 [==============================] - 1s 11ms/step - loss: 0.5941 - accuracy: 0.6894 - val_loss: 0.6142 - val_accuracy: 0.6807\n",
            "Epoch 19/20\n",
            "47/47 [==============================] - 1s 11ms/step - loss: 0.5765 - accuracy: 0.6990 - val_loss: 0.6011 - val_accuracy: 0.6854\n",
            "Epoch 20/20\n",
            "47/47 [==============================] - 1s 11ms/step - loss: 0.5868 - accuracy: 0.6994 - val_loss: 0.6013 - val_accuracy: 0.6994\n"
          ],
          "name": "stdout"
        },
        {
          "output_type": "execute_result",
          "data": {
            "text/plain": [
              "<tensorflow.python.keras.callbacks.History at 0x7f594a5a4f10>"
            ]
          },
          "metadata": {
            "tags": []
          },
          "execution_count": 90
        }
      ]
    },
    {
      "cell_type": "markdown",
      "metadata": {
        "id": "UygHD2OCbZIe"
      },
      "source": [
        "## Metrics for Basic Softmax Classifier"
      ]
    },
    {
      "cell_type": "code",
      "metadata": {
        "colab": {
          "base_uri": "https://localhost:8080/"
        },
        "id": "YDGWvR91bYd3",
        "outputId": "3346be10-e4cc-4f9c-df92-3d37134d1eda"
      },
      "source": [
        "y_pred_reg_model = reg_model.predict(X_test).round()\n",
        "print(classification_report(y_test, y_pred_reg_model))"
      ],
      "execution_count": 93,
      "outputs": [
        {
          "output_type": "stream",
          "text": [
            "              precision    recall  f1-score   support\n",
            "\n",
            "         0.0       0.70      0.98      0.81       434\n",
            "         1.0       0.71      0.12      0.21       208\n",
            "\n",
            "    accuracy                           0.70       642\n",
            "   macro avg       0.71      0.55      0.51       642\n",
            "weighted avg       0.70      0.70      0.62       642\n",
            "\n"
          ],
          "name": "stdout"
        }
      ]
    },
    {
      "cell_type": "code",
      "metadata": {
        "id": "xEnrIxhwsJdP"
      },
      "source": [
        "try:\n",
        "    del tf_model\n",
        "except:\n",
        "    pass\n",
        "\n",
        "tf_model = tf.keras.Sequential()\n",
        "\n",
        "tf_model.add(embedding_layer)                                        # embedding layer\n",
        "\n",
        "\n",
        "tf_model.add(tf.keras.layers.Conv1D(\n",
        "    filters=5, \n",
        "    kernel_size=3, \n",
        "    strides=1, \n",
        "    padding='same', \n",
        "    activation='relu', \n",
        "    use_bias=True,\n",
        "    kernel_initializer='glorot_uniform', \n",
        "    bias_initializer='zeros')\n",
        "            )   \n",
        "\n",
        "tf_model.add(tf.keras.layers.GlobalMaxPooling1D())\n",
        "\n",
        "tf_model.add(Dense(100, activation='relu'))                          # hidden layer\n",
        "tf_model.add(Dense(1, activation='sigmoid'))                         # classification layer"
      ],
      "execution_count": 81,
      "outputs": []
    },
    {
      "cell_type": "code",
      "metadata": {
        "colab": {
          "base_uri": "https://localhost:8080/"
        },
        "id": "bkHQhl4WzWxX",
        "outputId": "339c5fd4-3225-4ab5-eb70-7aa323206226"
      },
      "source": [
        "tf_model.summary()"
      ],
      "execution_count": 82,
      "outputs": [
        {
          "output_type": "stream",
          "text": [
            "Model: \"sequential_6\"\n",
            "_________________________________________________________________\n",
            "Layer (type)                 Output Shape              Param #   \n",
            "=================================================================\n",
            "embedding_1 (Embedding)      (None, 732, 300)          5199600   \n",
            "_________________________________________________________________\n",
            "conv1d_1 (Conv1D)            (None, 732, 5)            4505      \n",
            "_________________________________________________________________\n",
            "global_max_pooling1d_1 (Glob (None, 5)                 0         \n",
            "_________________________________________________________________\n",
            "dense_16 (Dense)             (None, 100)               600       \n",
            "_________________________________________________________________\n",
            "dense_17 (Dense)             (None, 1)                 101       \n",
            "=================================================================\n",
            "Total params: 5,204,806\n",
            "Trainable params: 5,206\n",
            "Non-trainable params: 5,199,600\n",
            "_________________________________________________________________\n"
          ],
          "name": "stdout"
        }
      ]
    },
    {
      "cell_type": "code",
      "metadata": {
        "id": "rg9TeQDhsJdS"
      },
      "source": [
        "tf_model.compile(optimizer='adam', loss='binary_crossentropy', metrics='accuracy')\n"
      ],
      "execution_count": 83,
      "outputs": []
    },
    {
      "cell_type": "code",
      "metadata": {
        "colab": {
          "base_uri": "https://localhost:8080/"
        },
        "id": "nrmsg7bWsJdS",
        "outputId": "20c49f56-9362-40c4-cb3e-6c7d65eb4d26"
      },
      "source": [
        "tf_model.fit(X_train, y_train, validation_data=(X_test, y_test), epochs=20, verbose=1)\n"
      ],
      "execution_count": 85,
      "outputs": [
        {
          "output_type": "stream",
          "text": [
            "Epoch 1/20\n",
            "47/47 [==============================] - 1s 16ms/step - loss: 0.6052 - accuracy: 0.6709 - val_loss: 0.6196 - val_accuracy: 0.6760\n",
            "Epoch 2/20\n",
            "47/47 [==============================] - 1s 15ms/step - loss: 0.6044 - accuracy: 0.6749 - val_loss: 0.6258 - val_accuracy: 0.6760\n",
            "Epoch 3/20\n",
            "47/47 [==============================] - 1s 14ms/step - loss: 0.6024 - accuracy: 0.6729 - val_loss: 0.6206 - val_accuracy: 0.6620\n",
            "Epoch 4/20\n",
            "47/47 [==============================] - 1s 14ms/step - loss: 0.6023 - accuracy: 0.6742 - val_loss: 0.6172 - val_accuracy: 0.6838\n",
            "Epoch 5/20\n",
            "47/47 [==============================] - 1s 14ms/step - loss: 0.6025 - accuracy: 0.6783 - val_loss: 0.6202 - val_accuracy: 0.6760\n",
            "Epoch 6/20\n",
            "47/47 [==============================] - 1s 14ms/step - loss: 0.6032 - accuracy: 0.6776 - val_loss: 0.6207 - val_accuracy: 0.6760\n",
            "Epoch 7/20\n",
            "47/47 [==============================] - 1s 14ms/step - loss: 0.5989 - accuracy: 0.6763 - val_loss: 0.6180 - val_accuracy: 0.6760\n",
            "Epoch 8/20\n",
            "47/47 [==============================] - 1s 14ms/step - loss: 0.6010 - accuracy: 0.6789 - val_loss: 0.6265 - val_accuracy: 0.6760\n",
            "Epoch 9/20\n",
            "47/47 [==============================] - 1s 14ms/step - loss: 0.6014 - accuracy: 0.6803 - val_loss: 0.6173 - val_accuracy: 0.6760\n",
            "Epoch 10/20\n",
            "47/47 [==============================] - 1s 14ms/step - loss: 0.6002 - accuracy: 0.6769 - val_loss: 0.6199 - val_accuracy: 0.6822\n",
            "Epoch 11/20\n",
            "47/47 [==============================] - 1s 14ms/step - loss: 0.5961 - accuracy: 0.6789 - val_loss: 0.6208 - val_accuracy: 0.6745\n",
            "Epoch 12/20\n",
            "47/47 [==============================] - 1s 14ms/step - loss: 0.5976 - accuracy: 0.6769 - val_loss: 0.6214 - val_accuracy: 0.6667\n",
            "Epoch 13/20\n",
            "47/47 [==============================] - 1s 14ms/step - loss: 0.6019 - accuracy: 0.6682 - val_loss: 0.6184 - val_accuracy: 0.6822\n",
            "Epoch 14/20\n",
            "47/47 [==============================] - 1s 14ms/step - loss: 0.5977 - accuracy: 0.6796 - val_loss: 0.6166 - val_accuracy: 0.6822\n",
            "Epoch 15/20\n",
            "47/47 [==============================] - 1s 14ms/step - loss: 0.5971 - accuracy: 0.6763 - val_loss: 0.6174 - val_accuracy: 0.6854\n",
            "Epoch 16/20\n",
            "47/47 [==============================] - 1s 14ms/step - loss: 0.5978 - accuracy: 0.6823 - val_loss: 0.6166 - val_accuracy: 0.6869\n",
            "Epoch 17/20\n",
            "47/47 [==============================] - 1s 14ms/step - loss: 0.5955 - accuracy: 0.6736 - val_loss: 0.6183 - val_accuracy: 0.6854\n",
            "Epoch 18/20\n",
            "47/47 [==============================] - 1s 14ms/step - loss: 0.5957 - accuracy: 0.6756 - val_loss: 0.6171 - val_accuracy: 0.6869\n",
            "Epoch 19/20\n",
            "47/47 [==============================] - 1s 14ms/step - loss: 0.5952 - accuracy: 0.6789 - val_loss: 0.6206 - val_accuracy: 0.6636\n",
            "Epoch 20/20\n",
            "47/47 [==============================] - 1s 14ms/step - loss: 0.5977 - accuracy: 0.6809 - val_loss: 0.6241 - val_accuracy: 0.6760\n"
          ],
          "name": "stdout"
        },
        {
          "output_type": "execute_result",
          "data": {
            "text/plain": [
              "<tensorflow.python.keras.callbacks.History at 0x7f594a67b350>"
            ]
          },
          "metadata": {
            "tags": []
          },
          "execution_count": 85
        }
      ]
    },
    {
      "cell_type": "code",
      "metadata": {
        "colab": {
          "base_uri": "https://localhost:8080/"
        },
        "id": "F4uWOqOea0h8",
        "outputId": "49331924-1f3c-4891-caaf-62dbe478fc74"
      },
      "source": [
        "y_pred_tf_model = tf_model.predict(X_test).round()\n",
        "print(y_pred_tf_model.shape)\n",
        "print(classification_report(y_test, y_pred_tf_model))"
      ],
      "execution_count": 86,
      "outputs": [
        {
          "output_type": "stream",
          "text": [
            "(642, 1)\n",
            "              precision    recall  f1-score   support\n",
            "\n",
            "         0.0       0.68      1.00      0.81       434\n",
            "         1.0       0.50      0.00      0.01       208\n",
            "\n",
            "    accuracy                           0.68       642\n",
            "   macro avg       0.59      0.50      0.41       642\n",
            "weighted avg       0.62      0.68      0.55       642\n",
            "\n"
          ],
          "name": "stdout"
        }
      ]
    },
    {
      "cell_type": "code",
      "metadata": {
        "colab": {
          "base_uri": "https://localhost:8080/"
        },
        "id": "q39efJdUqPHs",
        "outputId": "26dd44f7-d6a2-4f3b-ebb8-a2ca3679492b"
      },
      "source": [
        "!pip install shap\n",
        "import shap"
      ],
      "execution_count": 95,
      "outputs": [
        {
          "output_type": "stream",
          "text": [
            "Collecting shap\n",
            "\u001b[?25l  Downloading https://files.pythonhosted.org/packages/b9/f4/c5b95cddae15be80f8e58b25edceca105aa83c0b8c86a1edad24a6af80d3/shap-0.39.0.tar.gz (356kB)\n",
            "\r\u001b[K     |█                               | 10kB 23.1MB/s eta 0:00:01\r\u001b[K     |█▉                              | 20kB 30.7MB/s eta 0:00:01\r\u001b[K     |██▊                             | 30kB 23.0MB/s eta 0:00:01\r\u001b[K     |███▊                            | 40kB 21.0MB/s eta 0:00:01\r\u001b[K     |████▋                           | 51kB 21.2MB/s eta 0:00:01\r\u001b[K     |█████▌                          | 61kB 16.1MB/s eta 0:00:01\r\u001b[K     |██████▍                         | 71kB 16.9MB/s eta 0:00:01\r\u001b[K     |███████▍                        | 81kB 17.6MB/s eta 0:00:01\r\u001b[K     |████████▎                       | 92kB 15.6MB/s eta 0:00:01\r\u001b[K     |█████████▏                      | 102kB 16.7MB/s eta 0:00:01\r\u001b[K     |██████████▏                     | 112kB 16.7MB/s eta 0:00:01\r\u001b[K     |███████████                     | 122kB 16.7MB/s eta 0:00:01\r\u001b[K     |████████████                    | 133kB 16.7MB/s eta 0:00:01\r\u001b[K     |████████████▉                   | 143kB 16.7MB/s eta 0:00:01\r\u001b[K     |█████████████▉                  | 153kB 16.7MB/s eta 0:00:01\r\u001b[K     |██████████████▊                 | 163kB 16.7MB/s eta 0:00:01\r\u001b[K     |███████████████▋                | 174kB 16.7MB/s eta 0:00:01\r\u001b[K     |████████████████▋               | 184kB 16.7MB/s eta 0:00:01\r\u001b[K     |█████████████████▌              | 194kB 16.7MB/s eta 0:00:01\r\u001b[K     |██████████████████▍             | 204kB 16.7MB/s eta 0:00:01\r\u001b[K     |███████████████████▎            | 215kB 16.7MB/s eta 0:00:01\r\u001b[K     |████████████████████▎           | 225kB 16.7MB/s eta 0:00:01\r\u001b[K     |█████████████████████▏          | 235kB 16.7MB/s eta 0:00:01\r\u001b[K     |██████████████████████          | 245kB 16.7MB/s eta 0:00:01\r\u001b[K     |███████████████████████         | 256kB 16.7MB/s eta 0:00:01\r\u001b[K     |████████████████████████        | 266kB 16.7MB/s eta 0:00:01\r\u001b[K     |████████████████████████▉       | 276kB 16.7MB/s eta 0:00:01\r\u001b[K     |█████████████████████████▊      | 286kB 16.7MB/s eta 0:00:01\r\u001b[K     |██████████████████████████▊     | 296kB 16.7MB/s eta 0:00:01\r\u001b[K     |███████████████████████████▋    | 307kB 16.7MB/s eta 0:00:01\r\u001b[K     |████████████████████████████▌   | 317kB 16.7MB/s eta 0:00:01\r\u001b[K     |█████████████████████████████▍  | 327kB 16.7MB/s eta 0:00:01\r\u001b[K     |██████████████████████████████▍ | 337kB 16.7MB/s eta 0:00:01\r\u001b[K     |███████████████████████████████▎| 348kB 16.7MB/s eta 0:00:01\r\u001b[K     |████████████████████████████████| 358kB 16.7MB/s \n",
            "\u001b[?25hRequirement already satisfied: numpy in /usr/local/lib/python3.7/dist-packages (from shap) (1.19.5)\n",
            "Requirement already satisfied: scipy in /usr/local/lib/python3.7/dist-packages (from shap) (1.4.1)\n",
            "Requirement already satisfied: scikit-learn in /usr/local/lib/python3.7/dist-packages (from shap) (0.22.2.post1)\n",
            "Requirement already satisfied: pandas in /usr/local/lib/python3.7/dist-packages (from shap) (1.1.5)\n",
            "Requirement already satisfied: tqdm>4.25.0 in /usr/local/lib/python3.7/dist-packages (from shap) (4.41.1)\n",
            "Collecting slicer==0.0.7\n",
            "  Downloading https://files.pythonhosted.org/packages/78/c2/b3f55dfdb8af9812fdb9baf70cacf3b9e82e505b2bd4324d588888b81202/slicer-0.0.7-py3-none-any.whl\n",
            "Requirement already satisfied: numba in /usr/local/lib/python3.7/dist-packages (from shap) (0.51.2)\n",
            "Requirement already satisfied: cloudpickle in /usr/local/lib/python3.7/dist-packages (from shap) (1.3.0)\n",
            "Requirement already satisfied: joblib>=0.11 in /usr/local/lib/python3.7/dist-packages (from scikit-learn->shap) (1.0.1)\n",
            "Requirement already satisfied: pytz>=2017.2 in /usr/local/lib/python3.7/dist-packages (from pandas->shap) (2018.9)\n",
            "Requirement already satisfied: python-dateutil>=2.7.3 in /usr/local/lib/python3.7/dist-packages (from pandas->shap) (2.8.1)\n",
            "Requirement already satisfied: setuptools in /usr/local/lib/python3.7/dist-packages (from numba->shap) (54.2.0)\n",
            "Requirement already satisfied: llvmlite<0.35,>=0.34.0.dev0 in /usr/local/lib/python3.7/dist-packages (from numba->shap) (0.34.0)\n",
            "Requirement already satisfied: six>=1.5 in /usr/local/lib/python3.7/dist-packages (from python-dateutil>=2.7.3->pandas->shap) (1.15.0)\n",
            "Building wheels for collected packages: shap\n",
            "  Building wheel for shap (setup.py) ... \u001b[?25l\u001b[?25hdone\n",
            "  Created wheel for shap: filename=shap-0.39.0-cp37-cp37m-linux_x86_64.whl size=491635 sha256=aa887faaf0e5c102b508890e9d79a61fd24651f93c5ba63fc36b4ba470445cde\n",
            "  Stored in directory: /root/.cache/pip/wheels/15/27/f5/a8ab9da52fd159aae6477b5ede6eaaec69fd130fa0fa59f283\n",
            "Successfully built shap\n",
            "Installing collected packages: slicer, shap\n",
            "Successfully installed shap-0.39.0 slicer-0.0.7\n"
          ],
          "name": "stdout"
        }
      ]
    },
    {
      "cell_type": "code",
      "metadata": {
        "colab": {
          "base_uri": "https://localhost:8080/"
        },
        "id": "d7QovhppqVO-",
        "outputId": "41b12ebe-288e-43db-d75c-992bf685654a"
      },
      "source": [
        "explainer = shap.Explainer(tf_model)\n",
        "explainer"
      ],
      "execution_count": 97,
      "outputs": [
        {
          "output_type": "execute_result",
          "data": {
            "text/plain": [
              "<shap.explainers._permutation.Permutation at 0x7f58c21fbc10>"
            ]
          },
          "metadata": {
            "tags": []
          },
          "execution_count": 97
        }
      ]
    },
    {
      "cell_type": "code",
      "metadata": {
        "id": "1vN0zPq0sJdT"
      },
      "source": [
        "[print(i.shape, i.dtype) for i in tf_model.inputs]\n",
        "[print(o.shape, o.dtype) for o in tf_model.outputs]\n",
        "[print(l.name, l.input_shape, l.dtype) for l in tf_model.layers]"
      ],
      "execution_count": null,
      "outputs": []
    },
    {
      "cell_type": "code",
      "metadata": {
        "id": "JXVOWOKUsJdV"
      },
      "source": [
        ""
      ],
      "execution_count": null,
      "outputs": []
    }
  ]
}