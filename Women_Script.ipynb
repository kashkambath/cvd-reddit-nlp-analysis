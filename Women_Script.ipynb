{
 "cells": [
  {
   "cell_type": "code",
   "execution_count": 1,
   "metadata": {},
   "outputs": [
    {
     "name": "stdout",
     "output_type": "stream",
     "text": [
      "Collecting praw\n",
      "  Downloading praw-7.2.0-py3-none-any.whl (159 kB)\n",
      "\u001b[K     |████████████████████████████████| 159 kB 2.8 MB/s eta 0:00:01\n",
      "\u001b[?25hCollecting update-checker>=0.18\n",
      "  Downloading update_checker-0.18.0-py3-none-any.whl (7.0 kB)\n",
      "Collecting prawcore<3,>=2\n",
      "  Downloading prawcore-2.0.0-py3-none-any.whl (15 kB)\n",
      "Collecting websocket-client>=0.54.0\n",
      "  Downloading websocket_client-0.58.0-py2.py3-none-any.whl (61 kB)\n",
      "\u001b[K     |████████████████████████████████| 61 kB 6.4 MB/s  eta 0:00:01\n",
      "\u001b[?25hRequirement already satisfied: requests>=2.3.0 in /Users/swethapola/opt/anaconda3/lib/python3.8/site-packages (from update-checker>=0.18->praw) (2.24.0)\n",
      "Requirement already satisfied: six in /Users/swethapola/opt/anaconda3/lib/python3.8/site-packages (from websocket-client>=0.54.0->praw) (1.15.0)\n",
      "Requirement already satisfied: chardet<4,>=3.0.2 in /Users/swethapola/opt/anaconda3/lib/python3.8/site-packages (from requests>=2.3.0->update-checker>=0.18->praw) (3.0.4)\n",
      "Requirement already satisfied: certifi>=2017.4.17 in /Users/swethapola/opt/anaconda3/lib/python3.8/site-packages (from requests>=2.3.0->update-checker>=0.18->praw) (2020.6.20)\n",
      "Requirement already satisfied: urllib3!=1.25.0,!=1.25.1,<1.26,>=1.21.1 in /Users/swethapola/opt/anaconda3/lib/python3.8/site-packages (from requests>=2.3.0->update-checker>=0.18->praw) (1.25.11)\n",
      "Requirement already satisfied: idna<3,>=2.5 in /Users/swethapola/opt/anaconda3/lib/python3.8/site-packages (from requests>=2.3.0->update-checker>=0.18->praw) (2.10)\n",
      "Installing collected packages: update-checker, prawcore, websocket-client, praw\n",
      "Successfully installed praw-7.2.0 prawcore-2.0.0 update-checker-0.18.0 websocket-client-0.58.0\n",
      "Note: you may need to restart the kernel to use updated packages.\n"
     ]
    }
   ],
   "source": [
    "pip install praw"
   ]
  },
  {
   "cell_type": "code",
   "execution_count": 57,
   "metadata": {},
   "outputs": [],
   "source": [
    "import praw\n",
    "import pandas as pd"
   ]
  },
  {
   "cell_type": "code",
   "execution_count": 8,
   "metadata": {},
   "outputs": [],
   "source": [
    "reddit = praw.Reddit(client_id='Zv2KxMP5vx0Q6g', client_secret='NoeyEJSkPNA9IRNXtIYiarJOX-_94g', user_agent='WebScraping CVD')"
   ]
  },
  {
   "cell_type": "code",
   "execution_count": 18,
   "metadata": {},
   "outputs": [],
   "source": [
    "def get_subreddit_posts(sub_name, search_term):\n",
    "    posts = reddit.subreddit(sub_name).search(search_term)\n",
    "    return posts"
   ]
  },
  {
   "cell_type": "code",
   "execution_count": 95,
   "metadata": {},
   "outputs": [],
   "source": [
    "terms = ['heart surgery', 'heart attack', 'ekg', 'cardiac',\n",
    "         'stent', 'cholesterol', 'stroke', 'chest pain', \n",
    "         'Bypass','Sepsis','Pass','Coronary artery','PCI','CVD', \n",
    "         'Cardiovascular','Grafts']"
   ]
  },
  {
   "cell_type": "code",
   "execution_count": 93,
   "metadata": {},
   "outputs": [],
   "source": [
    "women_sr = []\n",
    "for term in terms:\n",
    "    women_sr.append(get_subreddit_posts(\"AskWomen\", term))"
   ]
  },
  {
   "cell_type": "code",
   "execution_count": 96,
   "metadata": {},
   "outputs": [],
   "source": [
    "topics_dict = { \"title\":[], \\\n",
    "                \"comments\":[], \\\n",
    "                \"score\":[], \\\n",
    "                \"id\":[], \\\n",
    "                \"num_comments\": [], \\\n",
    "                \"created\": [], \\\n",
    "                \"body\":[]}"
   ]
  },
  {
   "cell_type": "code",
   "execution_count": 97,
   "metadata": {},
   "outputs": [],
   "source": [
    "\n",
    "def populate_dict(submissions):\n",
    "    for submission in submissions:\n",
    "        submission.comments.replace_more(limit=None)\n",
    "        comments = [comment.body for comment in submission.comments.list()]\n",
    "        topics_dict[\"title\"].append(submission.title)\n",
    "        topics_dict[\"comments\"].append(comments)\n",
    "        topics_dict[\"score\"].append(submission.score)\n",
    "        topics_dict[\"id\"].append(submission.id)\n",
    "        topics_dict[\"num_comments\"].append(submission.num_comments)\n",
    "        topics_dict[\"created\"].append(submission.created)\n",
    "        topics_dict[\"body\"].append(submission.selftext)"
   ]
  },
  {
   "cell_type": "code",
   "execution_count": 98,
   "metadata": {},
   "outputs": [],
   "source": [
    "for i in women_sr:\n",
    "    populate_dict(i)"
   ]
  },
  {
   "cell_type": "code",
   "execution_count": 106,
   "metadata": {},
   "outputs": [],
   "source": [
    "topics_data = pd.DataFrame(topics_dict)\n",
    "df = topics_data.explode('comments')\n",
    "df = df[df['comments'].notna()]"
   ]
  },
  {
   "cell_type": "code",
   "execution_count": 109,
   "metadata": {},
   "outputs": [
    {
     "data": {
      "text/plain": [
       "1038"
      ]
     },
     "execution_count": 109,
     "metadata": {},
     "output_type": "execute_result"
    }
   ],
   "source": [
    "filtered = df[df[\"comments\"].str.contains('heart surgery|heart attack|ekg|cardiac|stent|cholesterol|stroke|chest pain|bypass|sepsis|pass|coronary artery|pci|cvd cardiovascular|grafts', case = False)]\n",
    "len(filtered)\n"
   ]
  },
  {
   "cell_type": "code",
   "execution_count": 110,
   "metadata": {},
   "outputs": [
    {
     "data": {
      "text/html": [
       "<div>\n",
       "<style scoped>\n",
       "    .dataframe tbody tr th:only-of-type {\n",
       "        vertical-align: middle;\n",
       "    }\n",
       "\n",
       "    .dataframe tbody tr th {\n",
       "        vertical-align: top;\n",
       "    }\n",
       "\n",
       "    .dataframe thead th {\n",
       "        text-align: right;\n",
       "    }\n",
       "</style>\n",
       "<table border=\"1\" class=\"dataframe\">\n",
       "  <thead>\n",
       "    <tr style=\"text-align: right;\">\n",
       "      <th></th>\n",
       "      <th>title</th>\n",
       "      <th>comments</th>\n",
       "      <th>score</th>\n",
       "      <th>id</th>\n",
       "      <th>num_comments</th>\n",
       "      <th>created</th>\n",
       "      <th>body</th>\n",
       "    </tr>\n",
       "  </thead>\n",
       "  <tbody>\n",
       "    <tr>\n",
       "      <th>1</th>\n",
       "      <td>Have you or anyone you know had a near death e...</td>\n",
       "      <td>My dad had a heart attack and spent over 7 min...</td>\n",
       "      <td>10</td>\n",
       "      <td>kqifhk</td>\n",
       "      <td>18</td>\n",
       "      <td>1.609825e+09</td>\n",
       "      <td></td>\n",
       "    </tr>\n",
       "    <tr>\n",
       "      <th>1</th>\n",
       "      <td>Have you or anyone you know had a near death e...</td>\n",
       "      <td>I had dangerous open heart surgery due to mult...</td>\n",
       "      <td>10</td>\n",
       "      <td>kqifhk</td>\n",
       "      <td>18</td>\n",
       "      <td>1.609825e+09</td>\n",
       "      <td></td>\n",
       "    </tr>\n",
       "    <tr>\n",
       "      <th>1</th>\n",
       "      <td>Have you or anyone you know had a near death e...</td>\n",
       "      <td>In June of 2020, my Dad collapsed in our yard ...</td>\n",
       "      <td>10</td>\n",
       "      <td>kqifhk</td>\n",
       "      <td>18</td>\n",
       "      <td>1.609825e+09</td>\n",
       "      <td></td>\n",
       "    </tr>\n",
       "    <tr>\n",
       "      <th>1</th>\n",
       "      <td>Have you or anyone you know had a near death e...</td>\n",
       "      <td>after my twin aunts were born, my grandma beca...</td>\n",
       "      <td>10</td>\n",
       "      <td>kqifhk</td>\n",
       "      <td>18</td>\n",
       "      <td>1.609825e+09</td>\n",
       "      <td></td>\n",
       "    </tr>\n",
       "    <tr>\n",
       "      <th>2</th>\n",
       "      <td>When did you push a doctor who didn’t believe ...</td>\n",
       "      <td>Not me but my mother is the most severe case I...</td>\n",
       "      <td>4</td>\n",
       "      <td>i0qbnp</td>\n",
       "      <td>16</td>\n",
       "      <td>1.596159e+09</td>\n",
       "      <td></td>\n",
       "    </tr>\n",
       "  </tbody>\n",
       "</table>\n",
       "</div>"
      ],
      "text/plain": [
       "                                               title  \\\n",
       "1  Have you or anyone you know had a near death e...   \n",
       "1  Have you or anyone you know had a near death e...   \n",
       "1  Have you or anyone you know had a near death e...   \n",
       "1  Have you or anyone you know had a near death e...   \n",
       "2  When did you push a doctor who didn’t believe ...   \n",
       "\n",
       "                                            comments  score      id  \\\n",
       "1  My dad had a heart attack and spent over 7 min...     10  kqifhk   \n",
       "1  I had dangerous open heart surgery due to mult...     10  kqifhk   \n",
       "1  In June of 2020, my Dad collapsed in our yard ...     10  kqifhk   \n",
       "1  after my twin aunts were born, my grandma beca...     10  kqifhk   \n",
       "2  Not me but my mother is the most severe case I...      4  i0qbnp   \n",
       "\n",
       "   num_comments       created body  \n",
       "1            18  1.609825e+09       \n",
       "1            18  1.609825e+09       \n",
       "1            18  1.609825e+09       \n",
       "1            18  1.609825e+09       \n",
       "2            16  1.596159e+09       "
      ]
     },
     "execution_count": 110,
     "metadata": {},
     "output_type": "execute_result"
    }
   ],
   "source": [
    "filtered.head()"
   ]
  },
  {
   "cell_type": "code",
   "execution_count": null,
   "metadata": {},
   "outputs": [],
   "source": []
  },
  {
   "cell_type": "code",
   "execution_count": null,
   "metadata": {},
   "outputs": [],
   "source": []
  }
 ],
 "metadata": {
  "kernelspec": {
   "display_name": "Python 3",
   "language": "python",
   "name": "python3"
  },
  "language_info": {
   "codemirror_mode": {
    "name": "ipython",
    "version": 3
   },
   "file_extension": ".py",
   "mimetype": "text/x-python",
   "name": "python",
   "nbconvert_exporter": "python",
   "pygments_lexer": "ipython3",
   "version": "3.8.5"
  }
 },
 "nbformat": 4,
 "nbformat_minor": 4
}
