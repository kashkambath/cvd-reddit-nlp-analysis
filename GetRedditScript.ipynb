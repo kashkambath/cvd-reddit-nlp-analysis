{
 "cells": [
  {
   "cell_type": "code",
   "execution_count": 1,
   "metadata": {},
   "outputs": [
    {
     "name": "stdout",
     "output_type": "stream",
     "text": [
      "Collecting praw\n",
      "  Downloading praw-7.2.0-py3-none-any.whl (159 kB)\n",
      "\u001b[K     |████████████████████████████████| 159 kB 3.7 MB/s eta 0:00:01\n",
      "\u001b[?25hCollecting prawcore<3,>=2\n",
      "  Downloading prawcore-2.0.0-py3-none-any.whl (15 kB)\n",
      "Collecting update-checker>=0.18\n",
      "  Downloading update_checker-0.18.0-py3-none-any.whl (7.0 kB)\n",
      "Collecting websocket-client>=0.54.0\n",
      "  Downloading websocket_client-0.58.0-py2.py3-none-any.whl (61 kB)\n",
      "\u001b[K     |████████████████████████████████| 61 kB 5.6 MB/s eta 0:00:01\n",
      "\u001b[?25hRequirement already satisfied: requests<3.0,>=2.6.0 in /Users/mpanahiazar/opt/anaconda3/lib/python3.8/site-packages (from prawcore<3,>=2->praw) (2.24.0)\n",
      "Requirement already satisfied: six in /Users/mpanahiazar/opt/anaconda3/lib/python3.8/site-packages (from websocket-client>=0.54.0->praw) (1.15.0)\n",
      "Requirement already satisfied: idna<3,>=2.5 in /Users/mpanahiazar/opt/anaconda3/lib/python3.8/site-packages (from requests<3.0,>=2.6.0->prawcore<3,>=2->praw) (2.10)\n",
      "Requirement already satisfied: urllib3!=1.25.0,!=1.25.1,<1.26,>=1.21.1 in /Users/mpanahiazar/opt/anaconda3/lib/python3.8/site-packages (from requests<3.0,>=2.6.0->prawcore<3,>=2->praw) (1.25.11)\n",
      "Requirement already satisfied: chardet<4,>=3.0.2 in /Users/mpanahiazar/opt/anaconda3/lib/python3.8/site-packages (from requests<3.0,>=2.6.0->prawcore<3,>=2->praw) (3.0.4)\n",
      "Requirement already satisfied: certifi>=2017.4.17 in /Users/mpanahiazar/opt/anaconda3/lib/python3.8/site-packages (from requests<3.0,>=2.6.0->prawcore<3,>=2->praw) (2020.6.20)\n",
      "Installing collected packages: prawcore, update-checker, websocket-client, praw\n",
      "Successfully installed praw-7.2.0 prawcore-2.0.0 update-checker-0.18.0 websocket-client-0.58.0\n",
      "Note: you may need to restart the kernel to use updated packages.\n"
     ]
    }
   ],
   "source": [
    "pip install praw"
   ]
  },
  {
   "cell_type": "code",
   "execution_count": 2,
   "metadata": {},
   "outputs": [],
   "source": [
    "import praw"
   ]
  },
  {
   "cell_type": "code",
   "execution_count": 4,
   "metadata": {},
   "outputs": [],
   "source": [
    "reddit = praw.Reddit(client_id='MhOdP44r4REVIA', client_secret='k6ZUG7A4H-Qc6gIwlSpBKgxNkiQn-w', user_agent='GenderBasedStudy')"
   ]
  },
  {
   "cell_type": "code",
   "execution_count": 5,
   "metadata": {},
   "outputs": [
    {
     "name": "stdout",
     "output_type": "stream",
     "text": [
      "[D] Simple Questions Thread December 20, 2020\n",
      "[D] I feel like an impostor who just pushes buttons and pretends they are doing ML, but in reality knows nothing and can be replaced by anybody\n",
      "[D] Why does everyone talk of deployment as something which is hard to do?\n",
      "[N] Turing Award Winners Yoshua Bengio, Geoffrey Hinton, and Yann LeCun to Speak at GTC21\n",
      "[R] Barlow Twins: Self-Supervised Learning via Redundancy Reduction\n",
      "[R] Max Welling's New Talk: Exploiting Symmetries in Inference and Learning\n",
      "[N] Attention Is Not All You Need: Google & EPFL Study Reveals Huge Inductive Biases in Self-Attention Architectures\n",
      "[R] Survey on Explainable AI (XAI)\n",
      "[D] The real problem program of the next 5 years. Not in any way a joke, i want someone to answer to this.\n",
      "[D] Google cloud vs other cloud solutions for AI/machine learning\n"
     ]
    }
   ],
   "source": [
    "# get 10 hot posts from the MachineLearning subreddit\n",
    "hot_posts = reddit.subreddit('MachineLearning').hot(limit=10)\n",
    "for post in hot_posts:\n",
    "    print(post.title)"
   ]
  },
  {
   "cell_type": "code",
   "execution_count": 6,
   "metadata": {},
   "outputs": [
    {
     "name": "stdout",
     "output_type": "stream",
     "text": [
      "MOD POST: REPORTS AND YOU\n",
      "How do you forgive yourself for your past?\n",
      "Late bloomers who eventually got their lives in order, what's your story?\n",
      "How do you deal with loneliness?\n",
      "What's your current fitness goal and how's progress been? Or if you don't have one, why not?\n",
      "How often do you reach out to past connections such as old friends and coworkers?\n",
      "How can I be better at conversation?\n",
      "Do you have/follow any principles? How?\n",
      "Do you like it when someone plays with your nipples? If no, why?\n",
      "Ex-smokers: what were some positive changes you noticed after quitting?\n"
     ]
    }
   ],
   "source": [
    "# get 10 hot posts from the MachineLearning subreddit\n",
    "hot_posts = reddit.subreddit('AskMen').hot(limit=10)\n",
    "for post in hot_posts:\n",
    "    print(post.title)"
   ]
  },
  {
   "cell_type": "code",
   "execution_count": null,
   "metadata": {},
   "outputs": [],
   "source": []
  }
 ],
 "metadata": {
  "kernelspec": {
   "display_name": "Python 3",
   "language": "python",
   "name": "python3"
  },
  "language_info": {
   "codemirror_mode": {
    "name": "ipython",
    "version": 3
   },
   "file_extension": ".py",
   "mimetype": "text/x-python",
   "name": "python",
   "nbconvert_exporter": "python",
   "pygments_lexer": "ipython3",
   "version": "3.8.5"
  }
 },
 "nbformat": 4,
 "nbformat_minor": 4
}
