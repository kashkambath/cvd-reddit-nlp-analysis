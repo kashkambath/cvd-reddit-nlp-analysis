{
 "cells": [
  {
   "cell_type": "code",
   "execution_count": 2,
   "metadata": {},
   "outputs": [],
   "source": [
    "import praw\n",
    "import pandas as pd"
   ]
  },
  {
   "cell_type": "code",
   "execution_count": 3,
   "metadata": {},
   "outputs": [],
   "source": [
    "reddit = praw.Reddit(client_id='Zv2KxMP5vx0Q6g', client_secret='NoeyEJSkPNA9IRNXtIYiarJOX-_94g', user_agent='WebScraping CVD')"
   ]
  },
  {
   "cell_type": "code",
   "execution_count": 4,
   "metadata": {},
   "outputs": [],
   "source": [
    "terms = ['heart surgery', 'heart attack', 'ekg', 'cardiac',\n",
    "         'stent', 'cholesterol', 'stroke', 'chest pain', \n",
    "         'Bypass','Sepsis','Pass','Coronary artery','PCI','CVD', \n",
    "         'Cardiovascular','Grafts']\n",
    "\n",
    "women_topics_dict = {\"title\":[], \\\n",
    "                \"comments\":[], \\\n",
    "                \"score\":[], \\\n",
    "                \"id\":[], \\\n",
    "                \"num_comments\": [], \\\n",
    "                \"created\": [], \\\n",
    "                \"body\":[]}\n",
    "\n",
    "men_topics_dict = {\"title\":[], \\\n",
    "                \"comments\":[], \\\n",
    "                \"score\":[], \\\n",
    "                \"id\":[], \\\n",
    "                \"num_comments\": [], \\\n",
    "                \"created\": [], \\\n",
    "                \"body\":[]}"
   ]
  },
  {
   "cell_type": "code",
   "execution_count": 5,
   "metadata": {},
   "outputs": [],
   "source": [
    "def get_subreddit_posts(sub_name, search_term):\n",
    "    posts = reddit.subreddit(sub_name).search(search_term)\n",
    "    return posts\n",
    "\n",
    "def create_sr_objects(sub_name):\n",
    "    subreddit = []\n",
    "    for term in terms:\n",
    "        subreddit.append(get_subreddit_posts(sub_name, term))\n",
    "    return subreddit\n",
    "\n",
    "def populate_dict(submissions, topics_dict):\n",
    "    for submission in submissions:\n",
    "        submission.comments.replace_more(limit=None)\n",
    "        comments = [comment.body for comment in submission.comments.list()]\n",
    "        topics_dict[\"title\"].append(submission.title)\n",
    "        topics_dict[\"comments\"].append(comments)\n",
    "        topics_dict[\"score\"].append(submission.score)\n",
    "        topics_dict[\"id\"].append(submission.id)\n",
    "        topics_dict[\"num_comments\"].append(submission.num_comments)\n",
    "        topics_dict[\"created\"].append(submission.created)\n",
    "        topics_dict[\"body\"].append(submission.selftext)"
   ]
  },
  {
   "cell_type": "code",
   "execution_count": 6,
   "metadata": {},
   "outputs": [],
   "source": [
    "women_sr = create_sr_objects(\"AskWomen\")\n",
    "men_sr = create_sr_objects(\"AskMen\")"
   ]
  },
  {
   "cell_type": "code",
   "execution_count": 8,
   "metadata": {},
   "outputs": [],
   "source": [
    "for i in women_sr:\n",
    "    populate_dict(i, women_topics_dict)"
   ]
  },
  {
   "cell_type": "code",
   "execution_count": 16,
   "metadata": {},
   "outputs": [],
   "source": [
    "for i in men_sr:\n",
    "    populate_dict(i, men_topics_dict)"
   ]
  },
  {
   "cell_type": "code",
   "execution_count": 13,
   "metadata": {},
   "outputs": [],
   "source": [
    "def clean_dataset(data):\n",
    "    topics_data = pd.DataFrame(data)\n",
    "    df = topics_data.explode('comments') #currently, comments is a list... lets expand them into rows\n",
    "    df = df[df['comments'].notna()]\n",
    "    \n",
    "    #the praw search function grabs matches to titles, body of og posts, and comments so lets find them\n",
    "    search = 'heart surgery|heart attack|ekg|cardiac|stent|cholesterol|stroke|chest pain|bypass|sepsis|pass|coronary artery|pci|cvd|cardiovascular|grafts'\n",
    "    comments_df = df[df[\"comments\"].str.contains(search, case = False)]\n",
    "    titles_df = df[df[\"title\"].str.contains(search, case = False)]\n",
    "    body_df = df[df[\"body\"].str.contains(search, case = False)]\n",
    "    \n",
    "    comments = comments_df[\"comments\"]\n",
    "    titles = titles_df[\"title\"].drop_duplicates()\n",
    "    body = body_df[\"body\"].drop_duplicates()\n",
    "    \n",
    "    #put them all together into 1 column\n",
    "    final = pd.DataFrame(pd.concat([comments, titles, body])).reset_index(drop = True)\n",
    "    return final"
   ]
  },
  {
   "cell_type": "code",
   "execution_count": 14,
   "metadata": {},
   "outputs": [],
   "source": [
    "women_data = clean_dataset(women_topics_dict)"
   ]
  },
  {
   "cell_type": "code",
   "execution_count": null,
   "metadata": {},
   "outputs": [],
   "source": [
    "men_data = clean_dataset(men_topics_dict)"
   ]
  },
  {
   "cell_type": "code",
   "execution_count": 15,
   "metadata": {},
   "outputs": [
    {
     "data": {
      "text/html": [
       "<div>\n",
       "<style scoped>\n",
       "    .dataframe tbody tr th:only-of-type {\n",
       "        vertical-align: middle;\n",
       "    }\n",
       "\n",
       "    .dataframe tbody tr th {\n",
       "        vertical-align: top;\n",
       "    }\n",
       "\n",
       "    .dataframe thead th {\n",
       "        text-align: right;\n",
       "    }\n",
       "</style>\n",
       "<table border=\"1\" class=\"dataframe\">\n",
       "  <thead>\n",
       "    <tr style=\"text-align: right;\">\n",
       "      <th></th>\n",
       "      <th>0</th>\n",
       "    </tr>\n",
       "  </thead>\n",
       "  <tbody>\n",
       "    <tr>\n",
       "      <th>0</th>\n",
       "      <td>My dad had a heart attack and spent over 7 min...</td>\n",
       "    </tr>\n",
       "    <tr>\n",
       "      <th>1</th>\n",
       "      <td>I had dangerous open heart surgery due to mult...</td>\n",
       "    </tr>\n",
       "    <tr>\n",
       "      <th>2</th>\n",
       "      <td>In June of 2020, my Dad collapsed in our yard ...</td>\n",
       "    </tr>\n",
       "    <tr>\n",
       "      <th>3</th>\n",
       "      <td>after my twin aunts were born, my grandma beca...</td>\n",
       "    </tr>\n",
       "    <tr>\n",
       "      <th>4</th>\n",
       "      <td>Not me but my mother is the most severe case I...</td>\n",
       "    </tr>\n",
       "    <tr>\n",
       "      <th>...</th>\n",
       "      <td>...</td>\n",
       "    </tr>\n",
       "    <tr>\n",
       "      <th>1170</th>\n",
       "      <td>Edit: also what if this hall pass was in respo...</td>\n",
       "    </tr>\n",
       "    <tr>\n",
       "      <th>1171</th>\n",
       "      <td>My best friend passed away and when I found ou...</td>\n",
       "    </tr>\n",
       "    <tr>\n",
       "      <th>1172</th>\n",
       "      <td>I was recently informed by a member of this co...</td>\n",
       "    </tr>\n",
       "    <tr>\n",
       "      <th>1173</th>\n",
       "      <td>Hello, I could really use some help. I am a 17...</td>\n",
       "    </tr>\n",
       "    <tr>\n",
       "      <th>1174</th>\n",
       "      <td>I'm older (F) and he's older too. We've had an...</td>\n",
       "    </tr>\n",
       "  </tbody>\n",
       "</table>\n",
       "<p>1175 rows × 1 columns</p>\n",
       "</div>"
      ],
      "text/plain": [
       "                                                      0\n",
       "0     My dad had a heart attack and spent over 7 min...\n",
       "1     I had dangerous open heart surgery due to mult...\n",
       "2     In June of 2020, my Dad collapsed in our yard ...\n",
       "3     after my twin aunts were born, my grandma beca...\n",
       "4     Not me but my mother is the most severe case I...\n",
       "...                                                 ...\n",
       "1170  Edit: also what if this hall pass was in respo...\n",
       "1171  My best friend passed away and when I found ou...\n",
       "1172  I was recently informed by a member of this co...\n",
       "1173  Hello, I could really use some help. I am a 17...\n",
       "1174  I'm older (F) and he's older too. We've had an...\n",
       "\n",
       "[1175 rows x 1 columns]"
      ]
     },
     "execution_count": 15,
     "metadata": {},
     "output_type": "execute_result"
    }
   ],
   "source": [
    "women_data.to_csv(\"data/AskWomen_Data.csv\")\n",
    "men_data.to_csv(\"data/AskMen_Data.csv\")"
   ]
  },
  {
   "cell_type": "code",
   "execution_count": null,
   "metadata": {},
   "outputs": [],
   "source": []
  }
 ],
 "metadata": {
  "kernelspec": {
   "display_name": "Python 3",
   "language": "python",
   "name": "python3"
  },
  "language_info": {
   "codemirror_mode": {
    "name": "ipython",
    "version": 3
   },
   "file_extension": ".py",
   "mimetype": "text/x-python",
   "name": "python",
   "nbconvert_exporter": "python",
   "pygments_lexer": "ipython3",
   "version": "3.8.5"
  }
 },
 "nbformat": 4,
 "nbformat_minor": 4
}
