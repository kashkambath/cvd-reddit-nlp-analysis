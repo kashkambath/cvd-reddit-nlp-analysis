{
 "cells": [
  {
   "cell_type": "code",
   "execution_count": 7,
   "metadata": {},
   "outputs": [
    {
     "name": "stdout",
     "output_type": "stream",
     "text": [
      "Collecting TextBlob\n",
      "  Downloading textblob-0.15.3-py2.py3-none-any.whl (636 kB)\n",
      "\u001b[K     |████████████████████████████████| 636 kB 8.0 MB/s eta 0:00:01\n",
      "\u001b[?25hRequirement already satisfied: nltk>=3.1 in /home/swethapola/anaconda3/lib/python3.8/site-packages (from TextBlob) (3.5)\n",
      "Requirement already satisfied: regex in /home/swethapola/anaconda3/lib/python3.8/site-packages (from nltk>=3.1->TextBlob) (2020.6.8)\n",
      "Requirement already satisfied: joblib in /home/swethapola/anaconda3/lib/python3.8/site-packages (from nltk>=3.1->TextBlob) (0.16.0)\n",
      "Requirement already satisfied: click in /home/swethapola/anaconda3/lib/python3.8/site-packages (from nltk>=3.1->TextBlob) (7.1.2)\n",
      "Requirement already satisfied: tqdm in /home/swethapola/anaconda3/lib/python3.8/site-packages (from nltk>=3.1->TextBlob) (4.47.0)\n",
      "Installing collected packages: TextBlob\n",
      "Successfully installed TextBlob-0.15.3\n",
      "\u001b[33mWARNING: You are using pip version 20.3.3; however, version 21.0.1 is available.\n",
      "You should consider upgrading via the '/home/swethapola/anaconda3/bin/python -m pip install --upgrade pip' command.\u001b[0m\n"
     ]
    }
   ],
   "source": [
    "!pip install TextBlob"
   ]
  },
  {
   "cell_type": "code",
   "execution_count": 8,
   "metadata": {},
   "outputs": [],
   "source": [
    "import pandas as pd\n",
    "import numpy as np\n",
    "import pandas as pd\n",
    "from sklearn.feature_extraction.text import CountVectorizer\n",
    "from sklearn.feature_extraction import DictVectorizer\n",
    "from sklearn.feature_extraction.text import TfidfTransformer\n",
    "from sklearn.feature_extraction.stop_words import ENGLISH_STOP_WORDS\n",
    "from sklearn.feature_extraction.text import TfidfVectorizer\n",
    "from sklearn.model_selection import train_test_split\n",
    "from sklearn import linear_model\n",
    "import sklearn.metrics as m\n",
    "import matplotlib.pyplot as plt\n",
    "from sklearn.naive_bayes import MultinomialNB\n",
    "import itertools\n",
    "import seaborn as sn\n",
    "from textblob import TextBlob\n",
    "%matplotlib inline\n",
    "import nltk\n",
    "from nltk.stem import *\n",
    "import re \n",
    "import os\n",
    "from nltk.corpus import stopwords\n",
    "from nltk.tokenize import word_tokenize \n",
    "from sklearn.preprocessing import StandardScaler\n",
    "from sklearn.decomposition import PCA\n",
    "from sklearn.decomposition import KernelPCA\n",
    "from sklearn.cluster import KMeans as KMeans"
   ]
  },
  {
   "cell_type": "code",
   "execution_count": 14,
   "metadata": {},
   "outputs": [
    {
     "name": "stderr",
     "output_type": "stream",
     "text": [
      "[nltk_data] Downloading package punkt to /home/swethapola/nltk_data...\n",
      "[nltk_data]   Package punkt is already up-to-date!\n",
      "[nltk_data] Downloading package stopwords to\n",
      "[nltk_data]     /home/swethapola/nltk_data...\n",
      "[nltk_data]   Unzipping corpora/stopwords.zip.\n"
     ]
    },
    {
     "data": {
      "text/plain": [
       "True"
      ]
     },
     "execution_count": 14,
     "metadata": {},
     "output_type": "execute_result"
    }
   ],
   "source": [
    "nltk.download('punkt')\n",
    "nltk.download('stopwords')"
   ]
  },
  {
   "cell_type": "code",
   "execution_count": 52,
   "metadata": {},
   "outputs": [],
   "source": [
    "def preprocessor(data):\n",
    "    \n",
    "    # TfidfVectorizer puts all letters in lowercase by default\n",
    "    data = data.lower()\n",
    "\n",
    "    # sub hyphens with no space\n",
    "    data = re.sub(\"\\-\", '', data)\n",
    "    \n",
    "    # sub non letter & non digit characters w/ a space\n",
    "    data = re.sub(\"[^A-Za-z0-9 \\\\n]\",\"\", data)\n",
    "    \n",
    "    # sub digit characters with '#' character\n",
    "    #data = re.sub(\"[\\d]\", \"\\#\", data) \n",
    "    \n",
    "    #removing stop words\n",
    "    word_tokens = word_tokenize(data)\n",
    "    sw = stopwords.words(\"english\")\n",
    "    filtered_sentence = []\n",
    "    for w in word_tokens: \n",
    "        if w not in sw: \n",
    "            filtered_sentence.append(w) \n",
    "    \n",
    "    #turn list of tokens back into str\n",
    "    data = ' '.join(filtered_sentence)\n",
    "    \n",
    "    # shorten long words of length 20 or more\n",
    "    #data = re.sub('(\\w{20})\\w+', '\\\\1', data) #mainly gets rid of hyperlinks\n",
    "    \n",
    "    \n",
    "    # stemming words\n",
    "    #stem = PorterStemmer()\n",
    "    #for word in data:\n",
    "     #   data = data.replace(word, stem.stem(word))\n",
    "    \n",
    "    return data"
   ]
  },
  {
   "cell_type": "code",
   "execution_count": 53,
   "metadata": {},
   "outputs": [],
   "source": [
    "def tvect(data):\n",
    "    vect = TfidfVectorizer(min_df = 2, ngram_range = (2,4))\n",
    "    fitted = vect.fit_transform(data)\n",
    "    return fitted, vect.get_feature_names()\n",
    "\n",
    "def get_polarity(text):\n",
    "    blob = TextBlob(text)\n",
    "    return blob.sentiment.polarity"
   ]
  },
  {
   "cell_type": "code",
   "execution_count": 54,
   "metadata": {},
   "outputs": [],
   "source": [
    "def featurize(csv, path):\n",
    "    #read in csv & make a df\n",
    "    df = pd.read_csv(path + csv)\n",
    "    df = df.drop(\"Unnamed: 0\", axis = 1)\n",
    "\n",
    "\n",
    "    df = df.rename(columns={'0': 'text'})\n",
    "    \n",
    "    #add polarity column\n",
    "    df['polarity'] = df['text'].apply(get_polarity)\n",
    "    \n",
    "    #add preprocessed column\n",
    "    df['preprocess_full_text'] = df.text.apply(lambda x: preprocessor(x))\n",
    "    \n",
    "    #add feature names from TfidfVectorizer\n",
    "    featurized = tvect(df.preprocess_full_text)\n",
    "    df1 = pd.DataFrame(featurized[0].toarray(), columns=featurized[1])\n",
    "    df = pd.concat([df, df1], axis=1)\n",
    "    \n",
    "    \n",
    "    return df, featurized[1]\n"
   ]
  },
  {
   "cell_type": "code",
   "execution_count": 55,
   "metadata": {},
   "outputs": [],
   "source": [
    "w = featurize('AskWomen_Data.csv' , 'data/')\n",
    "w_df = w[0]\n",
    "w_features = w[1]"
   ]
  },
  {
   "cell_type": "code",
   "execution_count": 56,
   "metadata": {},
   "outputs": [],
   "source": [
    "m = featurize('AskMen_Data.csv' , 'data/')\n",
    "m_df = m[0]\n",
    "m_features = m[1]"
   ]
  },
  {
   "cell_type": "code",
   "execution_count": 57,
   "metadata": {},
   "outputs": [],
   "source": [
    "w_df[\"outcome\"] = 1\n",
    "m_df[\"outcome\"] = 0"
   ]
  },
  {
   "cell_type": "code",
   "execution_count": 58,
   "metadata": {},
   "outputs": [
    {
     "data": {
      "text/html": [
       "<div>\n",
       "<style scoped>\n",
       "    .dataframe tbody tr th:only-of-type {\n",
       "        vertical-align: middle;\n",
       "    }\n",
       "\n",
       "    .dataframe tbody tr th {\n",
       "        vertical-align: top;\n",
       "    }\n",
       "\n",
       "    .dataframe thead th {\n",
       "        text-align: right;\n",
       "    }\n",
       "</style>\n",
       "<table border=\"1\" class=\"dataframe\">\n",
       "  <thead>\n",
       "    <tr style=\"text-align: right;\">\n",
       "      <th></th>\n",
       "      <th>text</th>\n",
       "      <th>polarity</th>\n",
       "      <th>preprocess_full_text</th>\n",
       "      <th>10 hours</th>\n",
       "      <th>10 minutes</th>\n",
       "      <th>10 minutes without</th>\n",
       "      <th>10 minutes without rest</th>\n",
       "      <th>10 yawned</th>\n",
       "      <th>10 yawned walked</th>\n",
       "      <th>10 yawned walked slowly</th>\n",
       "      <th>...</th>\n",
       "      <th>youve stopped altogether</th>\n",
       "      <th>youve stopped altogether week</th>\n",
       "      <th>youve together</th>\n",
       "      <th>youve wasted</th>\n",
       "      <th>youve wasted time</th>\n",
       "      <th>youve wasted time always</th>\n",
       "      <th>zero woman</th>\n",
       "      <th>zero woman uses</th>\n",
       "      <th>zero woman uses condoms</th>\n",
       "      <th>outcome</th>\n",
       "    </tr>\n",
       "  </thead>\n",
       "  <tbody>\n",
       "    <tr>\n",
       "      <th>0</th>\n",
       "      <td>My dad had a heart attack and spent over 7 min...</td>\n",
       "      <td>0.038258</td>\n",
       "      <td>dad heart attack spent 7 minutes without oxyge...</td>\n",
       "      <td>0.317523</td>\n",
       "      <td>0.0</td>\n",
       "      <td>0.0</td>\n",
       "      <td>0.0</td>\n",
       "      <td>0.0</td>\n",
       "      <td>0.0</td>\n",
       "      <td>0.0</td>\n",
       "      <td>...</td>\n",
       "      <td>0.0</td>\n",
       "      <td>0.0</td>\n",
       "      <td>0.0</td>\n",
       "      <td>0.0</td>\n",
       "      <td>0.0</td>\n",
       "      <td>0.0</td>\n",
       "      <td>0.0</td>\n",
       "      <td>0.0</td>\n",
       "      <td>0.0</td>\n",
       "      <td>1</td>\n",
       "    </tr>\n",
       "    <tr>\n",
       "      <th>1</th>\n",
       "      <td>I had dangerous open heart surgery due to mult...</td>\n",
       "      <td>-0.072619</td>\n",
       "      <td>dangerous open heart surgery due multiple cong...</td>\n",
       "      <td>0.000000</td>\n",
       "      <td>0.0</td>\n",
       "      <td>0.0</td>\n",
       "      <td>0.0</td>\n",
       "      <td>0.0</td>\n",
       "      <td>0.0</td>\n",
       "      <td>0.0</td>\n",
       "      <td>...</td>\n",
       "      <td>0.0</td>\n",
       "      <td>0.0</td>\n",
       "      <td>0.0</td>\n",
       "      <td>0.0</td>\n",
       "      <td>0.0</td>\n",
       "      <td>0.0</td>\n",
       "      <td>0.0</td>\n",
       "      <td>0.0</td>\n",
       "      <td>0.0</td>\n",
       "      <td>1</td>\n",
       "    </tr>\n",
       "    <tr>\n",
       "      <th>2</th>\n",
       "      <td>In June of 2020, my Dad collapsed in our yard ...</td>\n",
       "      <td>0.054932</td>\n",
       "      <td>june 2020 dad collapsed yard helping us mow la...</td>\n",
       "      <td>0.000000</td>\n",
       "      <td>0.0</td>\n",
       "      <td>0.0</td>\n",
       "      <td>0.0</td>\n",
       "      <td>0.0</td>\n",
       "      <td>0.0</td>\n",
       "      <td>0.0</td>\n",
       "      <td>...</td>\n",
       "      <td>0.0</td>\n",
       "      <td>0.0</td>\n",
       "      <td>0.0</td>\n",
       "      <td>0.0</td>\n",
       "      <td>0.0</td>\n",
       "      <td>0.0</td>\n",
       "      <td>0.0</td>\n",
       "      <td>0.0</td>\n",
       "      <td>0.0</td>\n",
       "      <td>1</td>\n",
       "    </tr>\n",
       "    <tr>\n",
       "      <th>3</th>\n",
       "      <td>after my twin aunts were born, my grandma beca...</td>\n",
       "      <td>0.145833</td>\n",
       "      <td>twin aunts born grandma became severely ill cl...</td>\n",
       "      <td>0.000000</td>\n",
       "      <td>0.0</td>\n",
       "      <td>0.0</td>\n",
       "      <td>0.0</td>\n",
       "      <td>0.0</td>\n",
       "      <td>0.0</td>\n",
       "      <td>0.0</td>\n",
       "      <td>...</td>\n",
       "      <td>0.0</td>\n",
       "      <td>0.0</td>\n",
       "      <td>0.0</td>\n",
       "      <td>0.0</td>\n",
       "      <td>0.0</td>\n",
       "      <td>0.0</td>\n",
       "      <td>0.0</td>\n",
       "      <td>0.0</td>\n",
       "      <td>0.0</td>\n",
       "      <td>1</td>\n",
       "    </tr>\n",
       "    <tr>\n",
       "      <th>4</th>\n",
       "      <td>Not me but my mother is the most severe case I...</td>\n",
       "      <td>-0.192593</td>\n",
       "      <td>mother severe case think around 25 started reg...</td>\n",
       "      <td>0.000000</td>\n",
       "      <td>0.0</td>\n",
       "      <td>0.0</td>\n",
       "      <td>0.0</td>\n",
       "      <td>0.0</td>\n",
       "      <td>0.0</td>\n",
       "      <td>0.0</td>\n",
       "      <td>...</td>\n",
       "      <td>0.0</td>\n",
       "      <td>0.0</td>\n",
       "      <td>0.0</td>\n",
       "      <td>0.0</td>\n",
       "      <td>0.0</td>\n",
       "      <td>0.0</td>\n",
       "      <td>0.0</td>\n",
       "      <td>0.0</td>\n",
       "      <td>0.0</td>\n",
       "      <td>1</td>\n",
       "    </tr>\n",
       "  </tbody>\n",
       "</table>\n",
       "<p>5 rows × 20610 columns</p>\n",
       "</div>"
      ],
      "text/plain": [
       "                                                text  polarity  \\\n",
       "0  My dad had a heart attack and spent over 7 min...  0.038258   \n",
       "1  I had dangerous open heart surgery due to mult... -0.072619   \n",
       "2  In June of 2020, my Dad collapsed in our yard ...  0.054932   \n",
       "3  after my twin aunts were born, my grandma beca...  0.145833   \n",
       "4  Not me but my mother is the most severe case I... -0.192593   \n",
       "\n",
       "                                preprocess_full_text  10 hours  10 minutes  \\\n",
       "0  dad heart attack spent 7 minutes without oxyge...  0.317523         0.0   \n",
       "1  dangerous open heart surgery due multiple cong...  0.000000         0.0   \n",
       "2  june 2020 dad collapsed yard helping us mow la...  0.000000         0.0   \n",
       "3  twin aunts born grandma became severely ill cl...  0.000000         0.0   \n",
       "4  mother severe case think around 25 started reg...  0.000000         0.0   \n",
       "\n",
       "   10 minutes without  10 minutes without rest  10 yawned  10 yawned walked  \\\n",
       "0                 0.0                      0.0        0.0               0.0   \n",
       "1                 0.0                      0.0        0.0               0.0   \n",
       "2                 0.0                      0.0        0.0               0.0   \n",
       "3                 0.0                      0.0        0.0               0.0   \n",
       "4                 0.0                      0.0        0.0               0.0   \n",
       "\n",
       "   10 yawned walked slowly  ...  youve stopped altogether  \\\n",
       "0                      0.0  ...                       0.0   \n",
       "1                      0.0  ...                       0.0   \n",
       "2                      0.0  ...                       0.0   \n",
       "3                      0.0  ...                       0.0   \n",
       "4                      0.0  ...                       0.0   \n",
       "\n",
       "   youve stopped altogether week  youve together  youve wasted  \\\n",
       "0                            0.0             0.0           0.0   \n",
       "1                            0.0             0.0           0.0   \n",
       "2                            0.0             0.0           0.0   \n",
       "3                            0.0             0.0           0.0   \n",
       "4                            0.0             0.0           0.0   \n",
       "\n",
       "   youve wasted time  youve wasted time always  zero woman  zero woman uses  \\\n",
       "0                0.0                       0.0         0.0              0.0   \n",
       "1                0.0                       0.0         0.0              0.0   \n",
       "2                0.0                       0.0         0.0              0.0   \n",
       "3                0.0                       0.0         0.0              0.0   \n",
       "4                0.0                       0.0         0.0              0.0   \n",
       "\n",
       "   zero woman uses condoms  outcome  \n",
       "0                      0.0        1  \n",
       "1                      0.0        1  \n",
       "2                      0.0        1  \n",
       "3                      0.0        1  \n",
       "4                      0.0        1  \n",
       "\n",
       "[5 rows x 20610 columns]"
      ]
     },
     "execution_count": 58,
     "metadata": {},
     "output_type": "execute_result"
    }
   ],
   "source": [
    "w_df.head()"
   ]
  },
  {
   "cell_type": "code",
   "execution_count": 59,
   "metadata": {},
   "outputs": [],
   "source": [
    "df_nn = pd.concat([w_df[[\"preprocess_full_text\", \"outcome\"]], m_df[[\"preprocess_full_text\", \"outcome\"]]])\n",
    "df_nn.to_csv(\"data/NN_Data.csv\")"
   ]
  },
  {
   "cell_type": "markdown",
   "metadata": {},
   "source": [
    "# PCA AND CLUSTERING"
   ]
  },
  {
   "cell_type": "code",
   "execution_count": 20,
   "metadata": {},
   "outputs": [
    {
     "data": {
      "text/plain": [
       "1776"
      ]
     },
     "execution_count": 20,
     "metadata": {},
     "output_type": "execute_result"
    }
   ],
   "source": [
    "intersection = set(w_features).intersection(set(m_features))\n",
    "\n",
    "len(intersection)\n"
   ]
  },
  {
   "cell_type": "code",
   "execution_count": 21,
   "metadata": {},
   "outputs": [
    {
     "data": {
      "text/plain": [
       "20606"
      ]
     },
     "execution_count": 21,
     "metadata": {},
     "output_type": "execute_result"
    }
   ],
   "source": [
    "len(w_features)"
   ]
  },
  {
   "cell_type": "code",
   "execution_count": 22,
   "metadata": {},
   "outputs": [
    {
     "data": {
      "text/plain": [
       "15958"
      ]
     },
     "execution_count": 22,
     "metadata": {},
     "output_type": "execute_result"
    }
   ],
   "source": [
    "len(m_features)"
   ]
  },
  {
   "cell_type": "code",
   "execution_count": null,
   "metadata": {},
   "outputs": [],
   "source": [
    "intersection"
   ]
  },
  {
   "cell_type": "code",
   "execution_count": 41,
   "metadata": {},
   "outputs": [],
   "source": [
    "# build the full df for clustering\n",
    "full_df = pd.concat([w_df, m_df])\n",
    "df = full_df.drop(columns = ['text', 'preprocess_full_text', 'polarity'])"
   ]
  },
  {
   "cell_type": "code",
   "execution_count": 42,
   "metadata": {},
   "outputs": [],
   "source": [
    "df = df.fillna(0)"
   ]
  },
  {
   "cell_type": "code",
   "execution_count": 72,
   "metadata": {},
   "outputs": [],
   "source": [
    "# create an instance of the PCA class\n",
    "pca = PCA(n_components=2)\n",
    "\n",
    "# fit the data using the original X_train_std data; tranform X_train_std data\n",
    "pca_df = pca.fit_transform(df)\n",
    "\n",
    "# transform the X_test_std data\n",
    "#X_test_pca_skl = pca.transform(X_test_std)"
   ]
  },
  {
   "cell_type": "code",
   "execution_count": 79,
   "metadata": {},
   "outputs": [],
   "source": [
    "pca_df = pd.DataFrame(pca_df)"
   ]
  },
  {
   "cell_type": "code",
   "execution_count": 80,
   "metadata": {},
   "outputs": [
    {
     "data": {
      "text/plain": [
       "<matplotlib.collections.PathCollection at 0x7feedce91af0>"
      ]
     },
     "execution_count": 80,
     "metadata": {},
     "output_type": "execute_result"
    },
    {
     "data": {
      "image/png": "[encoded data removed]",
      "text/plain": [
       "<Figure size 432x288 with 1 Axes>"
      ]
     },
     "metadata": {
      "needs_background": "light"
     },
     "output_type": "display_data"
    }
   ],
   "source": [
    "plt.scatter(pca_df[0], pca_df[1])"
   ]
  },
  {
   "cell_type": "code",
   "execution_count": 81,
   "metadata": {},
   "outputs": [
    {
     "data": {
      "text/plain": [
       "array([0, 0, 0, ..., 0, 0, 0], dtype=int32)"
      ]
     },
     "execution_count": 81,
     "metadata": {},
     "output_type": "execute_result"
    }
   ],
   "source": [
    "kmeans = KMeans(n_clusters=3, init='k-means++')\n",
    "\n",
    "kmeans.fit(pca_df)\n",
    "\n",
    "kmeans.labels_\n",
    "\n"
   ]
  },
  {
   "cell_type": "code",
   "execution_count": 84,
   "metadata": {
    "scrolled": true
   },
   "outputs": [
    {
     "name": "stdout",
     "output_type": "stream",
     "text": [
      "2522\n",
      "216\n",
      "50\n"
     ]
    }
   ],
   "source": [
    "print(np.sum(kmeans.labels_ == 0))\n",
    "print(np.sum(kmeans.labels_ == 1))\n",
    "print(np.sum(kmeans.labels_ == 2))\n"
   ]
  },
  {
   "cell_type": "code",
   "execution_count": 85,
   "metadata": {},
   "outputs": [],
   "source": [
    "full_df['outcome'] = kmeans.labels_"
   ]
  },
  {
   "cell_type": "code",
   "execution_count": 89,
   "metadata": {
    "scrolled": true
   },
   "outputs": [
    {
     "data": {
      "text/html": [
       "<div>\n",
       "<style scoped>\n",
       "    .dataframe tbody tr th:only-of-type {\n",
       "        vertical-align: middle;\n",
       "    }\n",
       "\n",
       "    .dataframe tbody tr th {\n",
       "        vertical-align: top;\n",
       "    }\n",
       "\n",
       "    .dataframe thead th {\n",
       "        text-align: right;\n",
       "    }\n",
       "</style>\n",
       "<table border=\"1\" class=\"dataframe\">\n",
       "  <thead>\n",
       "    <tr style=\"text-align: right;\">\n",
       "      <th></th>\n",
       "      <th>preprocess_full_text</th>\n",
       "      <th>outcome</th>\n",
       "    </tr>\n",
       "  </thead>\n",
       "  <tbody>\n",
       "    <tr>\n",
       "      <th>0</th>\n",
       "      <td>dad heart attack spent 7 minutes without oxyge...</td>\n",
       "      <td>0</td>\n",
       "    </tr>\n",
       "    <tr>\n",
       "      <th>1</th>\n",
       "      <td>dangerous open heart surgery due multiple cong...</td>\n",
       "      <td>0</td>\n",
       "    </tr>\n",
       "    <tr>\n",
       "      <th>2</th>\n",
       "      <td>june 2020 dad collapsed yard helping us mow la...</td>\n",
       "      <td>0</td>\n",
       "    </tr>\n",
       "    <tr>\n",
       "      <th>3</th>\n",
       "      <td>twin aunts born grandma became severely ill cl...</td>\n",
       "      <td>1</td>\n",
       "    </tr>\n",
       "    <tr>\n",
       "      <th>4</th>\n",
       "      <td>mother severe case think around 25 started reg...</td>\n",
       "      <td>0</td>\n",
       "    </tr>\n",
       "    <tr>\n",
       "      <th>...</th>\n",
       "      <td>...</td>\n",
       "      <td>...</td>\n",
       "    </tr>\n",
       "    <tr>\n",
       "      <th>1608</th>\n",
       "      <td>dad brother dont care long im one lugging arou...</td>\n",
       "      <td>0</td>\n",
       "    </tr>\n",
       "    <tr>\n",
       "      <th>1609</th>\n",
       "      <td>im throwing im worried breaking need fold fit ...</td>\n",
       "      <td>0</td>\n",
       "    </tr>\n",
       "    <tr>\n",
       "      <th>1610</th>\n",
       "      <td>terribly emotionally abusive mother father aro...</td>\n",
       "      <td>0</td>\n",
       "    </tr>\n",
       "    <tr>\n",
       "      <th>1611</th>\n",
       "      <td>hi im back relationship sex great kinda short ...</td>\n",
       "      <td>0</td>\n",
       "    </tr>\n",
       "    <tr>\n",
       "      <th>1612</th>\n",
       "      <td>im looking get healthier stronger improve card...</td>\n",
       "      <td>0</td>\n",
       "    </tr>\n",
       "  </tbody>\n",
       "</table>\n",
       "<p>2788 rows × 2 columns</p>\n",
       "</div>"
      ],
      "text/plain": [
       "                                   preprocess_full_text  outcome\n",
       "0     dad heart attack spent 7 minutes without oxyge...        0\n",
       "1     dangerous open heart surgery due multiple cong...        0\n",
       "2     june 2020 dad collapsed yard helping us mow la...        0\n",
       "3     twin aunts born grandma became severely ill cl...        1\n",
       "4     mother severe case think around 25 started reg...        0\n",
       "...                                                 ...      ...\n",
       "1608  dad brother dont care long im one lugging arou...        0\n",
       "1609  im throwing im worried breaking need fold fit ...        0\n",
       "1610  terribly emotionally abusive mother father aro...        0\n",
       "1611  hi im back relationship sex great kinda short ...        0\n",
       "1612  im looking get healthier stronger improve card...        0\n",
       "\n",
       "[2788 rows x 2 columns]"
      ]
     },
     "execution_count": 89,
     "metadata": {},
     "output_type": "execute_result"
    }
   ],
   "source": [
    "main = full_df[[\"preprocess_full_text\", \"outcome\"]]\n",
    "#main[main[\"outcome\"] == 1]\n",
    "main"
   ]
  },
  {
   "cell_type": "markdown",
   "metadata": {},
   "source": [
    "# LOG REG"
   ]
  },
  {
   "cell_type": "code",
   "execution_count": 30,
   "metadata": {},
   "outputs": [
    {
     "data": {
      "text/html": [
       "<div>\n",
       "<style scoped>\n",
       "    .dataframe tbody tr th:only-of-type {\n",
       "        vertical-align: middle;\n",
       "    }\n",
       "\n",
       "    .dataframe tbody tr th {\n",
       "        vertical-align: top;\n",
       "    }\n",
       "\n",
       "    .dataframe thead th {\n",
       "        text-align: right;\n",
       "    }\n",
       "</style>\n",
       "<table border=\"1\" class=\"dataframe\">\n",
       "  <thead>\n",
       "    <tr style=\"text-align: right;\">\n",
       "      <th></th>\n",
       "      <th>text</th>\n",
       "      <th>polarity</th>\n",
       "      <th>preprocess_full_text</th>\n",
       "      <th>10 hours</th>\n",
       "      <th>10 minutes</th>\n",
       "      <th>10 minutes without</th>\n",
       "      <th>10 minutes without rest</th>\n",
       "      <th>10 yawned</th>\n",
       "      <th>10 yawned walked</th>\n",
       "      <th>10 yawned walked slowly</th>\n",
       "      <th>...</th>\n",
       "      <th>youve already rubs leg</th>\n",
       "      <th>youve made</th>\n",
       "      <th>youve made right</th>\n",
       "      <th>youve made right decision</th>\n",
       "      <th>youve meaning</th>\n",
       "      <th>youve meaning activity</th>\n",
       "      <th>youve meaning activity occupy</th>\n",
       "      <th>yr old</th>\n",
       "      <th>yrs old</th>\n",
       "      <th>outcome</th>\n",
       "    </tr>\n",
       "  </thead>\n",
       "  <tbody>\n",
       "    <tr>\n",
       "      <th>0</th>\n",
       "      <td>My dad had a heart attack and spent over 7 min...</td>\n",
       "      <td>0.038258</td>\n",
       "      <td>dad heart attack spent 7 minutes without oxyge...</td>\n",
       "      <td>0.317523</td>\n",
       "      <td>0.0</td>\n",
       "      <td>0.0</td>\n",
       "      <td>0.0</td>\n",
       "      <td>0.0</td>\n",
       "      <td>0.0</td>\n",
       "      <td>0.0</td>\n",
       "      <td>...</td>\n",
       "      <td>NaN</td>\n",
       "      <td>NaN</td>\n",
       "      <td>NaN</td>\n",
       "      <td>NaN</td>\n",
       "      <td>NaN</td>\n",
       "      <td>NaN</td>\n",
       "      <td>NaN</td>\n",
       "      <td>NaN</td>\n",
       "      <td>NaN</td>\n",
       "      <td>0</td>\n",
       "    </tr>\n",
       "    <tr>\n",
       "      <th>1</th>\n",
       "      <td>I had dangerous open heart surgery due to mult...</td>\n",
       "      <td>-0.072619</td>\n",
       "      <td>dangerous open heart surgery due multiple cong...</td>\n",
       "      <td>0.000000</td>\n",
       "      <td>0.0</td>\n",
       "      <td>0.0</td>\n",
       "      <td>0.0</td>\n",
       "      <td>0.0</td>\n",
       "      <td>0.0</td>\n",
       "      <td>0.0</td>\n",
       "      <td>...</td>\n",
       "      <td>NaN</td>\n",
       "      <td>NaN</td>\n",
       "      <td>NaN</td>\n",
       "      <td>NaN</td>\n",
       "      <td>NaN</td>\n",
       "      <td>NaN</td>\n",
       "      <td>NaN</td>\n",
       "      <td>NaN</td>\n",
       "      <td>NaN</td>\n",
       "      <td>0</td>\n",
       "    </tr>\n",
       "    <tr>\n",
       "      <th>2</th>\n",
       "      <td>In June of 2020, my Dad collapsed in our yard ...</td>\n",
       "      <td>0.054932</td>\n",
       "      <td>june 2020 dad collapsed yard helping us mow la...</td>\n",
       "      <td>0.000000</td>\n",
       "      <td>0.0</td>\n",
       "      <td>0.0</td>\n",
       "      <td>0.0</td>\n",
       "      <td>0.0</td>\n",
       "      <td>0.0</td>\n",
       "      <td>0.0</td>\n",
       "      <td>...</td>\n",
       "      <td>NaN</td>\n",
       "      <td>NaN</td>\n",
       "      <td>NaN</td>\n",
       "      <td>NaN</td>\n",
       "      <td>NaN</td>\n",
       "      <td>NaN</td>\n",
       "      <td>NaN</td>\n",
       "      <td>NaN</td>\n",
       "      <td>NaN</td>\n",
       "      <td>0</td>\n",
       "    </tr>\n",
       "    <tr>\n",
       "      <th>3</th>\n",
       "      <td>after my twin aunts were born, my grandma beca...</td>\n",
       "      <td>0.145833</td>\n",
       "      <td>twin aunts born grandma became severely ill cl...</td>\n",
       "      <td>0.000000</td>\n",
       "      <td>0.0</td>\n",
       "      <td>0.0</td>\n",
       "      <td>0.0</td>\n",
       "      <td>0.0</td>\n",
       "      <td>0.0</td>\n",
       "      <td>0.0</td>\n",
       "      <td>...</td>\n",
       "      <td>NaN</td>\n",
       "      <td>NaN</td>\n",
       "      <td>NaN</td>\n",
       "      <td>NaN</td>\n",
       "      <td>NaN</td>\n",
       "      <td>NaN</td>\n",
       "      <td>NaN</td>\n",
       "      <td>NaN</td>\n",
       "      <td>NaN</td>\n",
       "      <td>1</td>\n",
       "    </tr>\n",
       "    <tr>\n",
       "      <th>4</th>\n",
       "      <td>Not me but my mother is the most severe case I...</td>\n",
       "      <td>-0.192593</td>\n",
       "      <td>mother severe case think around 25 started reg...</td>\n",
       "      <td>0.000000</td>\n",
       "      <td>0.0</td>\n",
       "      <td>0.0</td>\n",
       "      <td>0.0</td>\n",
       "      <td>0.0</td>\n",
       "      <td>0.0</td>\n",
       "      <td>0.0</td>\n",
       "      <td>...</td>\n",
       "      <td>NaN</td>\n",
       "      <td>NaN</td>\n",
       "      <td>NaN</td>\n",
       "      <td>NaN</td>\n",
       "      <td>NaN</td>\n",
       "      <td>NaN</td>\n",
       "      <td>NaN</td>\n",
       "      <td>NaN</td>\n",
       "      <td>NaN</td>\n",
       "      <td>0</td>\n",
       "    </tr>\n",
       "  </tbody>\n",
       "</table>\n",
       "<p>5 rows × 34792 columns</p>\n",
       "</div>"
      ],
      "text/plain": [
       "                                                text  polarity  \\\n",
       "0  My dad had a heart attack and spent over 7 min...  0.038258   \n",
       "1  I had dangerous open heart surgery due to mult... -0.072619   \n",
       "2  In June of 2020, my Dad collapsed in our yard ...  0.054932   \n",
       "3  after my twin aunts were born, my grandma beca...  0.145833   \n",
       "4  Not me but my mother is the most severe case I... -0.192593   \n",
       "\n",
       "                                preprocess_full_text  10 hours  10 minutes  \\\n",
       "0  dad heart attack spent 7 minutes without oxyge...  0.317523         0.0   \n",
       "1  dangerous open heart surgery due multiple cong...  0.000000         0.0   \n",
       "2  june 2020 dad collapsed yard helping us mow la...  0.000000         0.0   \n",
       "3  twin aunts born grandma became severely ill cl...  0.000000         0.0   \n",
       "4  mother severe case think around 25 started reg...  0.000000         0.0   \n",
       "\n",
       "   10 minutes without  10 minutes without rest  10 yawned  10 yawned walked  \\\n",
       "0                 0.0                      0.0        0.0               0.0   \n",
       "1                 0.0                      0.0        0.0               0.0   \n",
       "2                 0.0                      0.0        0.0               0.0   \n",
       "3                 0.0                      0.0        0.0               0.0   \n",
       "4                 0.0                      0.0        0.0               0.0   \n",
       "\n",
       "   10 yawned walked slowly  ...  youve already rubs leg  youve made  \\\n",
       "0                      0.0  ...                     NaN         NaN   \n",
       "1                      0.0  ...                     NaN         NaN   \n",
       "2                      0.0  ...                     NaN         NaN   \n",
       "3                      0.0  ...                     NaN         NaN   \n",
       "4                      0.0  ...                     NaN         NaN   \n",
       "\n",
       "   youve made right  youve made right decision  youve meaning  \\\n",
       "0               NaN                        NaN            NaN   \n",
       "1               NaN                        NaN            NaN   \n",
       "2               NaN                        NaN            NaN   \n",
       "3               NaN                        NaN            NaN   \n",
       "4               NaN                        NaN            NaN   \n",
       "\n",
       "   youve meaning activity  youve meaning activity occupy  yr old  yrs old  \\\n",
       "0                     NaN                            NaN     NaN      NaN   \n",
       "1                     NaN                            NaN     NaN      NaN   \n",
       "2                     NaN                            NaN     NaN      NaN   \n",
       "3                     NaN                            NaN     NaN      NaN   \n",
       "4                     NaN                            NaN     NaN      NaN   \n",
       "\n",
       "   outcome  \n",
       "0        0  \n",
       "1        0  \n",
       "2        0  \n",
       "3        1  \n",
       "4        0  \n",
       "\n",
       "[5 rows x 34792 columns]"
      ]
     },
     "execution_count": 30,
     "metadata": {},
     "output_type": "execute_result"
    }
   ],
   "source": [
    "full_df.head()"
   ]
  },
  {
   "cell_type": "code",
   "execution_count": 31,
   "metadata": {},
   "outputs": [],
   "source": [
    "full_df = full_df.fillna(0)\n",
    "X = full_df.drop([\"outcome\", \"text\", \"preprocess_full_text\", \"polarity\"], axis = 1)\n",
    "y = full_df[\"outcome\"]"
   ]
  },
  {
   "cell_type": "code",
   "execution_count": 45,
   "metadata": {},
   "outputs": [],
   "source": [
    "X_train, X_test, y_train, y_test = train_test_split(pd.DataFrame(pca_df), y, test_size=0.3, random_state=1, stratify=y)"
   ]
  },
  {
   "cell_type": "code",
   "execution_count": 46,
   "metadata": {},
   "outputs": [],
   "source": [
    "model = linear_model.LogisticRegressionCV(max_iter = 200)"
   ]
  },
  {
   "cell_type": "code",
   "execution_count": 47,
   "metadata": {},
   "outputs": [
    {
     "data": {
      "text/plain": [
       "LogisticRegressionCV(max_iter=200)"
      ]
     },
     "execution_count": 47,
     "metadata": {},
     "output_type": "execute_result"
    }
   ],
   "source": [
    "model.fit(X_train, y_train, sample_weight=None)"
   ]
  },
  {
   "cell_type": "code",
   "execution_count": 48,
   "metadata": {},
   "outputs": [],
   "source": [
    "y_pred = model.predict(X_test)"
   ]
  },
  {
   "cell_type": "code",
   "execution_count": 49,
   "metadata": {},
   "outputs": [
    {
     "name": "stdout",
     "output_type": "stream",
     "text": [
      "Prediction accuracy: 0.59\n"
     ]
    }
   ],
   "source": [
    "print('Prediction accuracy: %3.2f' % model.score(X_test, y_test))"
   ]
  },
  {
   "cell_type": "code",
   "execution_count": 50,
   "metadata": {},
   "outputs": [
    {
     "data": {
      "text/plain": [
       "array([-2.68147382,  1.10442998,  0.48602549, -0.56766435, -0.18177352,\n",
       "       -0.99296717, -1.76091805,  1.12203522,  0.92039781, -1.45515669])"
      ]
     },
     "execution_count": 50,
     "metadata": {},
     "output_type": "execute_result"
    }
   ],
   "source": [
    "model.coef_[0]"
   ]
  },
  {
   "cell_type": "code",
   "execution_count": 51,
   "metadata": {},
   "outputs": [
    {
     "data": {
      "text/html": [
       "<div>\n",
       "<style scoped>\n",
       "    .dataframe tbody tr th:only-of-type {\n",
       "        vertical-align: middle;\n",
       "    }\n",
       "\n",
       "    .dataframe tbody tr th {\n",
       "        vertical-align: top;\n",
       "    }\n",
       "\n",
       "    .dataframe thead th {\n",
       "        text-align: right;\n",
       "    }\n",
       "</style>\n",
       "<table border=\"1\" class=\"dataframe\">\n",
       "  <thead>\n",
       "    <tr style=\"text-align: right;\">\n",
       "      <th></th>\n",
       "      <th>0</th>\n",
       "      <th>1</th>\n",
       "      <th>2</th>\n",
       "      <th>3</th>\n",
       "      <th>4</th>\n",
       "      <th>5</th>\n",
       "      <th>6</th>\n",
       "      <th>7</th>\n",
       "      <th>8</th>\n",
       "      <th>9</th>\n",
       "    </tr>\n",
       "  </thead>\n",
       "  <tbody>\n",
       "    <tr>\n",
       "      <th>0</th>\n",
       "      <td>0.125969</td>\n",
       "      <td>0.004751</td>\n",
       "      <td>0.004696</td>\n",
       "      <td>-0.001439</td>\n",
       "      <td>-0.002899</td>\n",
       "      <td>-0.011577</td>\n",
       "      <td>-0.004938</td>\n",
       "      <td>-0.013483</td>\n",
       "      <td>0.004672</td>\n",
       "      <td>-0.003819</td>\n",
       "    </tr>\n",
       "    <tr>\n",
       "      <th>1</th>\n",
       "      <td>-0.016716</td>\n",
       "      <td>-0.018258</td>\n",
       "      <td>-0.022118</td>\n",
       "      <td>-0.013853</td>\n",
       "      <td>-0.016187</td>\n",
       "      <td>-0.081515</td>\n",
       "      <td>0.619871</td>\n",
       "      <td>-0.058048</td>\n",
       "      <td>0.194876</td>\n",
       "      <td>0.018825</td>\n",
       "    </tr>\n",
       "    <tr>\n",
       "      <th>2</th>\n",
       "      <td>0.070828</td>\n",
       "      <td>0.005968</td>\n",
       "      <td>-0.002769</td>\n",
       "      <td>-0.004959</td>\n",
       "      <td>-0.005364</td>\n",
       "      <td>0.006083</td>\n",
       "      <td>0.005480</td>\n",
       "      <td>0.000843</td>\n",
       "      <td>-0.013551</td>\n",
       "      <td>-0.018124</td>\n",
       "    </tr>\n",
       "    <tr>\n",
       "      <th>3</th>\n",
       "      <td>-0.037776</td>\n",
       "      <td>0.111507</td>\n",
       "      <td>0.039754</td>\n",
       "      <td>0.006704</td>\n",
       "      <td>-0.000415</td>\n",
       "      <td>0.004761</td>\n",
       "      <td>-0.004175</td>\n",
       "      <td>-0.033416</td>\n",
       "      <td>-0.006016</td>\n",
       "      <td>0.001112</td>\n",
       "    </tr>\n",
       "    <tr>\n",
       "      <th>4</th>\n",
       "      <td>0.018759</td>\n",
       "      <td>-0.013686</td>\n",
       "      <td>-0.010929</td>\n",
       "      <td>-0.004144</td>\n",
       "      <td>-0.004695</td>\n",
       "      <td>-0.014513</td>\n",
       "      <td>-0.006224</td>\n",
       "      <td>-0.008283</td>\n",
       "      <td>0.001629</td>\n",
       "      <td>0.005308</td>\n",
       "    </tr>\n",
       "    <tr>\n",
       "      <th>...</th>\n",
       "      <td>...</td>\n",
       "      <td>...</td>\n",
       "      <td>...</td>\n",
       "      <td>...</td>\n",
       "      <td>...</td>\n",
       "      <td>...</td>\n",
       "      <td>...</td>\n",
       "      <td>...</td>\n",
       "      <td>...</td>\n",
       "      <td>...</td>\n",
       "    </tr>\n",
       "    <tr>\n",
       "      <th>2783</th>\n",
       "      <td>-0.016332</td>\n",
       "      <td>-0.015486</td>\n",
       "      <td>-0.013977</td>\n",
       "      <td>-0.008302</td>\n",
       "      <td>-0.007113</td>\n",
       "      <td>0.005307</td>\n",
       "      <td>-0.007959</td>\n",
       "      <td>-0.001232</td>\n",
       "      <td>0.006558</td>\n",
       "      <td>-0.013488</td>\n",
       "    </tr>\n",
       "    <tr>\n",
       "      <th>2784</th>\n",
       "      <td>-0.024802</td>\n",
       "      <td>0.019141</td>\n",
       "      <td>-0.005226</td>\n",
       "      <td>-0.007598</td>\n",
       "      <td>-0.013248</td>\n",
       "      <td>-0.018903</td>\n",
       "      <td>0.045820</td>\n",
       "      <td>0.066279</td>\n",
       "      <td>-0.084999</td>\n",
       "      <td>-0.123741</td>\n",
       "    </tr>\n",
       "    <tr>\n",
       "      <th>2785</th>\n",
       "      <td>-0.027948</td>\n",
       "      <td>0.021409</td>\n",
       "      <td>-0.005277</td>\n",
       "      <td>-0.010781</td>\n",
       "      <td>-0.007468</td>\n",
       "      <td>-0.073873</td>\n",
       "      <td>0.048973</td>\n",
       "      <td>0.233318</td>\n",
       "      <td>-0.063535</td>\n",
       "      <td>-0.070770</td>\n",
       "    </tr>\n",
       "    <tr>\n",
       "      <th>2786</th>\n",
       "      <td>-0.015186</td>\n",
       "      <td>-0.019543</td>\n",
       "      <td>-0.013022</td>\n",
       "      <td>0.005446</td>\n",
       "      <td>-0.005370</td>\n",
       "      <td>-0.004177</td>\n",
       "      <td>-0.006291</td>\n",
       "      <td>-0.009918</td>\n",
       "      <td>-0.002120</td>\n",
       "      <td>0.011934</td>\n",
       "    </tr>\n",
       "    <tr>\n",
       "      <th>2787</th>\n",
       "      <td>-0.013116</td>\n",
       "      <td>-0.017263</td>\n",
       "      <td>-0.018771</td>\n",
       "      <td>-0.010976</td>\n",
       "      <td>-0.008670</td>\n",
       "      <td>0.002861</td>\n",
       "      <td>-0.003486</td>\n",
       "      <td>0.009102</td>\n",
       "      <td>-0.000993</td>\n",
       "      <td>-0.026538</td>\n",
       "    </tr>\n",
       "  </tbody>\n",
       "</table>\n",
       "<p>2788 rows × 10 columns</p>\n",
       "</div>"
      ],
      "text/plain": [
       "             0         1         2         3         4         5         6  \\\n",
       "0     0.125969  0.004751  0.004696 -0.001439 -0.002899 -0.011577 -0.004938   \n",
       "1    -0.016716 -0.018258 -0.022118 -0.013853 -0.016187 -0.081515  0.619871   \n",
       "2     0.070828  0.005968 -0.002769 -0.004959 -0.005364  0.006083  0.005480   \n",
       "3    -0.037776  0.111507  0.039754  0.006704 -0.000415  0.004761 -0.004175   \n",
       "4     0.018759 -0.013686 -0.010929 -0.004144 -0.004695 -0.014513 -0.006224   \n",
       "...        ...       ...       ...       ...       ...       ...       ...   \n",
       "2783 -0.016332 -0.015486 -0.013977 -0.008302 -0.007113  0.005307 -0.007959   \n",
       "2784 -0.024802  0.019141 -0.005226 -0.007598 -0.013248 -0.018903  0.045820   \n",
       "2785 -0.027948  0.021409 -0.005277 -0.010781 -0.007468 -0.073873  0.048973   \n",
       "2786 -0.015186 -0.019543 -0.013022  0.005446 -0.005370 -0.004177 -0.006291   \n",
       "2787 -0.013116 -0.017263 -0.018771 -0.010976 -0.008670  0.002861 -0.003486   \n",
       "\n",
       "             7         8         9  \n",
       "0    -0.013483  0.004672 -0.003819  \n",
       "1    -0.058048  0.194876  0.018825  \n",
       "2     0.000843 -0.013551 -0.018124  \n",
       "3    -0.033416 -0.006016  0.001112  \n",
       "4    -0.008283  0.001629  0.005308  \n",
       "...        ...       ...       ...  \n",
       "2783 -0.001232  0.006558 -0.013488  \n",
       "2784  0.066279 -0.084999 -0.123741  \n",
       "2785  0.233318 -0.063535 -0.070770  \n",
       "2786 -0.009918 -0.002120  0.011934  \n",
       "2787  0.009102 -0.000993 -0.026538  \n",
       "\n",
       "[2788 rows x 10 columns]"
      ]
     },
     "execution_count": 51,
     "metadata": {},
     "output_type": "execute_result"
    }
   ],
   "source": [
    "pd.DataFrame(pca_df)"
   ]
  },
  {
   "cell_type": "code",
   "execution_count": 309,
   "metadata": {},
   "outputs": [
    {
     "ename": "ValueError",
     "evalue": "Length of values (10) does not match length of index (2788)",
     "output_type": "error",
     "traceback": [
      "\u001b[0;31m---------------------------------------------------------------------------\u001b[0m",
      "\u001b[0;31mValueError\u001b[0m                                Traceback (most recent call last)",
      "\u001b[0;32m<ipython-input-309-55009f465133>\u001b[0m in \u001b[0;36m<module>\u001b[0;34m\u001b[0m\n\u001b[1;32m      1\u001b[0m \u001b[0mcoef_table\u001b[0m \u001b[0;34m=\u001b[0m \u001b[0mpd\u001b[0m\u001b[0;34m.\u001b[0m\u001b[0mDataFrame\u001b[0m\u001b[0;34m(\u001b[0m\u001b[0mpca_df\u001b[0m\u001b[0;34m)\u001b[0m\u001b[0;34m\u001b[0m\u001b[0;34m\u001b[0m\u001b[0m\n\u001b[0;32m----> 2\u001b[0;31m \u001b[0mcoef_table\u001b[0m\u001b[0;34m.\u001b[0m\u001b[0minsert\u001b[0m\u001b[0;34m(\u001b[0m\u001b[0mlen\u001b[0m\u001b[0;34m(\u001b[0m\u001b[0mcoef_table\u001b[0m\u001b[0;34m.\u001b[0m\u001b[0mcolumns\u001b[0m\u001b[0;34m)\u001b[0m\u001b[0;34m,\u001b[0m\u001b[0;34m\"Coefs\"\u001b[0m\u001b[0;34m,\u001b[0m \u001b[0mmodel\u001b[0m\u001b[0;34m.\u001b[0m\u001b[0mcoef_\u001b[0m\u001b[0;34m.\u001b[0m\u001b[0mtranspose\u001b[0m\u001b[0;34m(\u001b[0m\u001b[0;34m)\u001b[0m\u001b[0;34m)\u001b[0m\u001b[0;34m\u001b[0m\u001b[0;34m\u001b[0m\u001b[0m\n\u001b[0m",
      "\u001b[0;32m~/opt/anaconda3/lib/python3.8/site-packages/pandas/core/frame.py\u001b[0m in \u001b[0;36minsert\u001b[0;34m(self, loc, column, value, allow_duplicates)\u001b[0m\n\u001b[1;32m   3621\u001b[0m         \"\"\"\n\u001b[1;32m   3622\u001b[0m         \u001b[0mself\u001b[0m\u001b[0;34m.\u001b[0m\u001b[0m_ensure_valid_index\u001b[0m\u001b[0;34m(\u001b[0m\u001b[0mvalue\u001b[0m\u001b[0;34m)\u001b[0m\u001b[0;34m\u001b[0m\u001b[0;34m\u001b[0m\u001b[0m\n\u001b[0;32m-> 3623\u001b[0;31m         \u001b[0mvalue\u001b[0m \u001b[0;34m=\u001b[0m \u001b[0mself\u001b[0m\u001b[0;34m.\u001b[0m\u001b[0m_sanitize_column\u001b[0m\u001b[0;34m(\u001b[0m\u001b[0mcolumn\u001b[0m\u001b[0;34m,\u001b[0m \u001b[0mvalue\u001b[0m\u001b[0;34m,\u001b[0m \u001b[0mbroadcast\u001b[0m\u001b[0;34m=\u001b[0m\u001b[0;32mFalse\u001b[0m\u001b[0;34m)\u001b[0m\u001b[0;34m\u001b[0m\u001b[0;34m\u001b[0m\u001b[0m\n\u001b[0m\u001b[1;32m   3624\u001b[0m         \u001b[0mself\u001b[0m\u001b[0;34m.\u001b[0m\u001b[0m_mgr\u001b[0m\u001b[0;34m.\u001b[0m\u001b[0minsert\u001b[0m\u001b[0;34m(\u001b[0m\u001b[0mloc\u001b[0m\u001b[0;34m,\u001b[0m \u001b[0mcolumn\u001b[0m\u001b[0;34m,\u001b[0m \u001b[0mvalue\u001b[0m\u001b[0;34m,\u001b[0m \u001b[0mallow_duplicates\u001b[0m\u001b[0;34m=\u001b[0m\u001b[0mallow_duplicates\u001b[0m\u001b[0;34m)\u001b[0m\u001b[0;34m\u001b[0m\u001b[0;34m\u001b[0m\u001b[0m\n\u001b[1;32m   3625\u001b[0m \u001b[0;34m\u001b[0m\u001b[0m\n",
      "\u001b[0;32m~/opt/anaconda3/lib/python3.8/site-packages/pandas/core/frame.py\u001b[0m in \u001b[0;36m_sanitize_column\u001b[0;34m(self, key, value, broadcast)\u001b[0m\n\u001b[1;32m   3762\u001b[0m \u001b[0;34m\u001b[0m\u001b[0m\n\u001b[1;32m   3763\u001b[0m             \u001b[0;31m# turn me into an ndarray\u001b[0m\u001b[0;34m\u001b[0m\u001b[0;34m\u001b[0m\u001b[0;34m\u001b[0m\u001b[0m\n\u001b[0;32m-> 3764\u001b[0;31m             \u001b[0mvalue\u001b[0m \u001b[0;34m=\u001b[0m \u001b[0msanitize_index\u001b[0m\u001b[0;34m(\u001b[0m\u001b[0mvalue\u001b[0m\u001b[0;34m,\u001b[0m \u001b[0mself\u001b[0m\u001b[0;34m.\u001b[0m\u001b[0mindex\u001b[0m\u001b[0;34m)\u001b[0m\u001b[0;34m\u001b[0m\u001b[0;34m\u001b[0m\u001b[0m\n\u001b[0m\u001b[1;32m   3765\u001b[0m             \u001b[0;32mif\u001b[0m \u001b[0;32mnot\u001b[0m \u001b[0misinstance\u001b[0m\u001b[0;34m(\u001b[0m\u001b[0mvalue\u001b[0m\u001b[0;34m,\u001b[0m \u001b[0;34m(\u001b[0m\u001b[0mnp\u001b[0m\u001b[0;34m.\u001b[0m\u001b[0mndarray\u001b[0m\u001b[0;34m,\u001b[0m \u001b[0mIndex\u001b[0m\u001b[0;34m)\u001b[0m\u001b[0;34m)\u001b[0m\u001b[0;34m:\u001b[0m\u001b[0;34m\u001b[0m\u001b[0;34m\u001b[0m\u001b[0m\n\u001b[1;32m   3766\u001b[0m                 \u001b[0;32mif\u001b[0m \u001b[0misinstance\u001b[0m\u001b[0;34m(\u001b[0m\u001b[0mvalue\u001b[0m\u001b[0;34m,\u001b[0m \u001b[0mlist\u001b[0m\u001b[0;34m)\u001b[0m \u001b[0;32mand\u001b[0m \u001b[0mlen\u001b[0m\u001b[0;34m(\u001b[0m\u001b[0mvalue\u001b[0m\u001b[0;34m)\u001b[0m \u001b[0;34m>\u001b[0m \u001b[0;36m0\u001b[0m\u001b[0;34m:\u001b[0m\u001b[0;34m\u001b[0m\u001b[0;34m\u001b[0m\u001b[0m\n",
      "\u001b[0;32m~/opt/anaconda3/lib/python3.8/site-packages/pandas/core/internals/construction.py\u001b[0m in \u001b[0;36msanitize_index\u001b[0;34m(data, index)\u001b[0m\n\u001b[1;32m    745\u001b[0m     \"\"\"\n\u001b[1;32m    746\u001b[0m     \u001b[0;32mif\u001b[0m \u001b[0mlen\u001b[0m\u001b[0;34m(\u001b[0m\u001b[0mdata\u001b[0m\u001b[0;34m)\u001b[0m \u001b[0;34m!=\u001b[0m \u001b[0mlen\u001b[0m\u001b[0;34m(\u001b[0m\u001b[0mindex\u001b[0m\u001b[0;34m)\u001b[0m\u001b[0;34m:\u001b[0m\u001b[0;34m\u001b[0m\u001b[0;34m\u001b[0m\u001b[0m\n\u001b[0;32m--> 747\u001b[0;31m         raise ValueError(\n\u001b[0m\u001b[1;32m    748\u001b[0m             \u001b[0;34m\"Length of values \"\u001b[0m\u001b[0;34m\u001b[0m\u001b[0;34m\u001b[0m\u001b[0m\n\u001b[1;32m    749\u001b[0m             \u001b[0;34mf\"({len(data)}) \"\u001b[0m\u001b[0;34m\u001b[0m\u001b[0;34m\u001b[0m\u001b[0m\n",
      "\u001b[0;31mValueError\u001b[0m: Length of values (10) does not match length of index (2788)"
     ]
    }
   ],
   "source": [
    "coef_table = pd.DataFrame(pca_df)\n",
    "coef_table.insert(len(coef_table.columns),\"Coefs\", model.coef_.transpose())"
   ]
  },
  {
   "cell_type": "code",
   "execution_count": 1,
   "metadata": {},
   "outputs": [
    {
     "ename": "NameError",
     "evalue": "name 'tf' is not defined",
     "output_type": "error",
     "traceback": [
      "\u001b[0;31m---------------------------------------------------------------------------\u001b[0m",
      "\u001b[0;31mNameError\u001b[0m                                 Traceback (most recent call last)",
      "\u001b[0;32m<ipython-input-1-397f4a0080d8>\u001b[0m in \u001b[0;36m<module>\u001b[0;34m\u001b[0m\n\u001b[0;32m----> 1\u001b[0;31m \u001b[0my_tensor\u001b[0m \u001b[0;34m=\u001b[0m \u001b[0mtf\u001b[0m\u001b[0;34m.\u001b[0m\u001b[0mconvert_to_tensor\u001b[0m\u001b[0;34m(\u001b[0m\u001b[0mX_train\u001b[0m\u001b[0;34m,\u001b[0m \u001b[0mdtype\u001b[0m\u001b[0;34m=\u001b[0m\u001b[0mtf\u001b[0m\u001b[0;34m.\u001b[0m\u001b[0mint64\u001b[0m\u001b[0;34m)\u001b[0m\u001b[0;34m\u001b[0m\u001b[0;34m\u001b[0m\u001b[0m\n\u001b[0m",
      "\u001b[0;31mNameError\u001b[0m: name 'tf' is not defined"
     ]
    }
   ],
   "source": []
  },
  {
   "cell_type": "code",
   "execution_count": 276,
   "metadata": {},
   "outputs": [
    {
     "data": {
      "text/html": [
       "<div>\n",
       "<style scoped>\n",
       "    .dataframe tbody tr th:only-of-type {\n",
       "        vertical-align: middle;\n",
       "    }\n",
       "\n",
       "    .dataframe tbody tr th {\n",
       "        vertical-align: top;\n",
       "    }\n",
       "\n",
       "    .dataframe thead th {\n",
       "        text-align: right;\n",
       "    }\n",
       "</style>\n",
       "<table border=\"1\" class=\"dataframe\">\n",
       "  <thead>\n",
       "    <tr style=\"text-align: right;\">\n",
       "      <th></th>\n",
       "      <th>0</th>\n",
       "      <th>Coefs</th>\n",
       "    </tr>\n",
       "  </thead>\n",
       "  <tbody>\n",
       "    <tr>\n",
       "      <th>0</th>\n",
       "      <td>polarity</td>\n",
       "      <td>-40.884744</td>\n",
       "    </tr>\n",
       "    <tr>\n",
       "      <th>28465</th>\n",
       "      <td>means something</td>\n",
       "      <td>-2.235309</td>\n",
       "    </tr>\n",
       "    <tr>\n",
       "      <th>13054</th>\n",
       "      <td>one time</td>\n",
       "      <td>-2.218298</td>\n",
       "    </tr>\n",
       "    <tr>\n",
       "      <th>25925</th>\n",
       "      <td>guys feel</td>\n",
       "      <td>-2.211709</td>\n",
       "    </tr>\n",
       "    <tr>\n",
       "      <th>8894</th>\n",
       "      <td>hes ever</td>\n",
       "      <td>-2.206047</td>\n",
       "    </tr>\n",
       "    <tr>\n",
       "      <th>...</th>\n",
       "      <td>...</td>\n",
       "      <td>...</td>\n",
       "    </tr>\n",
       "    <tr>\n",
       "      <th>8332</th>\n",
       "      <td>heart attack</td>\n",
       "      <td>1.694961</td>\n",
       "    </tr>\n",
       "    <tr>\n",
       "      <th>5292</th>\n",
       "      <td>dont anything</td>\n",
       "      <td>1.722159</td>\n",
       "    </tr>\n",
       "    <tr>\n",
       "      <th>3464</th>\n",
       "      <td>chest pain</td>\n",
       "      <td>1.747430</td>\n",
       "    </tr>\n",
       "    <tr>\n",
       "      <th>27905</th>\n",
       "      <td>long go</td>\n",
       "      <td>1.955540</td>\n",
       "    </tr>\n",
       "    <tr>\n",
       "      <th>6221</th>\n",
       "      <td>everyone around</td>\n",
       "      <td>2.028010</td>\n",
       "    </tr>\n",
       "  </tbody>\n",
       "</table>\n",
       "<p>34789 rows × 2 columns</p>\n",
       "</div>"
      ],
      "text/plain": [
       "                     0      Coefs\n",
       "0             polarity -40.884744\n",
       "28465  means something  -2.235309\n",
       "13054         one time  -2.218298\n",
       "25925        guys feel  -2.211709\n",
       "8894          hes ever  -2.206047\n",
       "...                ...        ...\n",
       "8332      heart attack   1.694961\n",
       "5292     dont anything   1.722159\n",
       "3464        chest pain   1.747430\n",
       "27905          long go   1.955540\n",
       "6221   everyone around   2.028010\n",
       "\n",
       "[34789 rows x 2 columns]"
      ]
     },
     "execution_count": 276,
     "metadata": {},
     "output_type": "execute_result"
    }
   ],
   "source": [
    "coef_table.sort_values(\"Coefs\")\n"
   ]
  },
  {
   "cell_type": "code",
   "execution_count": null,
   "metadata": {},
   "outputs": [],
   "source": []
  }
 ],
 "metadata": {
  "kernelspec": {
   "display_name": "Python 3",
   "language": "python",
   "name": "python3"
  },
  "language_info": {
   "codemirror_mode": {
    "name": "ipython",
    "version": 3
   },
   "file_extension": ".py",
   "mimetype": "text/x-python",
   "name": "python",
   "nbconvert_exporter": "python",
   "pygments_lexer": "ipython3",
   "version": "3.8.3"
  }
 },
 "nbformat": 4,
 "nbformat_minor": 4
}
