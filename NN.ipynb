{
 "cells": [
  {
   "cell_type": "code",
   "execution_count": 95,
   "metadata": {},
   "outputs": [],
   "source": [
    "import nltk\n",
    "from nltk.corpus import brown\n",
    "from nltk.data import find\n",
    "import numpy as np\n",
    "import pandas as pd\n",
    "import tensorflow as tf\n",
    "from tensorflow.keras.layers import Embedding, Input, Dense, Lambda\n",
    "from tensorflow.keras.models import Model\n",
    "from gensim.models import Word2Vec"
   ]
  },
  {
   "cell_type": "code",
   "execution_count": 96,
   "metadata": {},
   "outputs": [],
   "source": [
    "df = pd.read_csv('data/NN_Data.csv').drop(columns=['Unnamed: 0'])\n",
    "df[\"no_punct\"] = df['text'].str.replace('[^\\w\\s]','')\n",
    "df['str_list'] = df.no_punct.apply(lambda s: s.split(' '))"
   ]
  },
  {
   "cell_type": "code",
   "execution_count": 97,
   "metadata": {},
   "outputs": [],
   "source": [
    "m = Word2Vec(df['str_list'].tolist(), min_count=1, vector_size = 300,workers=3, window =3, sg = 1)"
   ]
  },
  {
   "cell_type": "code",
   "execution_count": 98,
   "metadata": {},
   "outputs": [],
   "source": [
    "word_vectors = m.wv"
   ]
  },
  {
   "cell_type": "code",
   "execution_count": 99,
   "metadata": {},
   "outputs": [],
   "source": [
    "word_vectors.save('vectors.kv')\n",
    "model = gensim.models.KeyedVectors.load('vectors.kv')"
   ]
  },
  {
   "cell_type": "code",
   "execution_count": 100,
   "metadata": {},
   "outputs": [
    {
     "data": {
      "text/plain": [
       "<gensim.models.keyedvectors.KeyedVectors at 0x7fbb8d34cb50>"
      ]
     },
     "execution_count": 100,
     "metadata": {},
     "output_type": "execute_result"
    }
   ],
   "source": [
    "word_vectors"
   ]
  },
  {
   "cell_type": "code",
   "execution_count": 86,
   "metadata": {},
   "outputs": [
    {
     "data": {
      "text/plain": [
       "array([-1.21559866e-01,  3.10608387e-01, -7.96706006e-02,  2.87860394e-01,\n",
       "       -4.36797142e-01, -2.14242652e-01,  3.16138923e-01,  3.97187501e-01,\n",
       "        3.93480249e-02, -1.44469693e-01,  2.98315048e-01, -3.73451263e-02,\n",
       "       -1.29558563e-01,  2.43326779e-02, -2.64992863e-01, -6.85425475e-02,\n",
       "        2.84688771e-01,  3.80410366e-02,  5.98975597e-03, -1.43221721e-01,\n",
       "        8.87219608e-02,  1.34182721e-01,  9.82196182e-02,  1.82634547e-01,\n",
       "        2.53480732e-01, -1.19472854e-01, -3.41972858e-01, -1.60899043e-01,\n",
       "       -4.90151137e-01, -3.60178500e-01,  8.71084072e-03, -3.99327688e-02,\n",
       "        2.75830775e-01, -3.07274669e-01, -2.17069030e-01,  4.45033088e-02,\n",
       "        1.30309686e-01, -2.01842129e-01, -1.20238073e-01, -2.50188380e-01,\n",
       "       -3.94649565e-01, -6.53673336e-02, -3.82278293e-01, -1.19391784e-01,\n",
       "        1.85716301e-01,  1.81374446e-01, -4.78640720e-02,  3.35687518e-01,\n",
       "        4.04683411e-01,  1.37748465e-01,  1.71608493e-01,  1.46581270e-02,\n",
       "       -3.60404551e-02,  2.29885459e-01,  1.05667017e-01,  2.28785276e-01,\n",
       "        3.04981112e-01, -1.25511870e-01,  2.23523185e-01,  1.92278221e-01,\n",
       "       -9.71908122e-02,  1.40668005e-01,  3.10893543e-02, -1.74912199e-01,\n",
       "       -1.53982833e-01,  3.75578642e-01, -3.23129982e-01, -2.94388216e-02,\n",
       "       -2.78415054e-01, -1.65503979e-01,  7.73310587e-02,  6.02420419e-02,\n",
       "        6.14264682e-02, -3.01145107e-01,  2.11680785e-01,  1.49495393e-01,\n",
       "       -3.45860980e-02,  1.59750164e-01, -8.39921534e-02,  1.54354051e-02,\n",
       "       -2.71798044e-01,  9.65643823e-02, -3.75465155e-02,  5.00210404e-01,\n",
       "        5.01518957e-02, -1.72667373e-02,  4.07012291e-02,  2.23829914e-02,\n",
       "        1.89838007e-01,  1.87572286e-01,  1.08286634e-01,  9.85000953e-02,\n",
       "        3.71225141e-02,  4.77847345e-02,  3.73240590e-01,  4.31760103e-01,\n",
       "        8.79676789e-02, -1.27742916e-01,  7.07084537e-02,  1.53846860e-01,\n",
       "       -2.08572581e-01,  1.53793350e-01,  2.91737169e-01,  2.38804221e-01,\n",
       "       -1.10678328e-02, -2.05500901e-01,  1.35564536e-01,  2.25109830e-01,\n",
       "       -2.97170371e-01, -1.54738441e-01,  1.63956210e-01, -1.96097419e-01,\n",
       "        3.51297446e-02,  9.67994854e-02,  1.36801666e-02,  2.21301734e-01,\n",
       "        2.97954470e-01,  2.01258466e-01,  6.10105023e-02, -2.60922372e-01,\n",
       "        2.36074314e-01, -2.87148595e-01,  3.85719031e-01, -1.31463408e-01,\n",
       "        6.99091703e-03,  2.46367469e-01,  7.49719422e-03,  9.27662253e-02,\n",
       "        4.33855653e-02,  3.36374789e-01, -4.77967858e-02,  7.98911303e-02,\n",
       "        1.47402823e-01, -3.69049191e-01,  1.05886996e-01,  3.71613875e-02,\n",
       "        1.91395611e-01, -1.76259968e-02,  1.63884033e-02, -8.95786565e-03,\n",
       "        1.10545516e-01, -1.30363554e-01, -1.36254653e-01,  2.57897258e-01,\n",
       "        5.62236495e-02,  1.72318682e-01, -3.26515501e-03, -3.29350621e-01,\n",
       "        1.74355313e-01,  4.23918255e-02,  2.50404924e-01, -4.31614637e-01,\n",
       "        3.50647978e-02,  3.34323607e-02,  6.82265535e-02,  5.96972145e-02,\n",
       "       -6.78699240e-02,  7.25902710e-03, -4.30703685e-02,  5.82374156e-01,\n",
       "       -2.17205644e-01, -1.43512979e-01, -3.83689612e-01, -6.53911009e-02,\n",
       "       -8.60072225e-02,  1.52147233e-01,  5.30140623e-02, -6.18685642e-03,\n",
       "        8.46752375e-02,  4.36626911e-01, -2.67089128e-01, -3.74544598e-03,\n",
       "        7.40191415e-02, -4.06901501e-02,  3.25588584e-02,  7.60862008e-02,\n",
       "       -2.04109013e-01, -2.06891224e-01,  1.67549048e-02,  4.96258028e-02,\n",
       "       -2.01940194e-01,  1.59949422e-01, -1.40397370e-01, -2.23291352e-01,\n",
       "       -1.30505964e-01,  4.94490899e-02,  2.03751922e-01, -3.43423150e-02,\n",
       "        2.19909653e-01, -1.87000483e-01,  4.00890457e-03,  9.04711559e-02,\n",
       "       -1.51520610e-01, -1.02045424e-01, -1.09280627e-02, -2.40954295e-01,\n",
       "        1.81536805e-02,  7.71824941e-02,  5.76669909e-02,  2.02581048e-01,\n",
       "       -2.74396002e-01, -1.55095086e-01, -3.31006378e-01, -1.01715885e-02,\n",
       "        2.26269811e-01,  3.34100127e-01, -1.86195970e-01,  7.21783489e-02,\n",
       "       -5.52485175e-02,  1.55770257e-01,  7.63528934e-03, -2.37682000e-01,\n",
       "        4.41978037e-01, -8.62419419e-03,  5.01604751e-02, -1.88201964e-01,\n",
       "       -4.61343788e-02, -8.73918533e-02, -4.63462830e-01, -4.04673725e-01,\n",
       "       -2.03035660e-02, -2.42710695e-01, -2.65691429e-01, -3.20342839e-01,\n",
       "       -5.11318445e-04, -1.94546103e-01,  1.28784537e-01,  1.22529209e-01,\n",
       "       -2.34903783e-01,  1.28537133e-01,  1.60618976e-01, -1.11083090e-01,\n",
       "       -1.51932716e-01,  1.57843754e-02, -1.88648000e-01, -3.51797082e-02,\n",
       "       -4.15171608e-02, -8.98711532e-02, -4.95635159e-02, -2.85994858e-01,\n",
       "       -2.02184096e-01, -1.08276203e-01,  8.77124369e-02,  9.71434563e-02,\n",
       "        1.79611077e-03, -2.54130155e-01, -3.99064925e-03, -4.32462730e-02,\n",
       "        6.66968599e-02, -2.45677996e-02,  2.50612110e-01,  3.33395274e-03,\n",
       "       -5.35818711e-02, -6.84875250e-02, -1.81485295e-01, -1.41500741e-01,\n",
       "        1.14636600e-01, -2.93204617e-02, -2.55657166e-01, -2.18176827e-01,\n",
       "        2.39948198e-01,  9.31050479e-02,  3.62690866e-01, -2.50622600e-01,\n",
       "       -3.30505848e-01,  1.96650460e-01,  1.63839571e-02,  9.86057296e-02,\n",
       "       -4.29785401e-01, -9.52797756e-02, -9.77846906e-02,  2.90912241e-01,\n",
       "        1.20833730e-02, -1.57531887e-01,  6.74300715e-02,  2.27918535e-01,\n",
       "        1.97180942e-01,  2.10222915e-01, -3.49351972e-01, -1.94191426e-01,\n",
       "        1.62625581e-01, -1.89256519e-01, -2.80197293e-01,  1.82743683e-01,\n",
       "        1.08472466e-01,  1.17351815e-01, -2.25930303e-01,  9.08413902e-02,\n",
       "        3.69303226e-01, -2.41371095e-02, -7.18832538e-02,  4.42940056e-01,\n",
       "        1.04035378e-01, -2.24912167e-02,  4.75070477e-01,  1.81499451e-01,\n",
       "        3.36780213e-02, -9.33546871e-02,  3.16522896e-01, -2.40336165e-01],\n",
       "      dtype=float32)"
      ]
     },
     "execution_count": 86,
     "metadata": {},
     "output_type": "execute_result"
    }
   ],
   "source": [
    "#len(m.wv)\n",
    "\n",
    "model[0]\n",
    "-0.12155986577272415"
   ]
  },
  {
   "cell_type": "code",
   "execution_count": 101,
   "metadata": {},
   "outputs": [
    {
     "ename": "AttributeError",
     "evalue": "'KeyedVectors' object has no attribute 'keys'",
     "output_type": "error",
     "traceback": [
      "\u001b[0;31m---------------------------------------------------------------------------\u001b[0m",
      "\u001b[0;31mAttributeError\u001b[0m                            Traceback (most recent call last)",
      "\u001b[0;32m<ipython-input-101-1a862c15d73d>\u001b[0m in \u001b[0;36m<module>\u001b[0;34m\u001b[0m\n\u001b[1;32m      6\u001b[0m \u001b[0;34m\u001b[0m\u001b[0m\n\u001b[1;32m      7\u001b[0m \u001b[0;31m# build the embedding matrix and the word-to-id map:\u001b[0m\u001b[0;34m\u001b[0m\u001b[0;34m\u001b[0m\u001b[0;34m\u001b[0m\u001b[0m\n\u001b[0;32m----> 8\u001b[0;31m \u001b[0;32mfor\u001b[0m \u001b[0mi\u001b[0m\u001b[0;34m,\u001b[0m \u001b[0mword\u001b[0m \u001b[0;32min\u001b[0m \u001b[0menumerate\u001b[0m\u001b[0;34m(\u001b[0m\u001b[0mmodel\u001b[0m\u001b[0;34m.\u001b[0m\u001b[0mkeys\u001b[0m\u001b[0;34m(\u001b[0m\u001b[0;34m)\u001b[0m\u001b[0;34m)\u001b[0m\u001b[0;34m:\u001b[0m\u001b[0;34m\u001b[0m\u001b[0;34m\u001b[0m\u001b[0m\n\u001b[0m\u001b[1;32m      9\u001b[0m     \u001b[0membedding_vector\u001b[0m \u001b[0;34m=\u001b[0m \u001b[0mmodel\u001b[0m\u001b[0;34m.\u001b[0m\u001b[0mkey_to_index\u001b[0m\u001b[0;34m[\u001b[0m\u001b[0mword\u001b[0m\u001b[0;34m]\u001b[0m\u001b[0;34m\u001b[0m\u001b[0;34m\u001b[0m\u001b[0m\n\u001b[1;32m     10\u001b[0m     \u001b[0;32mif\u001b[0m \u001b[0membedding_vector\u001b[0m \u001b[0;32mis\u001b[0m \u001b[0;32mnot\u001b[0m \u001b[0;32mNone\u001b[0m\u001b[0;34m:\u001b[0m\u001b[0;34m\u001b[0m\u001b[0;34m\u001b[0m\u001b[0m\n",
      "\u001b[0;31mAttributeError\u001b[0m: 'KeyedVectors' object has no attribute 'keys'"
     ]
    }
   ],
   "source": [
    "EMBEDDING_DIM = len(model['heart'])      # we know... it's 300\n",
    "\n",
    "# initialize embedding matrix and word-to-id map:\n",
    "embedding_matrix = np.zeros((len(model) + 1, EMBEDDING_DIM))       \n",
    "vocab_dict = {}\n",
    "\n",
    "# build the embedding matrix and the word-to-id map:\n",
    "for i, word in enumerate(model.keys()):\n",
    "    embedding_vector = model.key_to_index[word]\n",
    "    if embedding_vector is not None:\n",
    "        # words not found in embedding index will be all-zeros.\n",
    "        embedding_matrix[i] = embedding_vector\n",
    "        vocab_dict[word] = i"
   ]
  },
  {
   "cell_type": "code",
   "execution_count": 102,
   "metadata": {},
   "outputs": [
    {
     "name": "stdout",
     "output_type": "stream",
     "text": [
      "Name: gensim\r\n",
      "Version: 4.0.1\r\n",
      "Summary: Python framework for fast Vector Space Modelling\r\n",
      "Home-page: http://radimrehurek.com/gensim\r\n",
      "Author: Radim Rehurek\r\n",
      "Author-email: me@radimrehurek.com\r\n",
      "License: LGPL-2.1-only\r\n",
      "Location: /Users/swethapola/opt/anaconda3/lib/python3.8/site-packages\r\n",
      "Requires: scipy, smart-open, numpy\r\n",
      "Required-by: \r\n"
     ]
    }
   ],
   "source": [
    "!pip show gensim"
   ]
  },
  {
   "cell_type": "code",
   "execution_count": 103,
   "metadata": {},
   "outputs": [
    {
     "ename": "AttributeError",
     "evalue": "'KeyedVectors' object has no attribute 'keys'",
     "output_type": "error",
     "traceback": [
      "\u001b[0;31m---------------------------------------------------------------------------\u001b[0m",
      "\u001b[0;31mAttributeError\u001b[0m                            Traceback (most recent call last)",
      "\u001b[0;32m<ipython-input-103-de53ee141956>\u001b[0m in \u001b[0;36m<module>\u001b[0;34m\u001b[0m\n\u001b[0;32m----> 1\u001b[0;31m \u001b[0mmodel\u001b[0m\u001b[0;34m.\u001b[0m\u001b[0mkeys\u001b[0m\u001b[0;34m(\u001b[0m\u001b[0;34m)\u001b[0m\u001b[0;34m\u001b[0m\u001b[0;34m\u001b[0m\u001b[0m\n\u001b[0m",
      "\u001b[0;31mAttributeError\u001b[0m: 'KeyedVectors' object has no attribute 'keys'"
     ]
    }
   ],
   "source": [
    "model.keys()"
   ]
  },
  {
   "cell_type": "code",
   "execution_count": 114,
   "metadata": {},
   "outputs": [
    {
     "ename": "AttributeError",
     "evalue": "The vocab attribute was removed from KeyedVector in Gensim 4.0.0.\nUse KeyedVector's .key_to_index dict, .index_to_key list, and methods .get_vecattr(key, attr) and .set_vecattr(key, attr, new_val) instead.\nSee https://github.com/RaRe-Technologies/gensim/wiki/Migrating-from-Gensim-3.x-to-4",
     "output_type": "error",
     "traceback": [
      "\u001b[0;31m---------------------------------------------------------------------------\u001b[0m",
      "\u001b[0;31mAttributeError\u001b[0m                            Traceback (most recent call last)",
      "\u001b[0;32m<ipython-input-114-a5d1d06815b3>\u001b[0m in \u001b[0;36m<module>\u001b[0;34m\u001b[0m\n\u001b[0;32m----> 1\u001b[0;31m \u001b[0mwords\u001b[0m \u001b[0;34m=\u001b[0m \u001b[0mlist\u001b[0m\u001b[0;34m(\u001b[0m\u001b[0mm\u001b[0m\u001b[0;34m.\u001b[0m\u001b[0mwv\u001b[0m\u001b[0;34m.\u001b[0m\u001b[0mvocab\u001b[0m\u001b[0;34m)\u001b[0m\u001b[0;34m\u001b[0m\u001b[0;34m\u001b[0m\u001b[0m\n\u001b[0m",
      "\u001b[0;32m~/opt/anaconda3/lib/python3.8/site-packages/gensim/models/keyedvectors.py\u001b[0m in \u001b[0;36mvocab\u001b[0;34m(self)\u001b[0m\n\u001b[1;32m    643\u001b[0m     \u001b[0;34m@\u001b[0m\u001b[0mproperty\u001b[0m\u001b[0;34m\u001b[0m\u001b[0;34m\u001b[0m\u001b[0m\n\u001b[1;32m    644\u001b[0m     \u001b[0;32mdef\u001b[0m \u001b[0mvocab\u001b[0m\u001b[0;34m(\u001b[0m\u001b[0mself\u001b[0m\u001b[0;34m)\u001b[0m\u001b[0;34m:\u001b[0m\u001b[0;34m\u001b[0m\u001b[0;34m\u001b[0m\u001b[0m\n\u001b[0;32m--> 645\u001b[0;31m         raise AttributeError(\n\u001b[0m\u001b[1;32m    646\u001b[0m             \u001b[0;34m\"The vocab attribute was removed from KeyedVector in Gensim 4.0.0.\\n\"\u001b[0m\u001b[0;34m\u001b[0m\u001b[0;34m\u001b[0m\u001b[0m\n\u001b[1;32m    647\u001b[0m             \u001b[0;34m\"Use KeyedVector's .key_to_index dict, .index_to_key list, and methods \"\u001b[0m\u001b[0;34m\u001b[0m\u001b[0;34m\u001b[0m\u001b[0m\n",
      "\u001b[0;31mAttributeError\u001b[0m: The vocab attribute was removed from KeyedVector in Gensim 4.0.0.\nUse KeyedVector's .key_to_index dict, .index_to_key list, and methods .get_vecattr(key, attr) and .set_vecattr(key, attr, new_val) instead.\nSee https://github.com/RaRe-Technologies/gensim/wiki/Migrating-from-Gensim-3.x-to-4"
     ]
    }
   ],
   "source": [
    "words = list(m.wv.vocab)\n"
   ]
  },
  {
   "cell_type": "code",
   "execution_count": 110,
   "metadata": {},
   "outputs": [
    {
     "data": {
      "text/plain": [
       "<gensim.models.word2vec.Word2Vec at 0x7fbb863556d0>"
      ]
     },
     "execution_count": 110,
     "metadata": {},
     "output_type": "execute_result"
    }
   ],
   "source": []
  },
  {
   "cell_type": "code",
   "execution_count": null,
   "metadata": {},
   "outputs": [],
   "source": []
  }
 ],
 "metadata": {
  "kernelspec": {
   "display_name": "Python 3",
   "language": "python",
   "name": "python3"
  },
  "language_info": {
   "codemirror_mode": {
    "name": "ipython",
    "version": 3
   },
   "file_extension": ".py",
   "mimetype": "text/x-python",
   "name": "python",
   "nbconvert_exporter": "python",
   "pygments_lexer": "ipython3",
   "version": "3.8.5"
  }
 },
 "nbformat": 4,
 "nbformat_minor": 4
}
